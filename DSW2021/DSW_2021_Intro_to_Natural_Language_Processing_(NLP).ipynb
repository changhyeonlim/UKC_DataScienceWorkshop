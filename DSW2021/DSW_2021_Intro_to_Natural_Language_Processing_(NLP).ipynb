{
  "cells": [
    {
      "cell_type": "markdown",
      "metadata": {
        "id": "kLK5FZJx8ljZ"
      },
      "source": [
        "Data Science Workshop at US-Korea Conference 2021, December 15, 2021, 2-5pm PDT\n",
        "\n",
        "\n",
        "## Session 3: Special Topic Overview\n",
        "# *Introduction to Natural Language Processing (NLP)*\n",
        "\n",
        "### Instructor and Code Author: Amy Han\n",
        "### Edited by: Sam Lim"
      ]
    },
    {
      "cell_type": "markdown",
      "metadata": {
        "id": "O6q6pZx39Y7Q"
      },
      "source": [
        "Resources:\n",
        "\n",
        "https://www.kaggle.com/septa97/100k-courseras-course-reviews-dataset/code\n",
        "\n",
        "https://towardsdatascience.com/a-beginners-guide-to-sentiment-analysis-in-python-95e354ea84f6 \n",
        "\n",
        "https://www.kaggle.com/bezrukov/coursera-analysis-of-ratings-and-reviews \n",
        "\n",
        "https://medium.com/@ethannam/understanding-the-levenshtein-distance-equation-for-beginners-c4285a5604f0 \n",
        "\n",
        "\n"
      ]
    },
    {
      "cell_type": "markdown",
      "metadata": {
        "id": "y_pvZjbn9vFo"
      },
      "source": [
        "### **Pre-Exercise 1:** Save a Copy\n",
        "Make a copy of this notebook to your own local drive from the menu at top:\n",
        "* Click \"Copy to Drive\" button or\n",
        "* Click \"File\" -> \"Save a copy in Drive\"\n",
        "* Verify new file name at top begins with \"Copy of \"\n",
        "\n",
        "To test if you made a copy successfully run the code below.\n",
        "\n",
        "If you get a warning that says \"**Warning: This notebook was not authored by Google.**\" then you did not successfully save a copy. Click Cancel and try again."
      ]
    },
    {
      "cell_type": "code",
      "execution_count": 1,
      "metadata": {
        "id": "Kb40fmB--Djl",
        "colab": {
          "base_uri": "https://localhost:8080/"
        },
        "outputId": "048b25f6-850c-4e2c-cfc0-075ad4d8d122"
      },
      "outputs": [
        {
          "output_type": "stream",
          "name": "stdout",
          "text": [
            "Hello World\n"
          ]
        }
      ],
      "source": [
        "print('Hello World')"
      ]
    },
    {
      "cell_type": "markdown",
      "metadata": {
        "id": "KiL_7jXq1YXz"
      },
      "source": [
        "* If successful, you may close the other tab with the master copy file."
      ]
    },
    {
      "cell_type": "markdown",
      "metadata": {
        "id": "JKblxJ4xS5wY"
      },
      "source": [
        ">**Stop for Zoom Poll:** Once you have completed this step please answer the task completion poll (1 min)."
      ]
    },
    {
      "cell_type": "markdown",
      "metadata": {
        "id": "aIeobAGi1cXS"
      },
      "source": [
        "---"
      ]
    },
    {
      "cell_type": "markdown",
      "metadata": {
        "id": "Rw95s3mhBo6_"
      },
      "source": [
        "## A. What Are Packages?\n",
        "\n"
      ]
    },
    {
      "cell_type": "markdown",
      "metadata": {
        "id": "smsak1u_A2k2"
      },
      "source": [
        "- **pandas** is a package in Python that helps to handle lots of data. It helps to sort and clean the data. Some highlights:\n",
        "\n",
        " - Easy handling of *missing data* (represented as NaN) in floating point as well as non-floating point data\n",
        " - Size mutability: columns can be *inserted and deleted* from DataFrame and higher dimensional objects\n",
        " - Intelligent *label-based slicing*, *fancy indexing*, and *subsetting* of large data sets\n",
        " - Intuitive *merging* and *joining* data sets\n",
        " - Flexible *reshaping* and *pivoting* of data sets\n",
        "- **numpy** is a package that defines a multi-dimensional array object.\n",
        "- **matplotlib** produces quality 2D graphics\n",
        "- **seaborn** is a library for making statistical graphics\n",
        "\n",
        "Let's import or include some libraries"
      ]
    },
    {
      "cell_type": "code",
      "execution_count": 41,
      "metadata": {
        "id": "1yM1vI3ZB0-D",
        "colab": {
          "base_uri": "https://localhost:8080/",
          "height": 277
        },
        "outputId": "48cee2a7-623c-44a5-e2a5-9873b51785e4"
      },
      "outputs": [
        {
          "output_type": "stream",
          "name": "stdout",
          "text": [
            "Looking in indexes: https://pypi.org/simple, https://us-python.pkg.dev/colab-wheels/public/simple/\n",
            "Collecting pyyaml==5.4.1\n",
            "  Downloading PyYAML-5.4.1-cp37-cp37m-manylinux1_x86_64.whl (636 kB)\n",
            "\u001b[K     |████████████████████████████████| 636 kB 11.3 MB/s \n",
            "\u001b[?25hInstalling collected packages: pyyaml\n",
            "  Attempting uninstall: pyyaml\n",
            "    Found existing installation: PyYAML 6.0\n",
            "    Uninstalling PyYAML-6.0:\n",
            "      Successfully uninstalled PyYAML-6.0\n",
            "Successfully installed pyyaml-5.4.1\n"
          ]
        },
        {
          "output_type": "display_data",
          "data": {
            "application/vnd.colab-display-data+json": {
              "pip_warning": {
                "packages": [
                  "yaml"
                ]
              }
            }
          },
          "metadata": {}
        }
      ],
      "source": [
        "!pip install pyyaml==5.4.1\n",
        "\n",
        "import pandas as pd # the pd is by convention\n",
        "import numpy as np # as is the np\n",
        "\n",
        "import matplotlib.pyplot as plt\n",
        "import seaborn as sns\n",
        "# To Plot matplotlib figures inline on the notebook\n",
        "%matplotlib inline\n",
        "pd.set_option(\"max_rows\", 20)\n",
        "pd.set_option('max_columns', None)"
      ]
    },
    {
      "cell_type": "markdown",
      "metadata": {
        "id": "zE7jlCG-B6Ac"
      },
      "source": [
        "Let's get started with a sample data."
      ]
    },
    {
      "cell_type": "markdown",
      "metadata": {
        "id": "96nI3-CS1gtm"
      },
      "source": [
        "---"
      ]
    },
    {
      "cell_type": "markdown",
      "metadata": {
        "id": "L4pPmbBdBigF"
      },
      "source": [
        "## B. Reading Data"
      ]
    },
    {
      "cell_type": "markdown",
      "metadata": {
        "id": "7IPRCRlICCfo"
      },
      "source": [
        "Data Description:\n",
        "\n",
        "Author webscrapped the website of Coursera and pre-labelled the data set depending on the rating (5 star rating, the review was labelled as Very positive, positive for , Neutral for 3, Negative for 2, and very Negative for 1 star rating). \n",
        "\n",
        "Data obtained from kaggle: https://www.kaggle.com/roshansharma/coursera-course-reviews/data\n",
        "\n",
        "\n",
        "**reviews_by_course.csv**\n",
        "\n",
        "CourseId - The course tag. This is in the URL of the course in the Coursera website. For example, in this URL, machine-learning would be the course tag.\n",
        "\n",
        "Review - A review in a specific course.\n",
        "\n",
        "Label - The rating of the course review."
      ]
    },
    {
      "cell_type": "markdown",
      "metadata": {
        "id": "rLamCQVXC9_f"
      },
      "source": [
        "##### To begin with, we're now going to read this data from the CSV file into our Python notebook to work with"
      ]
    },
    {
      "cell_type": "code",
      "execution_count": 3,
      "metadata": {
        "id": "Djk_pJdbEnnx"
      },
      "outputs": [],
      "source": [
        "import pandas as pd\n",
        "url=\"https://raw.githubusercontent.com/ahan02/DSW_UKC_2021/main/data/reviews_by_course.csv\"\n",
        "reviews_by_course = pd.read_csv(url)"
      ]
    },
    {
      "cell_type": "code",
      "execution_count": 4,
      "metadata": {
        "id": "GYF5dBcYEtJs",
        "colab": {
          "base_uri": "https://localhost:8080/",
          "height": 206
        },
        "outputId": "e193ae4a-b91a-4027-ff8c-151e315f49df"
      },
      "outputs": [
        {
          "output_type": "execute_result",
          "data": {
            "text/plain": [
              "     CourseId                                             Review  Label\n",
              "0  2-speed-it                                             BOring      1\n",
              "1  2-speed-it                                            Bravo !      5\n",
              "2  2-speed-it                                           Very goo      5\n",
              "3  2-speed-it  Great course - I recommend it for all, especia...      5\n",
              "4  2-speed-it    One of the most useful course on IT Management!      5"
            ],
            "text/html": [
              "\n",
              "  <div id=\"df-b7c00f17-c5c6-49e6-bc2b-c351e11d4a53\">\n",
              "    <div class=\"colab-df-container\">\n",
              "      <div>\n",
              "<style scoped>\n",
              "    .dataframe tbody tr th:only-of-type {\n",
              "        vertical-align: middle;\n",
              "    }\n",
              "\n",
              "    .dataframe tbody tr th {\n",
              "        vertical-align: top;\n",
              "    }\n",
              "\n",
              "    .dataframe thead th {\n",
              "        text-align: right;\n",
              "    }\n",
              "</style>\n",
              "<table border=\"1\" class=\"dataframe\">\n",
              "  <thead>\n",
              "    <tr style=\"text-align: right;\">\n",
              "      <th></th>\n",
              "      <th>CourseId</th>\n",
              "      <th>Review</th>\n",
              "      <th>Label</th>\n",
              "    </tr>\n",
              "  </thead>\n",
              "  <tbody>\n",
              "    <tr>\n",
              "      <th>0</th>\n",
              "      <td>2-speed-it</td>\n",
              "      <td>BOring</td>\n",
              "      <td>1</td>\n",
              "    </tr>\n",
              "    <tr>\n",
              "      <th>1</th>\n",
              "      <td>2-speed-it</td>\n",
              "      <td>Bravo !</td>\n",
              "      <td>5</td>\n",
              "    </tr>\n",
              "    <tr>\n",
              "      <th>2</th>\n",
              "      <td>2-speed-it</td>\n",
              "      <td>Very goo</td>\n",
              "      <td>5</td>\n",
              "    </tr>\n",
              "    <tr>\n",
              "      <th>3</th>\n",
              "      <td>2-speed-it</td>\n",
              "      <td>Great course - I recommend it for all, especia...</td>\n",
              "      <td>5</td>\n",
              "    </tr>\n",
              "    <tr>\n",
              "      <th>4</th>\n",
              "      <td>2-speed-it</td>\n",
              "      <td>One of the most useful course on IT Management!</td>\n",
              "      <td>5</td>\n",
              "    </tr>\n",
              "  </tbody>\n",
              "</table>\n",
              "</div>\n",
              "      <button class=\"colab-df-convert\" onclick=\"convertToInteractive('df-b7c00f17-c5c6-49e6-bc2b-c351e11d4a53')\"\n",
              "              title=\"Convert this dataframe to an interactive table.\"\n",
              "              style=\"display:none;\">\n",
              "        \n",
              "  <svg xmlns=\"http://www.w3.org/2000/svg\" height=\"24px\"viewBox=\"0 0 24 24\"\n",
              "       width=\"24px\">\n",
              "    <path d=\"M0 0h24v24H0V0z\" fill=\"none\"/>\n",
              "    <path d=\"M18.56 5.44l.94 2.06.94-2.06 2.06-.94-2.06-.94-.94-2.06-.94 2.06-2.06.94zm-11 1L8.5 8.5l.94-2.06 2.06-.94-2.06-.94L8.5 2.5l-.94 2.06-2.06.94zm10 10l.94 2.06.94-2.06 2.06-.94-2.06-.94-.94-2.06-.94 2.06-2.06.94z\"/><path d=\"M17.41 7.96l-1.37-1.37c-.4-.4-.92-.59-1.43-.59-.52 0-1.04.2-1.43.59L10.3 9.45l-7.72 7.72c-.78.78-.78 2.05 0 2.83L4 21.41c.39.39.9.59 1.41.59.51 0 1.02-.2 1.41-.59l7.78-7.78 2.81-2.81c.8-.78.8-2.07 0-2.86zM5.41 20L4 18.59l7.72-7.72 1.47 1.35L5.41 20z\"/>\n",
              "  </svg>\n",
              "      </button>\n",
              "      \n",
              "  <style>\n",
              "    .colab-df-container {\n",
              "      display:flex;\n",
              "      flex-wrap:wrap;\n",
              "      gap: 12px;\n",
              "    }\n",
              "\n",
              "    .colab-df-convert {\n",
              "      background-color: #E8F0FE;\n",
              "      border: none;\n",
              "      border-radius: 50%;\n",
              "      cursor: pointer;\n",
              "      display: none;\n",
              "      fill: #1967D2;\n",
              "      height: 32px;\n",
              "      padding: 0 0 0 0;\n",
              "      width: 32px;\n",
              "    }\n",
              "\n",
              "    .colab-df-convert:hover {\n",
              "      background-color: #E2EBFA;\n",
              "      box-shadow: 0px 1px 2px rgba(60, 64, 67, 0.3), 0px 1px 3px 1px rgba(60, 64, 67, 0.15);\n",
              "      fill: #174EA6;\n",
              "    }\n",
              "\n",
              "    [theme=dark] .colab-df-convert {\n",
              "      background-color: #3B4455;\n",
              "      fill: #D2E3FC;\n",
              "    }\n",
              "\n",
              "    [theme=dark] .colab-df-convert:hover {\n",
              "      background-color: #434B5C;\n",
              "      box-shadow: 0px 1px 3px 1px rgba(0, 0, 0, 0.15);\n",
              "      filter: drop-shadow(0px 1px 2px rgba(0, 0, 0, 0.3));\n",
              "      fill: #FFFFFF;\n",
              "    }\n",
              "  </style>\n",
              "\n",
              "      <script>\n",
              "        const buttonEl =\n",
              "          document.querySelector('#df-b7c00f17-c5c6-49e6-bc2b-c351e11d4a53 button.colab-df-convert');\n",
              "        buttonEl.style.display =\n",
              "          google.colab.kernel.accessAllowed ? 'block' : 'none';\n",
              "\n",
              "        async function convertToInteractive(key) {\n",
              "          const element = document.querySelector('#df-b7c00f17-c5c6-49e6-bc2b-c351e11d4a53');\n",
              "          const dataTable =\n",
              "            await google.colab.kernel.invokeFunction('convertToInteractive',\n",
              "                                                     [key], {});\n",
              "          if (!dataTable) return;\n",
              "\n",
              "          const docLinkHtml = 'Like what you see? Visit the ' +\n",
              "            '<a target=\"_blank\" href=https://colab.research.google.com/notebooks/data_table.ipynb>data table notebook</a>'\n",
              "            + ' to learn more about interactive tables.';\n",
              "          element.innerHTML = '';\n",
              "          dataTable['output_type'] = 'display_data';\n",
              "          await google.colab.output.renderOutput(dataTable, element);\n",
              "          const docLink = document.createElement('div');\n",
              "          docLink.innerHTML = docLinkHtml;\n",
              "          element.appendChild(docLink);\n",
              "        }\n",
              "      </script>\n",
              "    </div>\n",
              "  </div>\n",
              "  "
            ]
          },
          "metadata": {},
          "execution_count": 4
        }
      ],
      "source": [
        "reviews_by_course.head()"
      ]
    },
    {
      "cell_type": "code",
      "execution_count": 5,
      "metadata": {
        "id": "A3xhTKlquN3g",
        "colab": {
          "base_uri": "https://localhost:8080/"
        },
        "outputId": "329a04d3-bc72-4fdc-eb5b-9f4e4a24178f"
      },
      "outputs": [
        {
          "output_type": "execute_result",
          "data": {
            "text/plain": [
              "(140320, 3)"
            ]
          },
          "metadata": {},
          "execution_count": 5
        }
      ],
      "source": [
        "reviews_by_course.shape"
      ]
    },
    {
      "cell_type": "code",
      "execution_count": 6,
      "metadata": {
        "id": "Uk5yUurDGsWQ",
        "colab": {
          "base_uri": "https://localhost:8080/"
        },
        "outputId": "82b743b4-2b1f-4c32-a38f-3bd76f90c64f"
      },
      "outputs": [
        {
          "output_type": "execute_result",
          "data": {
            "text/plain": [
              "Index(['CourseId', 'Review', 'Label'], dtype='object')"
            ]
          },
          "metadata": {},
          "execution_count": 6
        }
      ],
      "source": [
        "reviews_by_course.columns"
      ]
    },
    {
      "cell_type": "markdown",
      "metadata": {
        "id": "8vbURF9_FJyg"
      },
      "source": [
        "Let's explore reviews by course title"
      ]
    },
    {
      "cell_type": "code",
      "execution_count": 7,
      "metadata": {
        "id": "uWkscXSIhYMo"
      },
      "outputs": [],
      "source": [
        "reviews_by_course = reviews_by_course.dropna(subset=['Review'])"
      ]
    },
    {
      "cell_type": "code",
      "execution_count": 8,
      "metadata": {
        "id": "GkNpr8KBvhO-",
        "colab": {
          "base_uri": "https://localhost:8080/",
          "height": 206
        },
        "outputId": "0d4344c7-46fa-4d12-fb34-2fec429706dc"
      },
      "outputs": [
        {
          "output_type": "execute_result",
          "data": {
            "text/plain": [
              "   Label  Ratings\n",
              "0      5   106514\n",
              "1      4    22460\n",
              "2      3     5923\n",
              "3      1     2866\n",
              "4      2     2554"
            ],
            "text/html": [
              "\n",
              "  <div id=\"df-80e71eca-ec3e-4a52-9118-28377c1ec0a6\">\n",
              "    <div class=\"colab-df-container\">\n",
              "      <div>\n",
              "<style scoped>\n",
              "    .dataframe tbody tr th:only-of-type {\n",
              "        vertical-align: middle;\n",
              "    }\n",
              "\n",
              "    .dataframe tbody tr th {\n",
              "        vertical-align: top;\n",
              "    }\n",
              "\n",
              "    .dataframe thead th {\n",
              "        text-align: right;\n",
              "    }\n",
              "</style>\n",
              "<table border=\"1\" class=\"dataframe\">\n",
              "  <thead>\n",
              "    <tr style=\"text-align: right;\">\n",
              "      <th></th>\n",
              "      <th>Label</th>\n",
              "      <th>Ratings</th>\n",
              "    </tr>\n",
              "  </thead>\n",
              "  <tbody>\n",
              "    <tr>\n",
              "      <th>0</th>\n",
              "      <td>5</td>\n",
              "      <td>106514</td>\n",
              "    </tr>\n",
              "    <tr>\n",
              "      <th>1</th>\n",
              "      <td>4</td>\n",
              "      <td>22460</td>\n",
              "    </tr>\n",
              "    <tr>\n",
              "      <th>2</th>\n",
              "      <td>3</td>\n",
              "      <td>5923</td>\n",
              "    </tr>\n",
              "    <tr>\n",
              "      <th>3</th>\n",
              "      <td>1</td>\n",
              "      <td>2866</td>\n",
              "    </tr>\n",
              "    <tr>\n",
              "      <th>4</th>\n",
              "      <td>2</td>\n",
              "      <td>2554</td>\n",
              "    </tr>\n",
              "  </tbody>\n",
              "</table>\n",
              "</div>\n",
              "      <button class=\"colab-df-convert\" onclick=\"convertToInteractive('df-80e71eca-ec3e-4a52-9118-28377c1ec0a6')\"\n",
              "              title=\"Convert this dataframe to an interactive table.\"\n",
              "              style=\"display:none;\">\n",
              "        \n",
              "  <svg xmlns=\"http://www.w3.org/2000/svg\" height=\"24px\"viewBox=\"0 0 24 24\"\n",
              "       width=\"24px\">\n",
              "    <path d=\"M0 0h24v24H0V0z\" fill=\"none\"/>\n",
              "    <path d=\"M18.56 5.44l.94 2.06.94-2.06 2.06-.94-2.06-.94-.94-2.06-.94 2.06-2.06.94zm-11 1L8.5 8.5l.94-2.06 2.06-.94-2.06-.94L8.5 2.5l-.94 2.06-2.06.94zm10 10l.94 2.06.94-2.06 2.06-.94-2.06-.94-.94-2.06-.94 2.06-2.06.94z\"/><path d=\"M17.41 7.96l-1.37-1.37c-.4-.4-.92-.59-1.43-.59-.52 0-1.04.2-1.43.59L10.3 9.45l-7.72 7.72c-.78.78-.78 2.05 0 2.83L4 21.41c.39.39.9.59 1.41.59.51 0 1.02-.2 1.41-.59l7.78-7.78 2.81-2.81c.8-.78.8-2.07 0-2.86zM5.41 20L4 18.59l7.72-7.72 1.47 1.35L5.41 20z\"/>\n",
              "  </svg>\n",
              "      </button>\n",
              "      \n",
              "  <style>\n",
              "    .colab-df-container {\n",
              "      display:flex;\n",
              "      flex-wrap:wrap;\n",
              "      gap: 12px;\n",
              "    }\n",
              "\n",
              "    .colab-df-convert {\n",
              "      background-color: #E8F0FE;\n",
              "      border: none;\n",
              "      border-radius: 50%;\n",
              "      cursor: pointer;\n",
              "      display: none;\n",
              "      fill: #1967D2;\n",
              "      height: 32px;\n",
              "      padding: 0 0 0 0;\n",
              "      width: 32px;\n",
              "    }\n",
              "\n",
              "    .colab-df-convert:hover {\n",
              "      background-color: #E2EBFA;\n",
              "      box-shadow: 0px 1px 2px rgba(60, 64, 67, 0.3), 0px 1px 3px 1px rgba(60, 64, 67, 0.15);\n",
              "      fill: #174EA6;\n",
              "    }\n",
              "\n",
              "    [theme=dark] .colab-df-convert {\n",
              "      background-color: #3B4455;\n",
              "      fill: #D2E3FC;\n",
              "    }\n",
              "\n",
              "    [theme=dark] .colab-df-convert:hover {\n",
              "      background-color: #434B5C;\n",
              "      box-shadow: 0px 1px 3px 1px rgba(0, 0, 0, 0.15);\n",
              "      filter: drop-shadow(0px 1px 2px rgba(0, 0, 0, 0.3));\n",
              "      fill: #FFFFFF;\n",
              "    }\n",
              "  </style>\n",
              "\n",
              "      <script>\n",
              "        const buttonEl =\n",
              "          document.querySelector('#df-80e71eca-ec3e-4a52-9118-28377c1ec0a6 button.colab-df-convert');\n",
              "        buttonEl.style.display =\n",
              "          google.colab.kernel.accessAllowed ? 'block' : 'none';\n",
              "\n",
              "        async function convertToInteractive(key) {\n",
              "          const element = document.querySelector('#df-80e71eca-ec3e-4a52-9118-28377c1ec0a6');\n",
              "          const dataTable =\n",
              "            await google.colab.kernel.invokeFunction('convertToInteractive',\n",
              "                                                     [key], {});\n",
              "          if (!dataTable) return;\n",
              "\n",
              "          const docLinkHtml = 'Like what you see? Visit the ' +\n",
              "            '<a target=\"_blank\" href=https://colab.research.google.com/notebooks/data_table.ipynb>data table notebook</a>'\n",
              "            + ' to learn more about interactive tables.';\n",
              "          element.innerHTML = '';\n",
              "          dataTable['output_type'] = 'display_data';\n",
              "          await google.colab.output.renderOutput(dataTable, element);\n",
              "          const docLink = document.createElement('div');\n",
              "          docLink.innerHTML = docLinkHtml;\n",
              "          element.appendChild(docLink);\n",
              "        }\n",
              "      </script>\n",
              "    </div>\n",
              "  </div>\n",
              "  "
            ]
          },
          "metadata": {},
          "execution_count": 8
        }
      ],
      "source": [
        "#distribution by labels\n",
        "reviews_by_course['Label'].value_counts()\n",
        "rating_counts = pd.DataFrame(reviews_by_course['Label'].value_counts()).reset_index()\n",
        "rating_counts.columns = ['Label', 'Ratings']\n",
        "rating_counts"
      ]
    },
    {
      "cell_type": "code",
      "execution_count": 9,
      "metadata": {
        "id": "EpZxNql2FEbw",
        "colab": {
          "base_uri": "https://localhost:8080/",
          "height": 720
        },
        "outputId": "b8c12a14-d7ee-4b03-ddf1-da491477803b"
      },
      "outputs": [
        {
          "output_type": "display_data",
          "data": {
            "text/plain": [
              "<Figure size 640x480 with 1 Axes>"
            ],
            "image/png": "[encoded data removed]"
          },
          "metadata": {}
        }
      ],
      "source": [
        "#distribution by top 15 popular courses\n",
        "plt.rcParams['figure.figsize'] = (18, 8)\n",
        "#['default','fivethirtyeight','seaborn', 'Solarize_Light2','classic'] \n",
        "plt.style.use('classic')\n",
        "#https://www.kite.com/python/docs/matplotlib.pyplot.colormaps\n",
        "color = plt.cm.gist_heat(np.linspace(0, 2, 80))\n",
        "reviews_by_course[\"CourseId\"].value_counts().head(15).plot.bar(color = color)\n",
        "plt.title('Most Popular Courses', fontsize = 15, fontweight = 25)\n",
        "plt.xlabel('Courses')\n",
        "plt.grid()\n",
        "plt.show()"
      ]
    },
    {
      "cell_type": "code",
      "execution_count": 10,
      "metadata": {
        "id": "-2QlDnWiW2nE",
        "colab": {
          "base_uri": "https://localhost:8080/",
          "height": 520
        },
        "outputId": "0a7ad5fa-6ca8-4f64-cdee-76c8fe23a370"
      },
      "outputs": [
        {
          "output_type": "execute_result",
          "data": {
            "text/plain": [
              "                                        total number of reviews  \\\n",
              "machine-learning                                           8570   \n",
              "learning-how-to-learn                                      7090   \n",
              "python                                                     5906   \n",
              "python-data                                                2372   \n",
              "python-network-data                                        1844   \n",
              "data-scientists-tools                                      1637   \n",
              "html-css-javascript                                        1544   \n",
              "r-programming                                              1292   \n",
              "grammar-punctuation                                        1267   \n",
              "ml-foundations                                             1247   \n",
              "html-css-javascript-for-web-developers                     1122   \n",
              "childnutrition                                             1117   \n",
              "html                                                       1100   \n",
              "food-and-health                                             990   \n",
              "python-databases                                            940   \n",
              "\n",
              "                                        average_rating  \n",
              "machine-learning                              4.899067  \n",
              "learning-how-to-learn                         4.858392  \n",
              "python                                        4.778869  \n",
              "python-data                                   4.836425  \n",
              "python-network-data                           4.767896  \n",
              "data-scientists-tools                         4.269395  \n",
              "html-css-javascript                           4.700130  \n",
              "r-programming                                 4.251548  \n",
              "grammar-punctuation                           4.680347  \n",
              "ml-foundations                                4.509222  \n",
              "html-css-javascript-for-web-developers        4.864528  \n",
              "childnutrition                                4.735900  \n",
              "html                                          4.666364  \n",
              "food-and-health                               4.616162  \n",
              "python-databases                              4.713830  "
            ],
            "text/html": [
              "\n",
              "  <div id=\"df-f672d63a-2f04-43bb-a941-f2a06472870f\">\n",
              "    <div class=\"colab-df-container\">\n",
              "      <div>\n",
              "<style scoped>\n",
              "    .dataframe tbody tr th:only-of-type {\n",
              "        vertical-align: middle;\n",
              "    }\n",
              "\n",
              "    .dataframe tbody tr th {\n",
              "        vertical-align: top;\n",
              "    }\n",
              "\n",
              "    .dataframe thead th {\n",
              "        text-align: right;\n",
              "    }\n",
              "</style>\n",
              "<table border=\"1\" class=\"dataframe\">\n",
              "  <thead>\n",
              "    <tr style=\"text-align: right;\">\n",
              "      <th></th>\n",
              "      <th>total number of reviews</th>\n",
              "      <th>average_rating</th>\n",
              "    </tr>\n",
              "  </thead>\n",
              "  <tbody>\n",
              "    <tr>\n",
              "      <th>machine-learning</th>\n",
              "      <td>8570</td>\n",
              "      <td>4.899067</td>\n",
              "    </tr>\n",
              "    <tr>\n",
              "      <th>learning-how-to-learn</th>\n",
              "      <td>7090</td>\n",
              "      <td>4.858392</td>\n",
              "    </tr>\n",
              "    <tr>\n",
              "      <th>python</th>\n",
              "      <td>5906</td>\n",
              "      <td>4.778869</td>\n",
              "    </tr>\n",
              "    <tr>\n",
              "      <th>python-data</th>\n",
              "      <td>2372</td>\n",
              "      <td>4.836425</td>\n",
              "    </tr>\n",
              "    <tr>\n",
              "      <th>python-network-data</th>\n",
              "      <td>1844</td>\n",
              "      <td>4.767896</td>\n",
              "    </tr>\n",
              "    <tr>\n",
              "      <th>data-scientists-tools</th>\n",
              "      <td>1637</td>\n",
              "      <td>4.269395</td>\n",
              "    </tr>\n",
              "    <tr>\n",
              "      <th>html-css-javascript</th>\n",
              "      <td>1544</td>\n",
              "      <td>4.700130</td>\n",
              "    </tr>\n",
              "    <tr>\n",
              "      <th>r-programming</th>\n",
              "      <td>1292</td>\n",
              "      <td>4.251548</td>\n",
              "    </tr>\n",
              "    <tr>\n",
              "      <th>grammar-punctuation</th>\n",
              "      <td>1267</td>\n",
              "      <td>4.680347</td>\n",
              "    </tr>\n",
              "    <tr>\n",
              "      <th>ml-foundations</th>\n",
              "      <td>1247</td>\n",
              "      <td>4.509222</td>\n",
              "    </tr>\n",
              "    <tr>\n",
              "      <th>html-css-javascript-for-web-developers</th>\n",
              "      <td>1122</td>\n",
              "      <td>4.864528</td>\n",
              "    </tr>\n",
              "    <tr>\n",
              "      <th>childnutrition</th>\n",
              "      <td>1117</td>\n",
              "      <td>4.735900</td>\n",
              "    </tr>\n",
              "    <tr>\n",
              "      <th>html</th>\n",
              "      <td>1100</td>\n",
              "      <td>4.666364</td>\n",
              "    </tr>\n",
              "    <tr>\n",
              "      <th>food-and-health</th>\n",
              "      <td>990</td>\n",
              "      <td>4.616162</td>\n",
              "    </tr>\n",
              "    <tr>\n",
              "      <th>python-databases</th>\n",
              "      <td>940</td>\n",
              "      <td>4.713830</td>\n",
              "    </tr>\n",
              "  </tbody>\n",
              "</table>\n",
              "</div>\n",
              "      <button class=\"colab-df-convert\" onclick=\"convertToInteractive('df-f672d63a-2f04-43bb-a941-f2a06472870f')\"\n",
              "              title=\"Convert this dataframe to an interactive table.\"\n",
              "              style=\"display:none;\">\n",
              "        \n",
              "  <svg xmlns=\"http://www.w3.org/2000/svg\" height=\"24px\"viewBox=\"0 0 24 24\"\n",
              "       width=\"24px\">\n",
              "    <path d=\"M0 0h24v24H0V0z\" fill=\"none\"/>\n",
              "    <path d=\"M18.56 5.44l.94 2.06.94-2.06 2.06-.94-2.06-.94-.94-2.06-.94 2.06-2.06.94zm-11 1L8.5 8.5l.94-2.06 2.06-.94-2.06-.94L8.5 2.5l-.94 2.06-2.06.94zm10 10l.94 2.06.94-2.06 2.06-.94-2.06-.94-.94-2.06-.94 2.06-2.06.94z\"/><path d=\"M17.41 7.96l-1.37-1.37c-.4-.4-.92-.59-1.43-.59-.52 0-1.04.2-1.43.59L10.3 9.45l-7.72 7.72c-.78.78-.78 2.05 0 2.83L4 21.41c.39.39.9.59 1.41.59.51 0 1.02-.2 1.41-.59l7.78-7.78 2.81-2.81c.8-.78.8-2.07 0-2.86zM5.41 20L4 18.59l7.72-7.72 1.47 1.35L5.41 20z\"/>\n",
              "  </svg>\n",
              "      </button>\n",
              "      \n",
              "  <style>\n",
              "    .colab-df-container {\n",
              "      display:flex;\n",
              "      flex-wrap:wrap;\n",
              "      gap: 12px;\n",
              "    }\n",
              "\n",
              "    .colab-df-convert {\n",
              "      background-color: #E8F0FE;\n",
              "      border: none;\n",
              "      border-radius: 50%;\n",
              "      cursor: pointer;\n",
              "      display: none;\n",
              "      fill: #1967D2;\n",
              "      height: 32px;\n",
              "      padding: 0 0 0 0;\n",
              "      width: 32px;\n",
              "    }\n",
              "\n",
              "    .colab-df-convert:hover {\n",
              "      background-color: #E2EBFA;\n",
              "      box-shadow: 0px 1px 2px rgba(60, 64, 67, 0.3), 0px 1px 3px 1px rgba(60, 64, 67, 0.15);\n",
              "      fill: #174EA6;\n",
              "    }\n",
              "\n",
              "    [theme=dark] .colab-df-convert {\n",
              "      background-color: #3B4455;\n",
              "      fill: #D2E3FC;\n",
              "    }\n",
              "\n",
              "    [theme=dark] .colab-df-convert:hover {\n",
              "      background-color: #434B5C;\n",
              "      box-shadow: 0px 1px 3px 1px rgba(0, 0, 0, 0.15);\n",
              "      filter: drop-shadow(0px 1px 2px rgba(0, 0, 0, 0.3));\n",
              "      fill: #FFFFFF;\n",
              "    }\n",
              "  </style>\n",
              "\n",
              "      <script>\n",
              "        const buttonEl =\n",
              "          document.querySelector('#df-f672d63a-2f04-43bb-a941-f2a06472870f button.colab-df-convert');\n",
              "        buttonEl.style.display =\n",
              "          google.colab.kernel.accessAllowed ? 'block' : 'none';\n",
              "\n",
              "        async function convertToInteractive(key) {\n",
              "          const element = document.querySelector('#df-f672d63a-2f04-43bb-a941-f2a06472870f');\n",
              "          const dataTable =\n",
              "            await google.colab.kernel.invokeFunction('convertToInteractive',\n",
              "                                                     [key], {});\n",
              "          if (!dataTable) return;\n",
              "\n",
              "          const docLinkHtml = 'Like what you see? Visit the ' +\n",
              "            '<a target=\"_blank\" href=https://colab.research.google.com/notebooks/data_table.ipynb>data table notebook</a>'\n",
              "            + ' to learn more about interactive tables.';\n",
              "          element.innerHTML = '';\n",
              "          dataTable['output_type'] = 'display_data';\n",
              "          await google.colab.output.renderOutput(dataTable, element);\n",
              "          const docLink = document.createElement('div');\n",
              "          docLink.innerHTML = docLinkHtml;\n",
              "          element.appendChild(docLink);\n",
              "        }\n",
              "      </script>\n",
              "    </div>\n",
              "  </div>\n",
              "  "
            ]
          },
          "metadata": {},
          "execution_count": 10
        }
      ],
      "source": [
        "# average rating of the course\n",
        "average_rating = reviews_by_course.groupby(\"CourseId\").mean().sort_values(\"Label\", ascending=False)\n",
        "total_num_reviews = reviews_by_course[\"CourseId\"].value_counts()\n",
        "df_total_num_reviews = pd.DataFrame(total_num_reviews)\n",
        "# merge df_reviews_number and average_rating\n",
        "analysis = pd.merge(df_total_num_reviews, average_rating,  right_index=True, left_index=True)\n",
        "# rename columns\n",
        "analysis.columns = [\"total number of reviews\", \"average_rating\"]\n",
        "# show first 15 rows\n",
        "analysis.head(15)"
      ]
    },
    {
      "cell_type": "code",
      "execution_count": 11,
      "metadata": {
        "id": "0373i07nV8cs",
        "colab": {
          "base_uri": "https://localhost:8080/",
          "height": 559
        },
        "outputId": "d3572704-3dde-4e75-b417-7cbea7c94465"
      },
      "outputs": [
        {
          "output_type": "display_data",
          "data": {
            "text/plain": [
              "<Figure size 1440x1440 with 2 Axes>"
            ],
            "image/png": "[encoded data removed]"
          },
          "metadata": {}
        }
      ],
      "source": [
        "# let's check review for machine learning and data science\n",
        "\n",
        "from wordcloud import WordCloud\n",
        "from wordcloud import ImageColorGenerator\n",
        "\n",
        "mlreview = ' '.join([text for text in reviews_by_course['Review'][reviews_by_course['CourseId'] == 'machine-learning']])\n",
        "plt.rcParams['figure.figsize'] = (18, 18)\n",
        "\n",
        "plt.subplot(1, 2, 1)\n",
        "wordcloud = WordCloud(background_color = 'white',width = 2000, height = 2000, max_words = 100).generate(mlreview)\n",
        "plt.imshow(wordcloud)\n",
        "plt.axis('off')\n",
        "plt.title('Reviews for Machine Learning', fontsize = 15)\n",
        "\n",
        "dsreview = ' '.join([text for text in reviews_by_course['Review'][reviews_by_course['CourseId'] == 'data-scientists-tools']])\n",
        "\n",
        "plt.subplot(1, 2, 2)\n",
        "wordcloud = WordCloud(background_color = 'white',width = 2000, height = 2000, max_words = 100).generate(dsreview)\n",
        "plt.imshow(wordcloud)\n",
        "plt.axis('off')\n",
        "plt.title('Reviews for data scientist tools', fontsize = 15)\n",
        "\n",
        "plt.show()"
      ]
    },
    {
      "cell_type": "markdown",
      "metadata": {
        "id": "aJuvonA7rYJM"
      },
      "source": [
        "# C. Exercise 1\n",
        "Let's draw another word cloud for Course id= 'python'"
      ]
    },
    {
      "cell_type": "code",
      "execution_count": 12,
      "metadata": {
        "id": "IlM0i8KNrWJT",
        "colab": {
          "base_uri": "https://localhost:8080/",
          "height": 559
        },
        "outputId": "30890ae0-54a0-4e32-f46e-eeda077a6451"
      },
      "outputs": [
        {
          "output_type": "display_data",
          "data": {
            "text/plain": [
              "<Figure size 1440x1440 with 1 Axes>"
            ],
            "image/png": "[encoded data removed]"
          },
          "metadata": {}
        }
      ],
      "source": [
        "dsreview = ' '.join([text for text in reviews_by_course['Review'][reviews_by_course['CourseId'] == 'python']])\n",
        "\n",
        "plt.subplot(1, 2, 2)\n",
        "wordcloud = WordCloud(background_color = 'white',width = 2000, height = 2000, max_words = 100).generate(dsreview)\n",
        "plt.imshow(wordcloud)\n",
        "plt.axis('off')\n",
        "plt.title('Reviews for data scientist tools', fontsize = 15)\n",
        "\n",
        "plt.show()"
      ]
    },
    {
      "cell_type": "markdown",
      "metadata": {
        "id": "owuOXycMzxYm"
      },
      "source": [
        ">**Stop for Zoom Poll:** Once you have completed this step please answer the task completion poll (2 min)."
      ]
    },
    {
      "cell_type": "markdown",
      "metadata": {
        "id": "WH0EAr5b1iH6"
      },
      "source": [
        "---"
      ]
    },
    {
      "cell_type": "markdown",
      "metadata": {
        "id": "Zc2r5Q9sibLG"
      },
      "source": [
        "# D. Cleansing data"
      ]
    },
    {
      "cell_type": "markdown",
      "metadata": {
        "id": "e31aA-WCieql"
      },
      "source": [
        "Let's drop some null reviews and cleansing reviews"
      ]
    },
    {
      "cell_type": "code",
      "execution_count": 13,
      "metadata": {
        "id": "Q4ReJQLrip0_"
      },
      "outputs": [],
      "source": [
        "reviews_by_course = reviews_by_course.dropna(subset=['Review'])"
      ]
    },
    {
      "cell_type": "markdown",
      "metadata": {
        "id": "tLRifeTz0PZd"
      },
      "source": [
        "Then remove some punctuation"
      ]
    },
    {
      "cell_type": "code",
      "execution_count": 14,
      "metadata": {
        "id": "N1OrrAhNg41H",
        "colab": {
          "base_uri": "https://localhost:8080/",
          "height": 35
        },
        "outputId": "a443b75a-108e-4cdc-c6ee-318d71bae9ce"
      },
      "outputs": [
        {
          "output_type": "execute_result",
          "data": {
            "text/plain": [
              "'!\"#$%&\\'()*+,-./:;<=>?@[\\\\]^_`{|}~'"
            ],
            "application/vnd.google.colaboratory.intrinsic+json": {
              "type": "string"
            }
          },
          "metadata": {},
          "execution_count": 14
        }
      ],
      "source": [
        "import string\n",
        "import re\n",
        "string.punctuation"
      ]
    },
    {
      "cell_type": "code",
      "execution_count": 15,
      "metadata": {
        "id": "gKEyf2_igl8Q",
        "colab": {
          "base_uri": "https://localhost:8080/",
          "height": 363
        },
        "outputId": "a08f413f-c167-4735-edbe-73aaa9318c61"
      },
      "outputs": [
        {
          "output_type": "execute_result",
          "data": {
            "text/plain": [
              "     CourseId                                             Review  Label  \\\n",
              "0  2-speed-it                                             BOring      1   \n",
              "1  2-speed-it                                            Bravo !      5   \n",
              "2  2-speed-it                                           Very goo      5   \n",
              "3  2-speed-it  Great course - I recommend it for all, especia...      5   \n",
              "4  2-speed-it    One of the most useful course on IT Management!      5   \n",
              "5  2-speed-it  I was disappointed because the name is mislead...      3   \n",
              "6  2-speed-it    Super content. I'll definitely re-do the course      5   \n",
              "7  2-speed-it  Etant contrôleur de gestion pour le départemen...      5   \n",
              "8  2-speed-it  One of the excellent courses at Coursera for i...      5   \n",
              "9  2-speed-it  Is there any reason why you should not apply t...      5   \n",
              "\n",
              "                                      Review_cleaned  \n",
              "0                                             BOring  \n",
              "1                                             Bravo   \n",
              "2                                           Very goo  \n",
              "3  Great course  I recommend it for all especiall...  \n",
              "4     One of the most useful course on IT Management  \n",
              "5  I was disappointed because the name is mislead...  \n",
              "6       Super content Ill definitely redo the course  \n",
              "7  Etant contrôleur de gestion pour le départemen...  \n",
              "8  One of the excellent courses at Coursera for i...  \n",
              "9  Is there any reason why you should not apply t...  "
            ],
            "text/html": [
              "\n",
              "  <div id=\"df-6deb0d2b-2a18-49d7-9338-4bb9dbfa5104\">\n",
              "    <div class=\"colab-df-container\">\n",
              "      <div>\n",
              "<style scoped>\n",
              "    .dataframe tbody tr th:only-of-type {\n",
              "        vertical-align: middle;\n",
              "    }\n",
              "\n",
              "    .dataframe tbody tr th {\n",
              "        vertical-align: top;\n",
              "    }\n",
              "\n",
              "    .dataframe thead th {\n",
              "        text-align: right;\n",
              "    }\n",
              "</style>\n",
              "<table border=\"1\" class=\"dataframe\">\n",
              "  <thead>\n",
              "    <tr style=\"text-align: right;\">\n",
              "      <th></th>\n",
              "      <th>CourseId</th>\n",
              "      <th>Review</th>\n",
              "      <th>Label</th>\n",
              "      <th>Review_cleaned</th>\n",
              "    </tr>\n",
              "  </thead>\n",
              "  <tbody>\n",
              "    <tr>\n",
              "      <th>0</th>\n",
              "      <td>2-speed-it</td>\n",
              "      <td>BOring</td>\n",
              "      <td>1</td>\n",
              "      <td>BOring</td>\n",
              "    </tr>\n",
              "    <tr>\n",
              "      <th>1</th>\n",
              "      <td>2-speed-it</td>\n",
              "      <td>Bravo !</td>\n",
              "      <td>5</td>\n",
              "      <td>Bravo</td>\n",
              "    </tr>\n",
              "    <tr>\n",
              "      <th>2</th>\n",
              "      <td>2-speed-it</td>\n",
              "      <td>Very goo</td>\n",
              "      <td>5</td>\n",
              "      <td>Very goo</td>\n",
              "    </tr>\n",
              "    <tr>\n",
              "      <th>3</th>\n",
              "      <td>2-speed-it</td>\n",
              "      <td>Great course - I recommend it for all, especia...</td>\n",
              "      <td>5</td>\n",
              "      <td>Great course  I recommend it for all especiall...</td>\n",
              "    </tr>\n",
              "    <tr>\n",
              "      <th>4</th>\n",
              "      <td>2-speed-it</td>\n",
              "      <td>One of the most useful course on IT Management!</td>\n",
              "      <td>5</td>\n",
              "      <td>One of the most useful course on IT Management</td>\n",
              "    </tr>\n",
              "    <tr>\n",
              "      <th>5</th>\n",
              "      <td>2-speed-it</td>\n",
              "      <td>I was disappointed because the name is mislead...</td>\n",
              "      <td>3</td>\n",
              "      <td>I was disappointed because the name is mislead...</td>\n",
              "    </tr>\n",
              "    <tr>\n",
              "      <th>6</th>\n",
              "      <td>2-speed-it</td>\n",
              "      <td>Super content. I'll definitely re-do the course</td>\n",
              "      <td>5</td>\n",
              "      <td>Super content Ill definitely redo the course</td>\n",
              "    </tr>\n",
              "    <tr>\n",
              "      <th>7</th>\n",
              "      <td>2-speed-it</td>\n",
              "      <td>Etant contrôleur de gestion pour le départemen...</td>\n",
              "      <td>5</td>\n",
              "      <td>Etant contrôleur de gestion pour le départemen...</td>\n",
              "    </tr>\n",
              "    <tr>\n",
              "      <th>8</th>\n",
              "      <td>2-speed-it</td>\n",
              "      <td>One of the excellent courses at Coursera for i...</td>\n",
              "      <td>5</td>\n",
              "      <td>One of the excellent courses at Coursera for i...</td>\n",
              "    </tr>\n",
              "    <tr>\n",
              "      <th>9</th>\n",
              "      <td>2-speed-it</td>\n",
              "      <td>Is there any reason why you should not apply t...</td>\n",
              "      <td>5</td>\n",
              "      <td>Is there any reason why you should not apply t...</td>\n",
              "    </tr>\n",
              "  </tbody>\n",
              "</table>\n",
              "</div>\n",
              "      <button class=\"colab-df-convert\" onclick=\"convertToInteractive('df-6deb0d2b-2a18-49d7-9338-4bb9dbfa5104')\"\n",
              "              title=\"Convert this dataframe to an interactive table.\"\n",
              "              style=\"display:none;\">\n",
              "        \n",
              "  <svg xmlns=\"http://www.w3.org/2000/svg\" height=\"24px\"viewBox=\"0 0 24 24\"\n",
              "       width=\"24px\">\n",
              "    <path d=\"M0 0h24v24H0V0z\" fill=\"none\"/>\n",
              "    <path d=\"M18.56 5.44l.94 2.06.94-2.06 2.06-.94-2.06-.94-.94-2.06-.94 2.06-2.06.94zm-11 1L8.5 8.5l.94-2.06 2.06-.94-2.06-.94L8.5 2.5l-.94 2.06-2.06.94zm10 10l.94 2.06.94-2.06 2.06-.94-2.06-.94-.94-2.06-.94 2.06-2.06.94z\"/><path d=\"M17.41 7.96l-1.37-1.37c-.4-.4-.92-.59-1.43-.59-.52 0-1.04.2-1.43.59L10.3 9.45l-7.72 7.72c-.78.78-.78 2.05 0 2.83L4 21.41c.39.39.9.59 1.41.59.51 0 1.02-.2 1.41-.59l7.78-7.78 2.81-2.81c.8-.78.8-2.07 0-2.86zM5.41 20L4 18.59l7.72-7.72 1.47 1.35L5.41 20z\"/>\n",
              "  </svg>\n",
              "      </button>\n",
              "      \n",
              "  <style>\n",
              "    .colab-df-container {\n",
              "      display:flex;\n",
              "      flex-wrap:wrap;\n",
              "      gap: 12px;\n",
              "    }\n",
              "\n",
              "    .colab-df-convert {\n",
              "      background-color: #E8F0FE;\n",
              "      border: none;\n",
              "      border-radius: 50%;\n",
              "      cursor: pointer;\n",
              "      display: none;\n",
              "      fill: #1967D2;\n",
              "      height: 32px;\n",
              "      padding: 0 0 0 0;\n",
              "      width: 32px;\n",
              "    }\n",
              "\n",
              "    .colab-df-convert:hover {\n",
              "      background-color: #E2EBFA;\n",
              "      box-shadow: 0px 1px 2px rgba(60, 64, 67, 0.3), 0px 1px 3px 1px rgba(60, 64, 67, 0.15);\n",
              "      fill: #174EA6;\n",
              "    }\n",
              "\n",
              "    [theme=dark] .colab-df-convert {\n",
              "      background-color: #3B4455;\n",
              "      fill: #D2E3FC;\n",
              "    }\n",
              "\n",
              "    [theme=dark] .colab-df-convert:hover {\n",
              "      background-color: #434B5C;\n",
              "      box-shadow: 0px 1px 3px 1px rgba(0, 0, 0, 0.15);\n",
              "      filter: drop-shadow(0px 1px 2px rgba(0, 0, 0, 0.3));\n",
              "      fill: #FFFFFF;\n",
              "    }\n",
              "  </style>\n",
              "\n",
              "      <script>\n",
              "        const buttonEl =\n",
              "          document.querySelector('#df-6deb0d2b-2a18-49d7-9338-4bb9dbfa5104 button.colab-df-convert');\n",
              "        buttonEl.style.display =\n",
              "          google.colab.kernel.accessAllowed ? 'block' : 'none';\n",
              "\n",
              "        async function convertToInteractive(key) {\n",
              "          const element = document.querySelector('#df-6deb0d2b-2a18-49d7-9338-4bb9dbfa5104');\n",
              "          const dataTable =\n",
              "            await google.colab.kernel.invokeFunction('convertToInteractive',\n",
              "                                                     [key], {});\n",
              "          if (!dataTable) return;\n",
              "\n",
              "          const docLinkHtml = 'Like what you see? Visit the ' +\n",
              "            '<a target=\"_blank\" href=https://colab.research.google.com/notebooks/data_table.ipynb>data table notebook</a>'\n",
              "            + ' to learn more about interactive tables.';\n",
              "          element.innerHTML = '';\n",
              "          dataTable['output_type'] = 'display_data';\n",
              "          await google.colab.output.renderOutput(dataTable, element);\n",
              "          const docLink = document.createElement('div');\n",
              "          docLink.innerHTML = docLinkHtml;\n",
              "          element.appendChild(docLink);\n",
              "        }\n",
              "      </script>\n",
              "    </div>\n",
              "  </div>\n",
              "  "
            ]
          },
          "metadata": {},
          "execution_count": 15
        }
      ],
      "source": [
        "def remove_punct(text):\n",
        "    text  = \"\".join([char for char in text if char not in string.punctuation])\n",
        "    text = re.sub('[0-9]+', '', text)\n",
        "    return text\n",
        "\n",
        "reviews_by_course['Review_cleaned'] = reviews_by_course['Review'].apply(lambda x: remove_punct(x))\n",
        "reviews_by_course.head(10)"
      ]
    },
    {
      "cell_type": "markdown",
      "metadata": {
        "id": "TZ6yW_co0Wld"
      },
      "source": [
        "Then we will further cleanse the data by removing stopwords"
      ]
    },
    {
      "cell_type": "code",
      "execution_count": 16,
      "metadata": {
        "id": "qt8HmW8keeu4",
        "colab": {
          "base_uri": "https://localhost:8080/"
        },
        "outputId": "6abe251c-6599-4880-ec49-5d8b23548f6c"
      },
      "outputs": [
        {
          "output_type": "stream",
          "name": "stdout",
          "text": [
            "['i', 'me', 'my', 'myself', 'we', 'our', 'ours', 'ourselves', 'you', \"you're\", \"you've\", \"you'll\", \"you'd\", 'your', 'yours', 'yourself', 'yourselves', 'he', 'him', 'his', 'himself', 'she', \"she's\", 'her', 'hers', 'herself', 'it', \"it's\", 'its', 'itself', 'they', 'them', 'their', 'theirs', 'themselves', 'what', 'which', 'who', 'whom', 'this', 'that', \"that'll\", 'these', 'those', 'am', 'is', 'are', 'was', 'were', 'be', 'been', 'being', 'have', 'has', 'had', 'having', 'do', 'does', 'did', 'doing', 'a', 'an', 'the', 'and', 'but', 'if', 'or', 'because', 'as', 'until', 'while', 'of', 'at', 'by', 'for', 'with', 'about', 'against', 'between', 'into', 'through', 'during', 'before', 'after', 'above', 'below', 'to', 'from', 'up', 'down', 'in', 'out', 'on', 'off', 'over', 'under', 'again', 'further', 'then', 'once', 'here', 'there', 'when', 'where', 'why', 'how', 'all', 'any', 'both', 'each', 'few', 'more', 'most', 'other', 'some', 'such', 'no', 'nor', 'not', 'only', 'own', 'same', 'so', 'than', 'too', 'very', 's', 't', 'can', 'will', 'just', 'don', \"don't\", 'should', \"should've\", 'now', 'd', 'll', 'm', 'o', 're', 've', 'y', 'ain', 'aren', \"aren't\", 'couldn', \"couldn't\", 'didn', \"didn't\", 'doesn', \"doesn't\", 'hadn', \"hadn't\", 'hasn', \"hasn't\", 'haven', \"haven't\", 'isn', \"isn't\", 'ma', 'mightn', \"mightn't\", 'mustn', \"mustn't\", 'needn', \"needn't\", 'shan', \"shan't\", 'shouldn', \"shouldn't\", 'wasn', \"wasn't\", 'weren', \"weren't\", 'won', \"won't\", 'wouldn', \"wouldn't\"]\n"
          ]
        },
        {
          "output_type": "stream",
          "name": "stderr",
          "text": [
            "[nltk_data] Downloading package stopwords to /root/nltk_data...\n",
            "[nltk_data]   Unzipping corpora/stopwords.zip.\n"
          ]
        }
      ],
      "source": [
        "import nltk\n",
        "nltk.download('stopwords')\n",
        "from nltk.corpus import stopwords\n",
        "print(stopwords.words('english'))"
      ]
    },
    {
      "cell_type": "code",
      "execution_count": 17,
      "metadata": {
        "id": "mE3ozTL0i69M",
        "colab": {
          "base_uri": "https://localhost:8080/",
          "height": 363
        },
        "outputId": "bf5b572e-1e99-45ae-c419-fa5b2ae82715"
      },
      "outputs": [
        {
          "output_type": "execute_result",
          "data": {
            "text/plain": [
              "     CourseId                                             Review  Label  \\\n",
              "0  2-speed-it                                             BOring      1   \n",
              "1  2-speed-it                                            Bravo !      5   \n",
              "2  2-speed-it                                           Very goo      5   \n",
              "3  2-speed-it  Great course - I recommend it for all, especia...      5   \n",
              "4  2-speed-it    One of the most useful course on IT Management!      5   \n",
              "5  2-speed-it  I was disappointed because the name is mislead...      3   \n",
              "6  2-speed-it    Super content. I'll definitely re-do the course      5   \n",
              "7  2-speed-it  Etant contrôleur de gestion pour le départemen...      5   \n",
              "8  2-speed-it  One of the excellent courses at Coursera for i...      5   \n",
              "9  2-speed-it  Is there any reason why you should not apply t...      5   \n",
              "\n",
              "                                      Review_cleaned  \\\n",
              "0                                             BOring   \n",
              "1                                             Bravo    \n",
              "2                                           Very goo   \n",
              "3  Great course  I recommend it for all especiall...   \n",
              "4     One of the most useful course on IT Management   \n",
              "5  I was disappointed because the name is mislead...   \n",
              "6       Super content Ill definitely redo the course   \n",
              "7  Etant contrôleur de gestion pour le départemen...   \n",
              "8  One of the excellent courses at Coursera for i...   \n",
              "9  Is there any reason why you should not apply t...   \n",
              "\n",
              "                    Review_cleaned_without_stopwords  \n",
              "0                                             BOring  \n",
              "1                                              Bravo  \n",
              "2                                           Very goo  \n",
              "3  Great course I recommend especially IT Busines...  \n",
              "4                    One useful course IT Management  \n",
              "5  I disappointed name misleading The course prov...  \n",
              "6           Super content Ill definitely redo course  \n",
              "7  Etant contrôleur de gestion pour le départemen...  \n",
              "8  One excellent courses Coursera information tec...  \n",
              "9  Is reason apply course BCGIts content pretty u...  "
            ],
            "text/html": [
              "\n",
              "  <div id=\"df-1e342e55-59e2-4df9-96e1-5026d81c74dc\">\n",
              "    <div class=\"colab-df-container\">\n",
              "      <div>\n",
              "<style scoped>\n",
              "    .dataframe tbody tr th:only-of-type {\n",
              "        vertical-align: middle;\n",
              "    }\n",
              "\n",
              "    .dataframe tbody tr th {\n",
              "        vertical-align: top;\n",
              "    }\n",
              "\n",
              "    .dataframe thead th {\n",
              "        text-align: right;\n",
              "    }\n",
              "</style>\n",
              "<table border=\"1\" class=\"dataframe\">\n",
              "  <thead>\n",
              "    <tr style=\"text-align: right;\">\n",
              "      <th></th>\n",
              "      <th>CourseId</th>\n",
              "      <th>Review</th>\n",
              "      <th>Label</th>\n",
              "      <th>Review_cleaned</th>\n",
              "      <th>Review_cleaned_without_stopwords</th>\n",
              "    </tr>\n",
              "  </thead>\n",
              "  <tbody>\n",
              "    <tr>\n",
              "      <th>0</th>\n",
              "      <td>2-speed-it</td>\n",
              "      <td>BOring</td>\n",
              "      <td>1</td>\n",
              "      <td>BOring</td>\n",
              "      <td>BOring</td>\n",
              "    </tr>\n",
              "    <tr>\n",
              "      <th>1</th>\n",
              "      <td>2-speed-it</td>\n",
              "      <td>Bravo !</td>\n",
              "      <td>5</td>\n",
              "      <td>Bravo</td>\n",
              "      <td>Bravo</td>\n",
              "    </tr>\n",
              "    <tr>\n",
              "      <th>2</th>\n",
              "      <td>2-speed-it</td>\n",
              "      <td>Very goo</td>\n",
              "      <td>5</td>\n",
              "      <td>Very goo</td>\n",
              "      <td>Very goo</td>\n",
              "    </tr>\n",
              "    <tr>\n",
              "      <th>3</th>\n",
              "      <td>2-speed-it</td>\n",
              "      <td>Great course - I recommend it for all, especia...</td>\n",
              "      <td>5</td>\n",
              "      <td>Great course  I recommend it for all especiall...</td>\n",
              "      <td>Great course I recommend especially IT Busines...</td>\n",
              "    </tr>\n",
              "    <tr>\n",
              "      <th>4</th>\n",
              "      <td>2-speed-it</td>\n",
              "      <td>One of the most useful course on IT Management!</td>\n",
              "      <td>5</td>\n",
              "      <td>One of the most useful course on IT Management</td>\n",
              "      <td>One useful course IT Management</td>\n",
              "    </tr>\n",
              "    <tr>\n",
              "      <th>5</th>\n",
              "      <td>2-speed-it</td>\n",
              "      <td>I was disappointed because the name is mislead...</td>\n",
              "      <td>3</td>\n",
              "      <td>I was disappointed because the name is mislead...</td>\n",
              "      <td>I disappointed name misleading The course prov...</td>\n",
              "    </tr>\n",
              "    <tr>\n",
              "      <th>6</th>\n",
              "      <td>2-speed-it</td>\n",
              "      <td>Super content. I'll definitely re-do the course</td>\n",
              "      <td>5</td>\n",
              "      <td>Super content Ill definitely redo the course</td>\n",
              "      <td>Super content Ill definitely redo course</td>\n",
              "    </tr>\n",
              "    <tr>\n",
              "      <th>7</th>\n",
              "      <td>2-speed-it</td>\n",
              "      <td>Etant contrôleur de gestion pour le départemen...</td>\n",
              "      <td>5</td>\n",
              "      <td>Etant contrôleur de gestion pour le départemen...</td>\n",
              "      <td>Etant contrôleur de gestion pour le départemen...</td>\n",
              "    </tr>\n",
              "    <tr>\n",
              "      <th>8</th>\n",
              "      <td>2-speed-it</td>\n",
              "      <td>One of the excellent courses at Coursera for i...</td>\n",
              "      <td>5</td>\n",
              "      <td>One of the excellent courses at Coursera for i...</td>\n",
              "      <td>One excellent courses Coursera information tec...</td>\n",
              "    </tr>\n",
              "    <tr>\n",
              "      <th>9</th>\n",
              "      <td>2-speed-it</td>\n",
              "      <td>Is there any reason why you should not apply t...</td>\n",
              "      <td>5</td>\n",
              "      <td>Is there any reason why you should not apply t...</td>\n",
              "      <td>Is reason apply course BCGIts content pretty u...</td>\n",
              "    </tr>\n",
              "  </tbody>\n",
              "</table>\n",
              "</div>\n",
              "      <button class=\"colab-df-convert\" onclick=\"convertToInteractive('df-1e342e55-59e2-4df9-96e1-5026d81c74dc')\"\n",
              "              title=\"Convert this dataframe to an interactive table.\"\n",
              "              style=\"display:none;\">\n",
              "        \n",
              "  <svg xmlns=\"http://www.w3.org/2000/svg\" height=\"24px\"viewBox=\"0 0 24 24\"\n",
              "       width=\"24px\">\n",
              "    <path d=\"M0 0h24v24H0V0z\" fill=\"none\"/>\n",
              "    <path d=\"M18.56 5.44l.94 2.06.94-2.06 2.06-.94-2.06-.94-.94-2.06-.94 2.06-2.06.94zm-11 1L8.5 8.5l.94-2.06 2.06-.94-2.06-.94L8.5 2.5l-.94 2.06-2.06.94zm10 10l.94 2.06.94-2.06 2.06-.94-2.06-.94-.94-2.06-.94 2.06-2.06.94z\"/><path d=\"M17.41 7.96l-1.37-1.37c-.4-.4-.92-.59-1.43-.59-.52 0-1.04.2-1.43.59L10.3 9.45l-7.72 7.72c-.78.78-.78 2.05 0 2.83L4 21.41c.39.39.9.59 1.41.59.51 0 1.02-.2 1.41-.59l7.78-7.78 2.81-2.81c.8-.78.8-2.07 0-2.86zM5.41 20L4 18.59l7.72-7.72 1.47 1.35L5.41 20z\"/>\n",
              "  </svg>\n",
              "      </button>\n",
              "      \n",
              "  <style>\n",
              "    .colab-df-container {\n",
              "      display:flex;\n",
              "      flex-wrap:wrap;\n",
              "      gap: 12px;\n",
              "    }\n",
              "\n",
              "    .colab-df-convert {\n",
              "      background-color: #E8F0FE;\n",
              "      border: none;\n",
              "      border-radius: 50%;\n",
              "      cursor: pointer;\n",
              "      display: none;\n",
              "      fill: #1967D2;\n",
              "      height: 32px;\n",
              "      padding: 0 0 0 0;\n",
              "      width: 32px;\n",
              "    }\n",
              "\n",
              "    .colab-df-convert:hover {\n",
              "      background-color: #E2EBFA;\n",
              "      box-shadow: 0px 1px 2px rgba(60, 64, 67, 0.3), 0px 1px 3px 1px rgba(60, 64, 67, 0.15);\n",
              "      fill: #174EA6;\n",
              "    }\n",
              "\n",
              "    [theme=dark] .colab-df-convert {\n",
              "      background-color: #3B4455;\n",
              "      fill: #D2E3FC;\n",
              "    }\n",
              "\n",
              "    [theme=dark] .colab-df-convert:hover {\n",
              "      background-color: #434B5C;\n",
              "      box-shadow: 0px 1px 3px 1px rgba(0, 0, 0, 0.15);\n",
              "      filter: drop-shadow(0px 1px 2px rgba(0, 0, 0, 0.3));\n",
              "      fill: #FFFFFF;\n",
              "    }\n",
              "  </style>\n",
              "\n",
              "      <script>\n",
              "        const buttonEl =\n",
              "          document.querySelector('#df-1e342e55-59e2-4df9-96e1-5026d81c74dc button.colab-df-convert');\n",
              "        buttonEl.style.display =\n",
              "          google.colab.kernel.accessAllowed ? 'block' : 'none';\n",
              "\n",
              "        async function convertToInteractive(key) {\n",
              "          const element = document.querySelector('#df-1e342e55-59e2-4df9-96e1-5026d81c74dc');\n",
              "          const dataTable =\n",
              "            await google.colab.kernel.invokeFunction('convertToInteractive',\n",
              "                                                     [key], {});\n",
              "          if (!dataTable) return;\n",
              "\n",
              "          const docLinkHtml = 'Like what you see? Visit the ' +\n",
              "            '<a target=\"_blank\" href=https://colab.research.google.com/notebooks/data_table.ipynb>data table notebook</a>'\n",
              "            + ' to learn more about interactive tables.';\n",
              "          element.innerHTML = '';\n",
              "          dataTable['output_type'] = 'display_data';\n",
              "          await google.colab.output.renderOutput(dataTable, element);\n",
              "          const docLink = document.createElement('div');\n",
              "          docLink.innerHTML = docLinkHtml;\n",
              "          element.appendChild(docLink);\n",
              "        }\n",
              "      </script>\n",
              "    </div>\n",
              "  </div>\n",
              "  "
            ]
          },
          "metadata": {},
          "execution_count": 17
        }
      ],
      "source": [
        "from nltk.corpus import stopwords\n",
        "stop = stopwords.words('english')\n",
        "reviews_by_course['Review_cleaned_without_stopwords'] = reviews_by_course['Review_cleaned'].apply(lambda x: ' '.join([word for word in x.split() if word not in (stop)]))\n",
        "reviews_by_course.head(10)"
      ]
    },
    {
      "cell_type": "markdown",
      "metadata": {
        "id": "9w5gAAkN1jHz"
      },
      "source": [
        "---"
      ]
    },
    {
      "cell_type": "markdown",
      "metadata": {
        "id": "2L00HW4xxgPR"
      },
      "source": [
        "# E. Build Recommendation"
      ]
    },
    {
      "cell_type": "markdown",
      "metadata": {
        "id": "iN_p2xRi-xum"
      },
      "source": [
        "Let's subset new data called popoular courses that has more than 1,000 reviews"
      ]
    },
    {
      "cell_type": "code",
      "execution_count": 18,
      "metadata": {
        "id": "zX3vRq60TiTq",
        "colab": {
          "base_uri": "https://localhost:8080/",
          "height": 206
        },
        "outputId": "fc6998de-6ea8-4f94-a2df-f0bf5a08a2ca"
      },
      "outputs": [
        {
          "output_type": "execute_result",
          "data": {
            "text/plain": [
              "             CourseId                                             Review  \\\n",
              "15301  childnutrition  Amazing course. It taught me how to balance my...   \n",
              "15302  childnutrition                               exelente aprendizaje   \n",
              "15303  childnutrition  I thoroughly enjoyed this course! As a profess...   \n",
              "15304  childnutrition                                          excelent!   \n",
              "15305  childnutrition  Very useful and encourage me to cook healthy f...   \n",
              "\n",
              "       Label                                     Review_cleaned  \\\n",
              "15301      5  Amazing course It taught me how to balance my ...   \n",
              "15302      5                               exelente aprendizaje   \n",
              "15303      5  I thoroughly enjoyed this course As a professi...   \n",
              "15304      5                                           excelent   \n",
              "15305      5  Very useful and encourage me to cook healthy f...   \n",
              "\n",
              "                        Review_cleaned_without_stopwords  \n",
              "15301       Amazing course It taught balance daily diets  \n",
              "15302                               exelente aprendizaje  \n",
              "15303  I thoroughly enjoyed course As professional co...  \n",
              "15304                                           excelent  \n",
              "15305  Very useful encourage cook healthy food notice...  "
            ],
            "text/html": [
              "\n",
              "  <div id=\"df-a0543819-2f04-4024-b044-6ba3262f2c21\">\n",
              "    <div class=\"colab-df-container\">\n",
              "      <div>\n",
              "<style scoped>\n",
              "    .dataframe tbody tr th:only-of-type {\n",
              "        vertical-align: middle;\n",
              "    }\n",
              "\n",
              "    .dataframe tbody tr th {\n",
              "        vertical-align: top;\n",
              "    }\n",
              "\n",
              "    .dataframe thead th {\n",
              "        text-align: right;\n",
              "    }\n",
              "</style>\n",
              "<table border=\"1\" class=\"dataframe\">\n",
              "  <thead>\n",
              "    <tr style=\"text-align: right;\">\n",
              "      <th></th>\n",
              "      <th>CourseId</th>\n",
              "      <th>Review</th>\n",
              "      <th>Label</th>\n",
              "      <th>Review_cleaned</th>\n",
              "      <th>Review_cleaned_without_stopwords</th>\n",
              "    </tr>\n",
              "  </thead>\n",
              "  <tbody>\n",
              "    <tr>\n",
              "      <th>15301</th>\n",
              "      <td>childnutrition</td>\n",
              "      <td>Amazing course. It taught me how to balance my...</td>\n",
              "      <td>5</td>\n",
              "      <td>Amazing course It taught me how to balance my ...</td>\n",
              "      <td>Amazing course It taught balance daily diets</td>\n",
              "    </tr>\n",
              "    <tr>\n",
              "      <th>15302</th>\n",
              "      <td>childnutrition</td>\n",
              "      <td>exelente aprendizaje</td>\n",
              "      <td>5</td>\n",
              "      <td>exelente aprendizaje</td>\n",
              "      <td>exelente aprendizaje</td>\n",
              "    </tr>\n",
              "    <tr>\n",
              "      <th>15303</th>\n",
              "      <td>childnutrition</td>\n",
              "      <td>I thoroughly enjoyed this course! As a profess...</td>\n",
              "      <td>5</td>\n",
              "      <td>I thoroughly enjoyed this course As a professi...</td>\n",
              "      <td>I thoroughly enjoyed course As professional co...</td>\n",
              "    </tr>\n",
              "    <tr>\n",
              "      <th>15304</th>\n",
              "      <td>childnutrition</td>\n",
              "      <td>excelent!</td>\n",
              "      <td>5</td>\n",
              "      <td>excelent</td>\n",
              "      <td>excelent</td>\n",
              "    </tr>\n",
              "    <tr>\n",
              "      <th>15305</th>\n",
              "      <td>childnutrition</td>\n",
              "      <td>Very useful and encourage me to cook healthy f...</td>\n",
              "      <td>5</td>\n",
              "      <td>Very useful and encourage me to cook healthy f...</td>\n",
              "      <td>Very useful encourage cook healthy food notice...</td>\n",
              "    </tr>\n",
              "  </tbody>\n",
              "</table>\n",
              "</div>\n",
              "      <button class=\"colab-df-convert\" onclick=\"convertToInteractive('df-a0543819-2f04-4024-b044-6ba3262f2c21')\"\n",
              "              title=\"Convert this dataframe to an interactive table.\"\n",
              "              style=\"display:none;\">\n",
              "        \n",
              "  <svg xmlns=\"http://www.w3.org/2000/svg\" height=\"24px\"viewBox=\"0 0 24 24\"\n",
              "       width=\"24px\">\n",
              "    <path d=\"M0 0h24v24H0V0z\" fill=\"none\"/>\n",
              "    <path d=\"M18.56 5.44l.94 2.06.94-2.06 2.06-.94-2.06-.94-.94-2.06-.94 2.06-2.06.94zm-11 1L8.5 8.5l.94-2.06 2.06-.94-2.06-.94L8.5 2.5l-.94 2.06-2.06.94zm10 10l.94 2.06.94-2.06 2.06-.94-2.06-.94-.94-2.06-.94 2.06-2.06.94z\"/><path d=\"M17.41 7.96l-1.37-1.37c-.4-.4-.92-.59-1.43-.59-.52 0-1.04.2-1.43.59L10.3 9.45l-7.72 7.72c-.78.78-.78 2.05 0 2.83L4 21.41c.39.39.9.59 1.41.59.51 0 1.02-.2 1.41-.59l7.78-7.78 2.81-2.81c.8-.78.8-2.07 0-2.86zM5.41 20L4 18.59l7.72-7.72 1.47 1.35L5.41 20z\"/>\n",
              "  </svg>\n",
              "      </button>\n",
              "      \n",
              "  <style>\n",
              "    .colab-df-container {\n",
              "      display:flex;\n",
              "      flex-wrap:wrap;\n",
              "      gap: 12px;\n",
              "    }\n",
              "\n",
              "    .colab-df-convert {\n",
              "      background-color: #E8F0FE;\n",
              "      border: none;\n",
              "      border-radius: 50%;\n",
              "      cursor: pointer;\n",
              "      display: none;\n",
              "      fill: #1967D2;\n",
              "      height: 32px;\n",
              "      padding: 0 0 0 0;\n",
              "      width: 32px;\n",
              "    }\n",
              "\n",
              "    .colab-df-convert:hover {\n",
              "      background-color: #E2EBFA;\n",
              "      box-shadow: 0px 1px 2px rgba(60, 64, 67, 0.3), 0px 1px 3px 1px rgba(60, 64, 67, 0.15);\n",
              "      fill: #174EA6;\n",
              "    }\n",
              "\n",
              "    [theme=dark] .colab-df-convert {\n",
              "      background-color: #3B4455;\n",
              "      fill: #D2E3FC;\n",
              "    }\n",
              "\n",
              "    [theme=dark] .colab-df-convert:hover {\n",
              "      background-color: #434B5C;\n",
              "      box-shadow: 0px 1px 3px 1px rgba(0, 0, 0, 0.15);\n",
              "      filter: drop-shadow(0px 1px 2px rgba(0, 0, 0, 0.3));\n",
              "      fill: #FFFFFF;\n",
              "    }\n",
              "  </style>\n",
              "\n",
              "      <script>\n",
              "        const buttonEl =\n",
              "          document.querySelector('#df-a0543819-2f04-4024-b044-6ba3262f2c21 button.colab-df-convert');\n",
              "        buttonEl.style.display =\n",
              "          google.colab.kernel.accessAllowed ? 'block' : 'none';\n",
              "\n",
              "        async function convertToInteractive(key) {\n",
              "          const element = document.querySelector('#df-a0543819-2f04-4024-b044-6ba3262f2c21');\n",
              "          const dataTable =\n",
              "            await google.colab.kernel.invokeFunction('convertToInteractive',\n",
              "                                                     [key], {});\n",
              "          if (!dataTable) return;\n",
              "\n",
              "          const docLinkHtml = 'Like what you see? Visit the ' +\n",
              "            '<a target=\"_blank\" href=https://colab.research.google.com/notebooks/data_table.ipynb>data table notebook</a>'\n",
              "            + ' to learn more about interactive tables.';\n",
              "          element.innerHTML = '';\n",
              "          dataTable['output_type'] = 'display_data';\n",
              "          await google.colab.output.renderOutput(dataTable, element);\n",
              "          const docLink = document.createElement('div');\n",
              "          docLink.innerHTML = docLinkHtml;\n",
              "          element.appendChild(docLink);\n",
              "        }\n",
              "      </script>\n",
              "    </div>\n",
              "  </div>\n",
              "  "
            ]
          },
          "metadata": {},
          "execution_count": 18
        }
      ],
      "source": [
        "Popular_courses=reviews_by_course[reviews_by_course[\"CourseId\"].map(reviews_by_course[\"CourseId\"].value_counts())>1000]\n",
        "Popular_courses.head()"
      ]
    },
    {
      "cell_type": "code",
      "execution_count": 19,
      "metadata": {
        "id": "09wzFPbnl7tG",
        "colab": {
          "base_uri": "https://localhost:8080/"
        },
        "outputId": "c91e2b32-7a0b-4ca8-9043-342db763de5a"
      },
      "outputs": [
        {
          "output_type": "execute_result",
          "data": {
            "text/plain": [
              "array(['childnutrition', 'data-scientists-tools', 'grammar-punctuation',\n",
              "       'html', 'html-css-javascript',\n",
              "       'html-css-javascript-for-web-developers', 'learning-how-to-learn',\n",
              "       'machine-learning', 'ml-foundations', 'python', 'python-data',\n",
              "       'python-network-data', 'r-programming'], dtype=object)"
            ]
          },
          "metadata": {},
          "execution_count": 19
        }
      ],
      "source": [
        "Popular_courses.CourseId.unique()"
      ]
    },
    {
      "cell_type": "code",
      "execution_count": 20,
      "metadata": {
        "id": "fEfOqK77l4Jm",
        "colab": {
          "base_uri": "https://localhost:8080/"
        },
        "outputId": "d5073df1-e001-4e57-a53a-458e749504b4"
      },
      "outputs": [
        {
          "output_type": "execute_result",
          "data": {
            "text/plain": [
              "(36108, 5)"
            ]
          },
          "metadata": {},
          "execution_count": 20
        }
      ],
      "source": [
        "Popular_courses.shape"
      ]
    },
    {
      "cell_type": "markdown",
      "metadata": {
        "id": "exnuRGBy-lAS"
      },
      "source": [
        "Then, We will install packages"
      ]
    },
    {
      "cell_type": "markdown",
      "metadata": {
        "id": "XLpSBNunxvN0"
      },
      "source": [
        "**Import some libraries** \n",
        "#### Fuzzy string matching uses Levenshtein Distance to calculate the differences between sequences in a simple-to-use package.\n",
        "\n",
        "\n",
        "> From fuzzy documentation: https://pypi.org/project/fuzzywuzzy/\n",
        "\n",
        "#### python-Levenshtein is a python extension for computing string edit distances and similarities.\n",
        "\n",
        "\n",
        "> From python-Levenshtein: https://pypi.org/project/python-Levenshtein/\n",
        "\n",
        "\n",
        "Resource: https://medium.com/analytics-vidhya/fuzzy-matching-in-python-2def168dee4a\n"
      ]
    },
    {
      "cell_type": "code",
      "execution_count": 21,
      "metadata": {
        "id": "kxym0QCmqU9J",
        "colab": {
          "base_uri": "https://localhost:8080/"
        },
        "outputId": "dd13b5ea-d333-4726-ca63-1e02ded1c10d"
      },
      "outputs": [
        {
          "output_type": "stream",
          "name": "stdout",
          "text": [
            "Looking in indexes: https://pypi.org/simple, https://us-python.pkg.dev/colab-wheels/public/simple/\n",
            "Collecting fuzzywuzzy\n",
            "  Downloading fuzzywuzzy-0.18.0-py2.py3-none-any.whl (18 kB)\n",
            "Installing collected packages: fuzzywuzzy\n",
            "Successfully installed fuzzywuzzy-0.18.0\n"
          ]
        }
      ],
      "source": [
        "pip install fuzzywuzzy"
      ]
    },
    {
      "cell_type": "code",
      "execution_count": 22,
      "metadata": {
        "id": "FYIyYSdwu3My",
        "colab": {
          "base_uri": "https://localhost:8080/"
        },
        "outputId": "a1721ae5-eb7d-4495-d786-f61c0b5e3e78"
      },
      "outputs": [
        {
          "output_type": "stream",
          "name": "stdout",
          "text": [
            "Looking in indexes: https://pypi.org/simple, https://us-python.pkg.dev/colab-wheels/public/simple/\n",
            "Collecting python-Levenshtein\n",
            "  Downloading python-Levenshtein-0.12.2.tar.gz (50 kB)\n",
            "\u001b[K     |████████████████████████████████| 50 kB 5.7 MB/s \n",
            "\u001b[?25hRequirement already satisfied: setuptools in /usr/local/lib/python3.7/dist-packages (from python-Levenshtein) (57.4.0)\n",
            "Building wheels for collected packages: python-Levenshtein\n",
            "  Building wheel for python-Levenshtein (setup.py) ... \u001b[?25l\u001b[?25hdone\n",
            "  Created wheel for python-Levenshtein: filename=python_Levenshtein-0.12.2-cp37-cp37m-linux_x86_64.whl size=149867 sha256=a6b2fc7dbd19b18ede536f577492403ac85e7930d49568bcd0ab4f180cdd3bb0\n",
            "  Stored in directory: /root/.cache/pip/wheels/05/5f/ca/7c4367734892581bb5ff896f15027a932c551080b2abd3e00d\n",
            "Successfully built python-Levenshtein\n",
            "Installing collected packages: python-Levenshtein\n",
            "Successfully installed python-Levenshtein-0.12.2\n"
          ]
        }
      ],
      "source": [
        "pip install python-Levenshtein"
      ]
    },
    {
      "cell_type": "markdown",
      "metadata": {
        "id": "XWLS7Lomnwli"
      },
      "source": [
        "The concept of Levenshtein Distance sometimes also called as Minimum Edit distance, it is a popular metric for measuring the distance between two strings. It is calculated by counting number of edits required to transform one string into another. \n",
        "\n",
        "Mathematical formula behind the calculation goes by something like this.\n",
        "\n",
        "\n",
        "![image.png](data:image/png;base64,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)"
      ]
    },
    {
      "cell_type": "markdown",
      "metadata": {
        "id": "iNUWZh1K_ZbG"
      },
      "source": [
        "Build recommendation that will return top 3 relateds coures from on user's input based on title similarities. \n",
        "\n",
        "We will use process.ExtractBest function from FuzzyWuzzy..\n",
        "\n",
        "https://www.kite.com/python/docs/fuzzywuzzy.process"
      ]
    },
    {
      "cell_type": "code",
      "execution_count": 23,
      "metadata": {
        "id": "FsTb9_Z9pxSa"
      },
      "outputs": [],
      "source": [
        "from fuzzywuzzy import fuzz\n",
        "from fuzzywuzzy import process\n",
        "\n",
        "def course_recommend(desired_course):\n",
        "    \n",
        "    try:\n",
        "        if desired_course is '' :\n",
        "            print(\"Show the list of courses available:\")\n",
        "            print(list(Popular_courses.CourseId.unique()))\n",
        "        \n",
        "        else:\n",
        "            query = desired_course\n",
        "            options = list(Popular_courses.CourseId.unique())\n",
        "            result = process.extractBests(query, options, limit=3)\n",
        "            df=pd.DataFrame(result, columns=[\"recommended courses\", \"Similarity score\"])\n",
        "            print(df)\n",
        "\n",
        "          \n",
        "\n",
        "    except TypeError:\n",
        "        print(\"Please type again\")"
      ]
    },
    {
      "cell_type": "code",
      "execution_count": 24,
      "metadata": {
        "id": "nJs7LY1WtNG6",
        "colab": {
          "base_uri": "https://localhost:8080/"
        },
        "outputId": "2822e5c8-83d2-4fd9-9b69-17048a5b9482"
      },
      "outputs": [
        {
          "output_type": "stream",
          "name": "stdout",
          "text": [
            "Show the list of courses available:\n",
            "['childnutrition', 'data-scientists-tools', 'grammar-punctuation', 'html', 'html-css-javascript', 'html-css-javascript-for-web-developers', 'learning-how-to-learn', 'machine-learning', 'ml-foundations', 'python', 'python-data', 'python-network-data', 'r-programming']\n"
          ]
        }
      ],
      "source": [
        "course_recommend('')"
      ]
    },
    {
      "cell_type": "code",
      "execution_count": 25,
      "metadata": {
        "id": "RjHYwCyVt8uj",
        "colab": {
          "base_uri": "https://localhost:8080/"
        },
        "outputId": "8a178798-6488-4dd3-9aea-091249c2b7b9"
      },
      "outputs": [
        {
          "output_type": "stream",
          "name": "stdout",
          "text": [
            "     recommended courses  Similarity score\n",
            "0  data-scientists-tools                86\n",
            "1    python-network-data                86\n",
            "2            python-data                50\n"
          ]
        }
      ],
      "source": [
        "course_recommend('data science')"
      ]
    },
    {
      "cell_type": "code",
      "execution_count": 26,
      "metadata": {
        "id": "NO7Mc3bWTS5t",
        "colab": {
          "base_uri": "https://localhost:8080/"
        },
        "outputId": "76778267-2361-44c6-c579-8ababfa0ca4b"
      },
      "outputs": [
        {
          "output_type": "stream",
          "name": "stdout",
          "text": [
            "   recommended courses  Similarity score\n",
            "0               python               100\n",
            "1          python-data                90\n",
            "2  python-network-data                90\n"
          ]
        }
      ],
      "source": [
        "course_recommend('python')"
      ]
    },
    {
      "cell_type": "markdown",
      "metadata": {
        "id": "xDcEBEpaz43w"
      },
      "source": [
        ">**Stop for Zoom Poll:** Once you have completed this step please answer the task completion poll (1 min)."
      ]
    },
    {
      "cell_type": "markdown",
      "metadata": {
        "id": "stjNGgwC1kEU"
      },
      "source": [
        "---"
      ]
    },
    {
      "cell_type": "markdown",
      "metadata": {
        "id": "lTGWVglq0DZb"
      },
      "source": [
        "# F. Sentiment Analysis\n",
        "\n",
        "Sentiment analysis is the use of natural language processing to try to identify, extract, and study subjective information. It is often used to support customer support via reviews and survey responses. "
      ]
    },
    {
      "cell_type": "markdown",
      "metadata": {
        "id": "sfLQl0-r0CLD"
      },
      "source": [
        "#### Let's install Huggingface Transformers library\n",
        "Reference: https://github.com/huggingface/transformers\n",
        "\n",
        "Resource: https://towardsdatascience.com/sentiment-analysis-with-pretrained-transformers-using-pytorch-420bbc1a48cd\n",
        "\n",
        "https://huggingface.co/transformers/main_classes/pipelines.html\n",
        "\n",
        "\n",
        "\n",
        "Transformers provides thousands of pretrained models to perform tasks on texts such as classification, information extraction, question answering, summarization, translation, text generation and more in over 100 languages. \n",
        "\n",
        "It provides APIs to quickly download and use those pretrained models on a given text, fine-tune them on your own datasets and then share them with the community on our model hub. "
      ]
    },
    {
      "cell_type": "code",
      "execution_count": 27,
      "metadata": {
        "id": "Be_WNvdA095I",
        "colab": {
          "base_uri": "https://localhost:8080/"
        },
        "outputId": "51194200-f556-4ae3-d9b8-4dd138b599ed"
      },
      "outputs": [
        {
          "output_type": "stream",
          "name": "stdout",
          "text": [
            "Looking in indexes: https://pypi.org/simple, https://us-python.pkg.dev/colab-wheels/public/simple/\n",
            "Collecting transformers\n",
            "  Downloading transformers-4.21.0-py3-none-any.whl (4.7 MB)\n",
            "\u001b[K     |████████████████████████████████| 4.7 MB 13.1 MB/s \n",
            "\u001b[?25hRequirement already satisfied: requests in /usr/local/lib/python3.7/dist-packages (from transformers) (2.23.0)\n",
            "Collecting tokenizers!=0.11.3,<0.13,>=0.11.1\n",
            "  Downloading tokenizers-0.12.1-cp37-cp37m-manylinux_2_12_x86_64.manylinux2010_x86_64.whl (6.6 MB)\n",
            "\u001b[K     |████████████████████████████████| 6.6 MB 42.9 MB/s \n",
            "\u001b[?25hRequirement already satisfied: filelock in /usr/local/lib/python3.7/dist-packages (from transformers) (3.7.1)\n",
            "Requirement already satisfied: regex!=2019.12.17 in /usr/local/lib/python3.7/dist-packages (from transformers) (2022.6.2)\n",
            "Requirement already satisfied: tqdm>=4.27 in /usr/local/lib/python3.7/dist-packages (from transformers) (4.64.0)\n",
            "Collecting huggingface-hub<1.0,>=0.1.0\n",
            "  Downloading huggingface_hub-0.8.1-py3-none-any.whl (101 kB)\n",
            "\u001b[K     |████████████████████████████████| 101 kB 12.0 MB/s \n",
            "\u001b[?25hRequirement already satisfied: numpy>=1.17 in /usr/local/lib/python3.7/dist-packages (from transformers) (1.21.6)\n",
            "Requirement already satisfied: importlib-metadata in /usr/local/lib/python3.7/dist-packages (from transformers) (4.12.0)\n",
            "Collecting pyyaml>=5.1\n",
            "  Downloading PyYAML-6.0-cp37-cp37m-manylinux_2_5_x86_64.manylinux1_x86_64.manylinux_2_12_x86_64.manylinux2010_x86_64.whl (596 kB)\n",
            "\u001b[K     |████████████████████████████████| 596 kB 68.8 MB/s \n",
            "\u001b[?25hRequirement already satisfied: packaging>=20.0 in /usr/local/lib/python3.7/dist-packages (from transformers) (21.3)\n",
            "Requirement already satisfied: typing-extensions>=3.7.4.3 in /usr/local/lib/python3.7/dist-packages (from huggingface-hub<1.0,>=0.1.0->transformers) (4.1.1)\n",
            "Requirement already satisfied: pyparsing!=3.0.5,>=2.0.2 in /usr/local/lib/python3.7/dist-packages (from packaging>=20.0->transformers) (3.0.9)\n",
            "Requirement already satisfied: zipp>=0.5 in /usr/local/lib/python3.7/dist-packages (from importlib-metadata->transformers) (3.8.1)\n",
            "Requirement already satisfied: urllib3!=1.25.0,!=1.25.1,<1.26,>=1.21.1 in /usr/local/lib/python3.7/dist-packages (from requests->transformers) (1.24.3)\n",
            "Requirement already satisfied: idna<3,>=2.5 in /usr/local/lib/python3.7/dist-packages (from requests->transformers) (2.10)\n",
            "Requirement already satisfied: certifi>=2017.4.17 in /usr/local/lib/python3.7/dist-packages (from requests->transformers) (2022.6.15)\n",
            "Requirement already satisfied: chardet<4,>=3.0.2 in /usr/local/lib/python3.7/dist-packages (from requests->transformers) (3.0.4)\n",
            "Installing collected packages: pyyaml, tokenizers, huggingface-hub, transformers\n",
            "  Attempting uninstall: pyyaml\n",
            "    Found existing installation: PyYAML 3.13\n",
            "    Uninstalling PyYAML-3.13:\n",
            "      Successfully uninstalled PyYAML-3.13\n",
            "Successfully installed huggingface-hub-0.8.1 pyyaml-6.0 tokenizers-0.12.1 transformers-4.21.0\n"
          ]
        }
      ],
      "source": [
        "pip install transformers"
      ]
    },
    {
      "cell_type": "markdown",
      "metadata": {
        "id": "szdtopkO1U-X"
      },
      "source": [
        "Instead of importing the entire library, there is a pipeline module within the library that provides a simple API to perform various NLP tasks "
      ]
    },
    {
      "cell_type": "code",
      "execution_count": 28,
      "metadata": {
        "id": "cOH9jyB61HUK"
      },
      "outputs": [],
      "source": [
        "from transformers import pipeline"
      ]
    },
    {
      "cell_type": "markdown",
      "metadata": {
        "id": "RtIdydJE1gEf"
      },
      "source": [
        "Then, we can start building the sentiment analysis model and tokenizer using the module. To build it, we can do"
      ]
    },
    {
      "cell_type": "code",
      "execution_count": 29,
      "metadata": {
        "colab": {
          "base_uri": "https://localhost:8080/",
          "height": 180,
          "referenced_widgets": [
            "56c252c798844366aa2b06aa98723f19",
            "3344b153c64a4a8dabb29569cfcf0927",
            "180ac65b6c3143e5a1db2c4feb355695",
            "da48655b37994fc4a38d11123f3ffe87",
            "0f45c47cbafb40df8070f564a6cff76b",
            "7c3464ad8af8455d8af40478d0d61800",
            "2070e4cec3b141e290e1f219650551bc",
            "99b5b3107c1548dc9b9ecb374d4202c8",
            "f3fc009a0d4c4da59f8c8c37d055cd89",
            "b7e4fa36033e47c2902b10b285009da3",
            "6debc7125b3d4298b02c0da30dfc5ac8",
            "db28b3c084a147c7a650a3d56387e2ed",
            "3f7c8a42474d4a598970470578865f61",
            "4ffac036b980441e8fe63c8efc7e3716",
            "b47f1328f4cb45c3b9e60f968810e8ba",
            "c14099f48921408c925deecc96a27cae",
            "5d7c991363f4410e8cde193aac4ba3c1",
            "cd469453c5da4f01b55e38650a5b1609",
            "ddfe455d5e594b9a88ceb6f9aa4cc82f",
            "1768fa707cd74c8796b97f7273d86ab2",
            "45f40875395b452897a2f7e19aff7214",
            "c7be6e964d1f4513a4665d26b7eb30cb",
            "0ff2ff1628894771a5c6f4433a3a9266",
            "642a6d0c714a488c8952ee9c5d9015c8",
            "fe4c30485d7b41e49bd11c3793692056",
            "fcb4ab85f4eb44359532588d93b72d05",
            "7ad8a41e3c264dff8d9af7e96ed7617a",
            "b7fda38a4cdb46a99be0329ff5b3f2e0",
            "f534c8027e65493d867071667a9f00ad",
            "3322e09f31f645aeb5ef0e06bd8079ad",
            "9be22fbc878f4a78a22a140572a93983",
            "14e2206ce3b34a95b2af520160191e3f",
            "bbabf00a39c740bcb9e5a910d0c2d454",
            "bff470bd775f481e93813825f6e397ed",
            "5eb383554da8466c9d6543577d384463",
            "d8ed0f774ce34749905e121ec0501f7c",
            "ac66f873c3e64208ac487a810605116a",
            "4fd9045072fe4ea9935fb81e0efd9fb5",
            "c89c405a9621419993d41031e437ff1d",
            "eb8c6dea30b0491093aa3f4618992251",
            "b7d6db1dc17a4d9ebf13b18d6e2f3f61",
            "560dec191a0c4758b0bf8356aa677787",
            "cd012fb0b26949ef8b43dbcfc23590bd",
            "a3a08c72a6464f8fbd7e7aad72b604c4"
          ]
        },
        "id": "bR-R2FLI1Nl8",
        "outputId": "14a0aff0-3c6a-4f43-ae38-7c9cc04adb00"
      },
      "outputs": [
        {
          "output_type": "stream",
          "name": "stderr",
          "text": [
            "No model was supplied, defaulted to distilbert-base-uncased-finetuned-sst-2-english and revision af0f99b (https://huggingface.co/distilbert-base-uncased-finetuned-sst-2-english).\n",
            "Using a pipeline without specifying a model name and revision in production is not recommended.\n"
          ]
        },
        {
          "output_type": "display_data",
          "data": {
            "text/plain": [
              "Downloading config.json:   0%|          | 0.00/629 [00:00<?, ?B/s]"
            ],
            "application/vnd.jupyter.widget-view+json": {
              "version_major": 2,
              "version_minor": 0,
              "model_id": "56c252c798844366aa2b06aa98723f19"
            }
          },
          "metadata": {}
        },
        {
          "output_type": "display_data",
          "data": {
            "text/plain": [
              "Downloading pytorch_model.bin:   0%|          | 0.00/255M [00:00<?, ?B/s]"
            ],
            "application/vnd.jupyter.widget-view+json": {
              "version_major": 2,
              "version_minor": 0,
              "model_id": "db28b3c084a147c7a650a3d56387e2ed"
            }
          },
          "metadata": {}
        },
        {
          "output_type": "display_data",
          "data": {
            "text/plain": [
              "Downloading tokenizer_config.json:   0%|          | 0.00/48.0 [00:00<?, ?B/s]"
            ],
            "application/vnd.jupyter.widget-view+json": {
              "version_major": 2,
              "version_minor": 0,
              "model_id": "0ff2ff1628894771a5c6f4433a3a9266"
            }
          },
          "metadata": {}
        },
        {
          "output_type": "display_data",
          "data": {
            "text/plain": [
              "Downloading vocab.txt:   0%|          | 0.00/226k [00:00<?, ?B/s]"
            ],
            "application/vnd.jupyter.widget-view+json": {
              "version_major": 2,
              "version_minor": 0,
              "model_id": "bff470bd775f481e93813825f6e397ed"
            }
          },
          "metadata": {}
        }
      ],
      "source": [
        "sentiment_analysis = pipeline('sentiment-analysis')"
      ]
    },
    {
      "cell_type": "code",
      "execution_count": 30,
      "metadata": {
        "id": "DtmhlYh52DwM"
      },
      "outputs": [],
      "source": [
        "pos_text = \"I like data science workshop at ukc\"\n",
        "neg_text = \"I don't like data science workshop at ukc\""
      ]
    },
    {
      "cell_type": "code",
      "execution_count": 31,
      "metadata": {
        "colab": {
          "base_uri": "https://localhost:8080/"
        },
        "id": "Qn2Kq5cx2Jg8",
        "outputId": "12da207a-bdfc-4dd7-9b22-a87180fe8227"
      },
      "outputs": [
        {
          "output_type": "stream",
          "name": "stdout",
          "text": [
            "Label: POSITIVE\n",
            "Confidence Score: 0.9914463758468628\n",
            "\n",
            "Label: NEGATIVE\n",
            "Confidence Score: 0.9935709238052368\n"
          ]
        }
      ],
      "source": [
        "result = sentiment_analysis(pos_text)[0]\n",
        "print(\"Label:\", result['label'])\n",
        "print(\"Confidence Score:\", result['score'])\n",
        "print()\n",
        "result = sentiment_analysis(neg_text)[0]\n",
        "print(\"Label:\", result['label'])\n",
        "print(\"Confidence Score:\", result['score'])"
      ]
    },
    {
      "cell_type": "markdown",
      "metadata": {
        "id": "_FoRmFNO2TTN"
      },
      "source": [
        "We can see that the model correctly predicts the two texts into their sentiments, with high confidence score"
      ]
    },
    {
      "cell_type": "markdown",
      "metadata": {
        "id": "et_xqVWg2Y_d"
      },
      "source": [
        "Let's try to use this model to our sample data"
      ]
    },
    {
      "cell_type": "code",
      "execution_count": 32,
      "metadata": {
        "colab": {
          "base_uri": "https://localhost:8080/",
          "height": 363
        },
        "id": "52QsAzNt3m0i",
        "outputId": "265b6f9c-4c4d-4485-f5ca-95b0d4c140f6"
      },
      "outputs": [
        {
          "output_type": "execute_result",
          "data": {
            "text/plain": [
              "     CourseId                                             Review  Label  \\\n",
              "0  2-speed-it                                             BOring      1   \n",
              "1  2-speed-it                                            Bravo !      5   \n",
              "2  2-speed-it                                           Very goo      5   \n",
              "3  2-speed-it  Great course - I recommend it for all, especia...      5   \n",
              "4  2-speed-it    One of the most useful course on IT Management!      5   \n",
              "5  2-speed-it  I was disappointed because the name is mislead...      3   \n",
              "6  2-speed-it    Super content. I'll definitely re-do the course      5   \n",
              "7  2-speed-it  Etant contrôleur de gestion pour le départemen...      5   \n",
              "8  2-speed-it  One of the excellent courses at Coursera for i...      5   \n",
              "9  2-speed-it  Is there any reason why you should not apply t...      5   \n",
              "\n",
              "                                      Review_cleaned  \\\n",
              "0                                             BOring   \n",
              "1                                             Bravo    \n",
              "2                                           Very goo   \n",
              "3  Great course  I recommend it for all especiall...   \n",
              "4     One of the most useful course on IT Management   \n",
              "5  I was disappointed because the name is mislead...   \n",
              "6       Super content Ill definitely redo the course   \n",
              "7  Etant contrôleur de gestion pour le départemen...   \n",
              "8  One of the excellent courses at Coursera for i...   \n",
              "9  Is there any reason why you should not apply t...   \n",
              "\n",
              "                    Review_cleaned_without_stopwords  \n",
              "0                                             BOring  \n",
              "1                                              Bravo  \n",
              "2                                           Very goo  \n",
              "3  Great course I recommend especially IT Busines...  \n",
              "4                    One useful course IT Management  \n",
              "5  I disappointed name misleading The course prov...  \n",
              "6           Super content Ill definitely redo course  \n",
              "7  Etant contrôleur de gestion pour le départemen...  \n",
              "8  One excellent courses Coursera information tec...  \n",
              "9  Is reason apply course BCGIts content pretty u...  "
            ],
            "text/html": [
              "\n",
              "  <div id=\"df-14686050-a24c-40cd-a79f-97170e9ecf87\">\n",
              "    <div class=\"colab-df-container\">\n",
              "      <div>\n",
              "<style scoped>\n",
              "    .dataframe tbody tr th:only-of-type {\n",
              "        vertical-align: middle;\n",
              "    }\n",
              "\n",
              "    .dataframe tbody tr th {\n",
              "        vertical-align: top;\n",
              "    }\n",
              "\n",
              "    .dataframe thead th {\n",
              "        text-align: right;\n",
              "    }\n",
              "</style>\n",
              "<table border=\"1\" class=\"dataframe\">\n",
              "  <thead>\n",
              "    <tr style=\"text-align: right;\">\n",
              "      <th></th>\n",
              "      <th>CourseId</th>\n",
              "      <th>Review</th>\n",
              "      <th>Label</th>\n",
              "      <th>Review_cleaned</th>\n",
              "      <th>Review_cleaned_without_stopwords</th>\n",
              "    </tr>\n",
              "  </thead>\n",
              "  <tbody>\n",
              "    <tr>\n",
              "      <th>0</th>\n",
              "      <td>2-speed-it</td>\n",
              "      <td>BOring</td>\n",
              "      <td>1</td>\n",
              "      <td>BOring</td>\n",
              "      <td>BOring</td>\n",
              "    </tr>\n",
              "    <tr>\n",
              "      <th>1</th>\n",
              "      <td>2-speed-it</td>\n",
              "      <td>Bravo !</td>\n",
              "      <td>5</td>\n",
              "      <td>Bravo</td>\n",
              "      <td>Bravo</td>\n",
              "    </tr>\n",
              "    <tr>\n",
              "      <th>2</th>\n",
              "      <td>2-speed-it</td>\n",
              "      <td>Very goo</td>\n",
              "      <td>5</td>\n",
              "      <td>Very goo</td>\n",
              "      <td>Very goo</td>\n",
              "    </tr>\n",
              "    <tr>\n",
              "      <th>3</th>\n",
              "      <td>2-speed-it</td>\n",
              "      <td>Great course - I recommend it for all, especia...</td>\n",
              "      <td>5</td>\n",
              "      <td>Great course  I recommend it for all especiall...</td>\n",
              "      <td>Great course I recommend especially IT Busines...</td>\n",
              "    </tr>\n",
              "    <tr>\n",
              "      <th>4</th>\n",
              "      <td>2-speed-it</td>\n",
              "      <td>One of the most useful course on IT Management!</td>\n",
              "      <td>5</td>\n",
              "      <td>One of the most useful course on IT Management</td>\n",
              "      <td>One useful course IT Management</td>\n",
              "    </tr>\n",
              "    <tr>\n",
              "      <th>5</th>\n",
              "      <td>2-speed-it</td>\n",
              "      <td>I was disappointed because the name is mislead...</td>\n",
              "      <td>3</td>\n",
              "      <td>I was disappointed because the name is mislead...</td>\n",
              "      <td>I disappointed name misleading The course prov...</td>\n",
              "    </tr>\n",
              "    <tr>\n",
              "      <th>6</th>\n",
              "      <td>2-speed-it</td>\n",
              "      <td>Super content. I'll definitely re-do the course</td>\n",
              "      <td>5</td>\n",
              "      <td>Super content Ill definitely redo the course</td>\n",
              "      <td>Super content Ill definitely redo course</td>\n",
              "    </tr>\n",
              "    <tr>\n",
              "      <th>7</th>\n",
              "      <td>2-speed-it</td>\n",
              "      <td>Etant contrôleur de gestion pour le départemen...</td>\n",
              "      <td>5</td>\n",
              "      <td>Etant contrôleur de gestion pour le départemen...</td>\n",
              "      <td>Etant contrôleur de gestion pour le départemen...</td>\n",
              "    </tr>\n",
              "    <tr>\n",
              "      <th>8</th>\n",
              "      <td>2-speed-it</td>\n",
              "      <td>One of the excellent courses at Coursera for i...</td>\n",
              "      <td>5</td>\n",
              "      <td>One of the excellent courses at Coursera for i...</td>\n",
              "      <td>One excellent courses Coursera information tec...</td>\n",
              "    </tr>\n",
              "    <tr>\n",
              "      <th>9</th>\n",
              "      <td>2-speed-it</td>\n",
              "      <td>Is there any reason why you should not apply t...</td>\n",
              "      <td>5</td>\n",
              "      <td>Is there any reason why you should not apply t...</td>\n",
              "      <td>Is reason apply course BCGIts content pretty u...</td>\n",
              "    </tr>\n",
              "  </tbody>\n",
              "</table>\n",
              "</div>\n",
              "      <button class=\"colab-df-convert\" onclick=\"convertToInteractive('df-14686050-a24c-40cd-a79f-97170e9ecf87')\"\n",
              "              title=\"Convert this dataframe to an interactive table.\"\n",
              "              style=\"display:none;\">\n",
              "        \n",
              "  <svg xmlns=\"http://www.w3.org/2000/svg\" height=\"24px\"viewBox=\"0 0 24 24\"\n",
              "       width=\"24px\">\n",
              "    <path d=\"M0 0h24v24H0V0z\" fill=\"none\"/>\n",
              "    <path d=\"M18.56 5.44l.94 2.06.94-2.06 2.06-.94-2.06-.94-.94-2.06-.94 2.06-2.06.94zm-11 1L8.5 8.5l.94-2.06 2.06-.94-2.06-.94L8.5 2.5l-.94 2.06-2.06.94zm10 10l.94 2.06.94-2.06 2.06-.94-2.06-.94-.94-2.06-.94 2.06-2.06.94z\"/><path d=\"M17.41 7.96l-1.37-1.37c-.4-.4-.92-.59-1.43-.59-.52 0-1.04.2-1.43.59L10.3 9.45l-7.72 7.72c-.78.78-.78 2.05 0 2.83L4 21.41c.39.39.9.59 1.41.59.51 0 1.02-.2 1.41-.59l7.78-7.78 2.81-2.81c.8-.78.8-2.07 0-2.86zM5.41 20L4 18.59l7.72-7.72 1.47 1.35L5.41 20z\"/>\n",
              "  </svg>\n",
              "      </button>\n",
              "      \n",
              "  <style>\n",
              "    .colab-df-container {\n",
              "      display:flex;\n",
              "      flex-wrap:wrap;\n",
              "      gap: 12px;\n",
              "    }\n",
              "\n",
              "    .colab-df-convert {\n",
              "      background-color: #E8F0FE;\n",
              "      border: none;\n",
              "      border-radius: 50%;\n",
              "      cursor: pointer;\n",
              "      display: none;\n",
              "      fill: #1967D2;\n",
              "      height: 32px;\n",
              "      padding: 0 0 0 0;\n",
              "      width: 32px;\n",
              "    }\n",
              "\n",
              "    .colab-df-convert:hover {\n",
              "      background-color: #E2EBFA;\n",
              "      box-shadow: 0px 1px 2px rgba(60, 64, 67, 0.3), 0px 1px 3px 1px rgba(60, 64, 67, 0.15);\n",
              "      fill: #174EA6;\n",
              "    }\n",
              "\n",
              "    [theme=dark] .colab-df-convert {\n",
              "      background-color: #3B4455;\n",
              "      fill: #D2E3FC;\n",
              "    }\n",
              "\n",
              "    [theme=dark] .colab-df-convert:hover {\n",
              "      background-color: #434B5C;\n",
              "      box-shadow: 0px 1px 3px 1px rgba(0, 0, 0, 0.15);\n",
              "      filter: drop-shadow(0px 1px 2px rgba(0, 0, 0, 0.3));\n",
              "      fill: #FFFFFF;\n",
              "    }\n",
              "  </style>\n",
              "\n",
              "      <script>\n",
              "        const buttonEl =\n",
              "          document.querySelector('#df-14686050-a24c-40cd-a79f-97170e9ecf87 button.colab-df-convert');\n",
              "        buttonEl.style.display =\n",
              "          google.colab.kernel.accessAllowed ? 'block' : 'none';\n",
              "\n",
              "        async function convertToInteractive(key) {\n",
              "          const element = document.querySelector('#df-14686050-a24c-40cd-a79f-97170e9ecf87');\n",
              "          const dataTable =\n",
              "            await google.colab.kernel.invokeFunction('convertToInteractive',\n",
              "                                                     [key], {});\n",
              "          if (!dataTable) return;\n",
              "\n",
              "          const docLinkHtml = 'Like what you see? Visit the ' +\n",
              "            '<a target=\"_blank\" href=https://colab.research.google.com/notebooks/data_table.ipynb>data table notebook</a>'\n",
              "            + ' to learn more about interactive tables.';\n",
              "          element.innerHTML = '';\n",
              "          dataTable['output_type'] = 'display_data';\n",
              "          await google.colab.output.renderOutput(dataTable, element);\n",
              "          const docLink = document.createElement('div');\n",
              "          docLink.innerHTML = docLinkHtml;\n",
              "          element.appendChild(docLink);\n",
              "        }\n",
              "      </script>\n",
              "    </div>\n",
              "  </div>\n",
              "  "
            ]
          },
          "metadata": {},
          "execution_count": 32
        }
      ],
      "source": [
        "reviews_by_course.head(10)"
      ]
    },
    {
      "cell_type": "code",
      "execution_count": 33,
      "metadata": {
        "colab": {
          "base_uri": "https://localhost:8080/",
          "height": 467
        },
        "id": "KtgVbDwMYVrZ",
        "outputId": "e33ab81c-7828-4d7a-fb6f-c6db526a449b"
      },
      "outputs": [
        {
          "output_type": "stream",
          "name": "stderr",
          "text": [
            "/usr/local/lib/python3.7/dist-packages/ipykernel_launcher.py:4: SettingWithCopyWarning: \n",
            "A value is trying to be set on a copy of a slice from a DataFrame.\n",
            "Try using .loc[row_indexer,col_indexer] = value instead\n",
            "\n",
            "See the caveats in the documentation: https://pandas.pydata.org/pandas-docs/stable/user_guide/indexing.html#returning-a-view-versus-a-copy\n",
            "  after removing the cwd from sys.path.\n"
          ]
        },
        {
          "output_type": "execute_result",
          "data": {
            "text/plain": [
              "      CourseId                                             Review  Label  \\\n",
              "0   2-speed-it                                             BOring      1   \n",
              "1   2-speed-it                                            Bravo !      5   \n",
              "2   2-speed-it                                           Very goo      5   \n",
              "3   2-speed-it  Great course - I recommend it for all, especia...      5   \n",
              "4   2-speed-it    One of the most useful course on IT Management!      5   \n",
              "6   2-speed-it    Super content. I'll definitely re-do the course      5   \n",
              "7   2-speed-it  Etant contrôleur de gestion pour le départemen...      5   \n",
              "8   2-speed-it  One of the excellent courses at Coursera for i...      5   \n",
              "9   2-speed-it  Is there any reason why you should not apply t...      5   \n",
              "10  2-speed-it   Excellent course and teachers. Congratulations!!      5   \n",
              "\n",
              "                                       Review_cleaned  \\\n",
              "0                                              BOring   \n",
              "1                                              Bravo    \n",
              "2                                            Very goo   \n",
              "3   Great course  I recommend it for all especiall...   \n",
              "4      One of the most useful course on IT Management   \n",
              "6        Super content Ill definitely redo the course   \n",
              "7   Etant contrôleur de gestion pour le départemen...   \n",
              "8   One of the excellent courses at Coursera for i...   \n",
              "9   Is there any reason why you should not apply t...   \n",
              "10      Excellent course and teachers Congratulations   \n",
              "\n",
              "                     Review_cleaned_without_stopwords  sentiment  \n",
              "0                                              BOring         -1  \n",
              "1                                               Bravo          1  \n",
              "2                                            Very goo          1  \n",
              "3   Great course I recommend especially IT Busines...          1  \n",
              "4                     One useful course IT Management          1  \n",
              "6            Super content Ill definitely redo course          1  \n",
              "7   Etant contrôleur de gestion pour le départemen...          1  \n",
              "8   One excellent courses Coursera information tec...          1  \n",
              "9   Is reason apply course BCGIts content pretty u...          1  \n",
              "10          Excellent course teachers Congratulations          1  "
            ],
            "text/html": [
              "\n",
              "  <div id=\"df-982cc33e-829e-4b32-a168-6a894a7ae4e6\">\n",
              "    <div class=\"colab-df-container\">\n",
              "      <div>\n",
              "<style scoped>\n",
              "    .dataframe tbody tr th:only-of-type {\n",
              "        vertical-align: middle;\n",
              "    }\n",
              "\n",
              "    .dataframe tbody tr th {\n",
              "        vertical-align: top;\n",
              "    }\n",
              "\n",
              "    .dataframe thead th {\n",
              "        text-align: right;\n",
              "    }\n",
              "</style>\n",
              "<table border=\"1\" class=\"dataframe\">\n",
              "  <thead>\n",
              "    <tr style=\"text-align: right;\">\n",
              "      <th></th>\n",
              "      <th>CourseId</th>\n",
              "      <th>Review</th>\n",
              "      <th>Label</th>\n",
              "      <th>Review_cleaned</th>\n",
              "      <th>Review_cleaned_without_stopwords</th>\n",
              "      <th>sentiment</th>\n",
              "    </tr>\n",
              "  </thead>\n",
              "  <tbody>\n",
              "    <tr>\n",
              "      <th>0</th>\n",
              "      <td>2-speed-it</td>\n",
              "      <td>BOring</td>\n",
              "      <td>1</td>\n",
              "      <td>BOring</td>\n",
              "      <td>BOring</td>\n",
              "      <td>-1</td>\n",
              "    </tr>\n",
              "    <tr>\n",
              "      <th>1</th>\n",
              "      <td>2-speed-it</td>\n",
              "      <td>Bravo !</td>\n",
              "      <td>5</td>\n",
              "      <td>Bravo</td>\n",
              "      <td>Bravo</td>\n",
              "      <td>1</td>\n",
              "    </tr>\n",
              "    <tr>\n",
              "      <th>2</th>\n",
              "      <td>2-speed-it</td>\n",
              "      <td>Very goo</td>\n",
              "      <td>5</td>\n",
              "      <td>Very goo</td>\n",
              "      <td>Very goo</td>\n",
              "      <td>1</td>\n",
              "    </tr>\n",
              "    <tr>\n",
              "      <th>3</th>\n",
              "      <td>2-speed-it</td>\n",
              "      <td>Great course - I recommend it for all, especia...</td>\n",
              "      <td>5</td>\n",
              "      <td>Great course  I recommend it for all especiall...</td>\n",
              "      <td>Great course I recommend especially IT Busines...</td>\n",
              "      <td>1</td>\n",
              "    </tr>\n",
              "    <tr>\n",
              "      <th>4</th>\n",
              "      <td>2-speed-it</td>\n",
              "      <td>One of the most useful course on IT Management!</td>\n",
              "      <td>5</td>\n",
              "      <td>One of the most useful course on IT Management</td>\n",
              "      <td>One useful course IT Management</td>\n",
              "      <td>1</td>\n",
              "    </tr>\n",
              "    <tr>\n",
              "      <th>6</th>\n",
              "      <td>2-speed-it</td>\n",
              "      <td>Super content. I'll definitely re-do the course</td>\n",
              "      <td>5</td>\n",
              "      <td>Super content Ill definitely redo the course</td>\n",
              "      <td>Super content Ill definitely redo course</td>\n",
              "      <td>1</td>\n",
              "    </tr>\n",
              "    <tr>\n",
              "      <th>7</th>\n",
              "      <td>2-speed-it</td>\n",
              "      <td>Etant contrôleur de gestion pour le départemen...</td>\n",
              "      <td>5</td>\n",
              "      <td>Etant contrôleur de gestion pour le départemen...</td>\n",
              "      <td>Etant contrôleur de gestion pour le départemen...</td>\n",
              "      <td>1</td>\n",
              "    </tr>\n",
              "    <tr>\n",
              "      <th>8</th>\n",
              "      <td>2-speed-it</td>\n",
              "      <td>One of the excellent courses at Coursera for i...</td>\n",
              "      <td>5</td>\n",
              "      <td>One of the excellent courses at Coursera for i...</td>\n",
              "      <td>One excellent courses Coursera information tec...</td>\n",
              "      <td>1</td>\n",
              "    </tr>\n",
              "    <tr>\n",
              "      <th>9</th>\n",
              "      <td>2-speed-it</td>\n",
              "      <td>Is there any reason why you should not apply t...</td>\n",
              "      <td>5</td>\n",
              "      <td>Is there any reason why you should not apply t...</td>\n",
              "      <td>Is reason apply course BCGIts content pretty u...</td>\n",
              "      <td>1</td>\n",
              "    </tr>\n",
              "    <tr>\n",
              "      <th>10</th>\n",
              "      <td>2-speed-it</td>\n",
              "      <td>Excellent course and teachers. Congratulations!!</td>\n",
              "      <td>5</td>\n",
              "      <td>Excellent course and teachers Congratulations</td>\n",
              "      <td>Excellent course teachers Congratulations</td>\n",
              "      <td>1</td>\n",
              "    </tr>\n",
              "  </tbody>\n",
              "</table>\n",
              "</div>\n",
              "      <button class=\"colab-df-convert\" onclick=\"convertToInteractive('df-982cc33e-829e-4b32-a168-6a894a7ae4e6')\"\n",
              "              title=\"Convert this dataframe to an interactive table.\"\n",
              "              style=\"display:none;\">\n",
              "        \n",
              "  <svg xmlns=\"http://www.w3.org/2000/svg\" height=\"24px\"viewBox=\"0 0 24 24\"\n",
              "       width=\"24px\">\n",
              "    <path d=\"M0 0h24v24H0V0z\" fill=\"none\"/>\n",
              "    <path d=\"M18.56 5.44l.94 2.06.94-2.06 2.06-.94-2.06-.94-.94-2.06-.94 2.06-2.06.94zm-11 1L8.5 8.5l.94-2.06 2.06-.94-2.06-.94L8.5 2.5l-.94 2.06-2.06.94zm10 10l.94 2.06.94-2.06 2.06-.94-2.06-.94-.94-2.06-.94 2.06-2.06.94z\"/><path d=\"M17.41 7.96l-1.37-1.37c-.4-.4-.92-.59-1.43-.59-.52 0-1.04.2-1.43.59L10.3 9.45l-7.72 7.72c-.78.78-.78 2.05 0 2.83L4 21.41c.39.39.9.59 1.41.59.51 0 1.02-.2 1.41-.59l7.78-7.78 2.81-2.81c.8-.78.8-2.07 0-2.86zM5.41 20L4 18.59l7.72-7.72 1.47 1.35L5.41 20z\"/>\n",
              "  </svg>\n",
              "      </button>\n",
              "      \n",
              "  <style>\n",
              "    .colab-df-container {\n",
              "      display:flex;\n",
              "      flex-wrap:wrap;\n",
              "      gap: 12px;\n",
              "    }\n",
              "\n",
              "    .colab-df-convert {\n",
              "      background-color: #E8F0FE;\n",
              "      border: none;\n",
              "      border-radius: 50%;\n",
              "      cursor: pointer;\n",
              "      display: none;\n",
              "      fill: #1967D2;\n",
              "      height: 32px;\n",
              "      padding: 0 0 0 0;\n",
              "      width: 32px;\n",
              "    }\n",
              "\n",
              "    .colab-df-convert:hover {\n",
              "      background-color: #E2EBFA;\n",
              "      box-shadow: 0px 1px 2px rgba(60, 64, 67, 0.3), 0px 1px 3px 1px rgba(60, 64, 67, 0.15);\n",
              "      fill: #174EA6;\n",
              "    }\n",
              "\n",
              "    [theme=dark] .colab-df-convert {\n",
              "      background-color: #3B4455;\n",
              "      fill: #D2E3FC;\n",
              "    }\n",
              "\n",
              "    [theme=dark] .colab-df-convert:hover {\n",
              "      background-color: #434B5C;\n",
              "      box-shadow: 0px 1px 3px 1px rgba(0, 0, 0, 0.15);\n",
              "      filter: drop-shadow(0px 1px 2px rgba(0, 0, 0, 0.3));\n",
              "      fill: #FFFFFF;\n",
              "    }\n",
              "  </style>\n",
              "\n",
              "      <script>\n",
              "        const buttonEl =\n",
              "          document.querySelector('#df-982cc33e-829e-4b32-a168-6a894a7ae4e6 button.colab-df-convert');\n",
              "        buttonEl.style.display =\n",
              "          google.colab.kernel.accessAllowed ? 'block' : 'none';\n",
              "\n",
              "        async function convertToInteractive(key) {\n",
              "          const element = document.querySelector('#df-982cc33e-829e-4b32-a168-6a894a7ae4e6');\n",
              "          const dataTable =\n",
              "            await google.colab.kernel.invokeFunction('convertToInteractive',\n",
              "                                                     [key], {});\n",
              "          if (!dataTable) return;\n",
              "\n",
              "          const docLinkHtml = 'Like what you see? Visit the ' +\n",
              "            '<a target=\"_blank\" href=https://colab.research.google.com/notebooks/data_table.ipynb>data table notebook</a>'\n",
              "            + ' to learn more about interactive tables.';\n",
              "          element.innerHTML = '';\n",
              "          dataTable['output_type'] = 'display_data';\n",
              "          await google.colab.output.renderOutput(dataTable, element);\n",
              "          const docLink = document.createElement('div');\n",
              "          docLink.innerHTML = docLinkHtml;\n",
              "          element.appendChild(docLink);\n",
              "        }\n",
              "      </script>\n",
              "    </div>\n",
              "  </div>\n",
              "  "
            ]
          },
          "metadata": {},
          "execution_count": 33
        }
      ],
      "source": [
        "# assign reviews with score > 3 as positive sentiment\n",
        "# score < 3 negative sentiment\n",
        "reviews_by_course = reviews_by_course[reviews_by_course['Label'] != 3]\n",
        "reviews_by_course['sentiment'] = reviews_by_course['Label'].apply(lambda rating : +1 if rating > 3 else -1)\n",
        "reviews_by_course.head(10)"
      ]
    },
    {
      "cell_type": "code",
      "execution_count": 34,
      "metadata": {
        "id": "e5Hm0gVSY9Dw"
      },
      "outputs": [],
      "source": [
        "# split df - positive and negative sentiment:\n",
        "positive = reviews_by_course[reviews_by_course['sentiment'] == 1]\n",
        "negative = reviews_by_course[reviews_by_course['sentiment'] == -1]"
      ]
    },
    {
      "cell_type": "code",
      "execution_count": 65,
      "metadata": {
        "colab": {
          "base_uri": "https://localhost:8080/",
          "height": 283
        },
        "id": "VOH0ygq1xJZq",
        "outputId": "ee5e9f76-79ad-4bed-80a1-f8580b602259"
      },
      "outputs": [
        {
          "output_type": "display_data",
          "data": {
            "text/plain": [
              "<Figure size 432x288 with 1 Axes>"
            ],
            "image/png": "[encoded data removed]"
          },
          "metadata": {
            "needs_background": "light"
          }
        }
      ],
      "source": [
        "#https://matplotlib.org/stable/tutorials/colors/colors.html\n",
        "from matplotlib import pyplot as plt\n",
        "\n",
        "reviews_by_course['sentiment'] = reviews_by_course['sentiment'].replace({-1 : 'negative'})\n",
        "reviews_by_course['sentiment'] = reviews_by_course['sentiment'].replace({1 : 'positive'})\n",
        "fig = plt.hist(reviews_by_course['sentiment'].values)\n",
        "# fig.update_traces(marker_color=\"mediumseagreen\",marker_line_color='rgb(8,48,107)',\n",
        "#                   marker_line_width=1.5)\n",
        "plt.title('Sentiment distribution')\n",
        "plt.show()"
      ]
    },
    {
      "cell_type": "code",
      "execution_count": 43,
      "metadata": {
        "colab": {
          "base_uri": "https://localhost:8080/",
          "height": 302
        },
        "id": "KDJOS701frDO",
        "outputId": "60507fe6-e19f-4188-99b9-88f05fb3fe68"
      },
      "outputs": [
        {
          "output_type": "execute_result",
          "data": {
            "text/plain": [
              "                     CourseId  \\\n",
              "0                  2-speed-it   \n",
              "18                 2-speed-it   \n",
              "34                     2d-cad   \n",
              "94   3d-printing-applications   \n",
              "117  3d-printing-applications   \n",
              "\n",
              "                                                Review  Label  \\\n",
              "0                                               BOring      1   \n",
              "18   This course does not say anything about digiti...      2   \n",
              "34   一开始无法上传自己的作业，后来无法审核同学的作业，到现在课程超期无法学习下一门课程，对课程作...      1   \n",
              "94   This course doesn't contain any new informatio...      1   \n",
              "117  While there is some interesting content, parti...      2   \n",
              "\n",
              "                                        Review_cleaned  \\\n",
              "0                                               BOring   \n",
              "18   This course does not say anything about digiti...   \n",
              "34   一开始无法上传自己的作业，后来无法审核同学的作业，到现在课程超期无法学习下一门课程，对课程作...   \n",
              "94   This course doesnt contain any new information...   \n",
              "117  While there is some interesting content partic...   \n",
              "\n",
              "                      Review_cleaned_without_stopwords  sentiment  \n",
              "0                                               BOring         -1  \n",
              "18   This course say anything digitization core sub...         -1  \n",
              "34   一开始无法上传自己的作业，后来无法审核同学的作业，到现在课程超期无法学习下一门课程，对课程作...         -1  \n",
              "94   This course doesnt contain new information It ...         -1  \n",
              "117  While interesting content particuarly last wee...         -1  "
            ],
            "text/html": [
              "\n",
              "  <div id=\"df-f4d9b9be-5c63-44d1-a343-f29eaeaa0177\">\n",
              "    <div class=\"colab-df-container\">\n",
              "      <div>\n",
              "<style scoped>\n",
              "    .dataframe tbody tr th:only-of-type {\n",
              "        vertical-align: middle;\n",
              "    }\n",
              "\n",
              "    .dataframe tbody tr th {\n",
              "        vertical-align: top;\n",
              "    }\n",
              "\n",
              "    .dataframe thead th {\n",
              "        text-align: right;\n",
              "    }\n",
              "</style>\n",
              "<table border=\"1\" class=\"dataframe\">\n",
              "  <thead>\n",
              "    <tr style=\"text-align: right;\">\n",
              "      <th></th>\n",
              "      <th>CourseId</th>\n",
              "      <th>Review</th>\n",
              "      <th>Label</th>\n",
              "      <th>Review_cleaned</th>\n",
              "      <th>Review_cleaned_without_stopwords</th>\n",
              "      <th>sentiment</th>\n",
              "    </tr>\n",
              "  </thead>\n",
              "  <tbody>\n",
              "    <tr>\n",
              "      <th>0</th>\n",
              "      <td>2-speed-it</td>\n",
              "      <td>BOring</td>\n",
              "      <td>1</td>\n",
              "      <td>BOring</td>\n",
              "      <td>BOring</td>\n",
              "      <td>-1</td>\n",
              "    </tr>\n",
              "    <tr>\n",
              "      <th>18</th>\n",
              "      <td>2-speed-it</td>\n",
              "      <td>This course does not say anything about digiti...</td>\n",
              "      <td>2</td>\n",
              "      <td>This course does not say anything about digiti...</td>\n",
              "      <td>This course say anything digitization core sub...</td>\n",
              "      <td>-1</td>\n",
              "    </tr>\n",
              "    <tr>\n",
              "      <th>34</th>\n",
              "      <td>2d-cad</td>\n",
              "      <td>一开始无法上传自己的作业，后来无法审核同学的作业，到现在课程超期无法学习下一门课程，对课程作...</td>\n",
              "      <td>1</td>\n",
              "      <td>一开始无法上传自己的作业，后来无法审核同学的作业，到现在课程超期无法学习下一门课程，对课程作...</td>\n",
              "      <td>一开始无法上传自己的作业，后来无法审核同学的作业，到现在课程超期无法学习下一门课程，对课程作...</td>\n",
              "      <td>-1</td>\n",
              "    </tr>\n",
              "    <tr>\n",
              "      <th>94</th>\n",
              "      <td>3d-printing-applications</td>\n",
              "      <td>This course doesn't contain any new informatio...</td>\n",
              "      <td>1</td>\n",
              "      <td>This course doesnt contain any new information...</td>\n",
              "      <td>This course doesnt contain new information It ...</td>\n",
              "      <td>-1</td>\n",
              "    </tr>\n",
              "    <tr>\n",
              "      <th>117</th>\n",
              "      <td>3d-printing-applications</td>\n",
              "      <td>While there is some interesting content, parti...</td>\n",
              "      <td>2</td>\n",
              "      <td>While there is some interesting content partic...</td>\n",
              "      <td>While interesting content particuarly last wee...</td>\n",
              "      <td>-1</td>\n",
              "    </tr>\n",
              "  </tbody>\n",
              "</table>\n",
              "</div>\n",
              "      <button class=\"colab-df-convert\" onclick=\"convertToInteractive('df-f4d9b9be-5c63-44d1-a343-f29eaeaa0177')\"\n",
              "              title=\"Convert this dataframe to an interactive table.\"\n",
              "              style=\"display:none;\">\n",
              "        \n",
              "  <svg xmlns=\"http://www.w3.org/2000/svg\" height=\"24px\"viewBox=\"0 0 24 24\"\n",
              "       width=\"24px\">\n",
              "    <path d=\"M0 0h24v24H0V0z\" fill=\"none\"/>\n",
              "    <path d=\"M18.56 5.44l.94 2.06.94-2.06 2.06-.94-2.06-.94-.94-2.06-.94 2.06-2.06.94zm-11 1L8.5 8.5l.94-2.06 2.06-.94-2.06-.94L8.5 2.5l-.94 2.06-2.06.94zm10 10l.94 2.06.94-2.06 2.06-.94-2.06-.94-.94-2.06-.94 2.06-2.06.94z\"/><path d=\"M17.41 7.96l-1.37-1.37c-.4-.4-.92-.59-1.43-.59-.52 0-1.04.2-1.43.59L10.3 9.45l-7.72 7.72c-.78.78-.78 2.05 0 2.83L4 21.41c.39.39.9.59 1.41.59.51 0 1.02-.2 1.41-.59l7.78-7.78 2.81-2.81c.8-.78.8-2.07 0-2.86zM5.41 20L4 18.59l7.72-7.72 1.47 1.35L5.41 20z\"/>\n",
              "  </svg>\n",
              "      </button>\n",
              "      \n",
              "  <style>\n",
              "    .colab-df-container {\n",
              "      display:flex;\n",
              "      flex-wrap:wrap;\n",
              "      gap: 12px;\n",
              "    }\n",
              "\n",
              "    .colab-df-convert {\n",
              "      background-color: #E8F0FE;\n",
              "      border: none;\n",
              "      border-radius: 50%;\n",
              "      cursor: pointer;\n",
              "      display: none;\n",
              "      fill: #1967D2;\n",
              "      height: 32px;\n",
              "      padding: 0 0 0 0;\n",
              "      width: 32px;\n",
              "    }\n",
              "\n",
              "    .colab-df-convert:hover {\n",
              "      background-color: #E2EBFA;\n",
              "      box-shadow: 0px 1px 2px rgba(60, 64, 67, 0.3), 0px 1px 3px 1px rgba(60, 64, 67, 0.15);\n",
              "      fill: #174EA6;\n",
              "    }\n",
              "\n",
              "    [theme=dark] .colab-df-convert {\n",
              "      background-color: #3B4455;\n",
              "      fill: #D2E3FC;\n",
              "    }\n",
              "\n",
              "    [theme=dark] .colab-df-convert:hover {\n",
              "      background-color: #434B5C;\n",
              "      box-shadow: 0px 1px 3px 1px rgba(0, 0, 0, 0.15);\n",
              "      filter: drop-shadow(0px 1px 2px rgba(0, 0, 0, 0.3));\n",
              "      fill: #FFFFFF;\n",
              "    }\n",
              "  </style>\n",
              "\n",
              "      <script>\n",
              "        const buttonEl =\n",
              "          document.querySelector('#df-f4d9b9be-5c63-44d1-a343-f29eaeaa0177 button.colab-df-convert');\n",
              "        buttonEl.style.display =\n",
              "          google.colab.kernel.accessAllowed ? 'block' : 'none';\n",
              "\n",
              "        async function convertToInteractive(key) {\n",
              "          const element = document.querySelector('#df-f4d9b9be-5c63-44d1-a343-f29eaeaa0177');\n",
              "          const dataTable =\n",
              "            await google.colab.kernel.invokeFunction('convertToInteractive',\n",
              "                                                     [key], {});\n",
              "          if (!dataTable) return;\n",
              "\n",
              "          const docLinkHtml = 'Like what you see? Visit the ' +\n",
              "            '<a target=\"_blank\" href=https://colab.research.google.com/notebooks/data_table.ipynb>data table notebook</a>'\n",
              "            + ' to learn more about interactive tables.';\n",
              "          element.innerHTML = '';\n",
              "          dataTable['output_type'] = 'display_data';\n",
              "          await google.colab.output.renderOutput(dataTable, element);\n",
              "          const docLink = document.createElement('div');\n",
              "          docLink.innerHTML = docLinkHtml;\n",
              "          element.appendChild(docLink);\n",
              "        }\n",
              "      </script>\n",
              "    </div>\n",
              "  </div>\n",
              "  "
            ]
          },
          "metadata": {},
          "execution_count": 43
        }
      ],
      "source": [
        "negative.head()"
      ]
    },
    {
      "cell_type": "code",
      "execution_count": 44,
      "metadata": {
        "colab": {
          "base_uri": "https://localhost:8080/"
        },
        "id": "5tR3nQNm2d5A",
        "outputId": "fb657342-37cc-4d69-c0df-75c0b813017e"
      },
      "outputs": [
        {
          "output_type": "execute_result",
          "data": {
            "text/plain": [
              "(5420, 6)"
            ]
          },
          "metadata": {},
          "execution_count": 44
        }
      ],
      "source": [
        "negative.shape"
      ]
    },
    {
      "cell_type": "code",
      "execution_count": 45,
      "metadata": {
        "colab": {
          "base_uri": "https://localhost:8080/"
        },
        "id": "r0takOWD2dxT",
        "outputId": "f484172b-864a-487b-c94f-7ad82fba0dc8"
      },
      "outputs": [
        {
          "output_type": "execute_result",
          "data": {
            "text/plain": [
              "r-programming                134\n",
              "data-scientists-tools        113\n",
              "analytics-excel              104\n",
              "swift-programming             91\n",
              "statistical-inference         66\n",
              "                            ... \n",
              "gamedev-platforms              1\n",
              "principles-of-computing-1      1\n",
              "games                          1\n",
              "gastronomy                     1\n",
              "zika                           1\n",
              "Name: CourseId, Length: 1023, dtype: int64"
            ]
          },
          "metadata": {},
          "execution_count": 45
        }
      ],
      "source": [
        "negative['CourseId'].value_counts()"
      ]
    },
    {
      "cell_type": "markdown",
      "metadata": {
        "id": "PlzPM7RgBZ9L"
      },
      "source": [
        "Let's select one course and their negative reviews"
      ]
    },
    {
      "cell_type": "code",
      "execution_count": 46,
      "metadata": {
        "colab": {
          "base_uri": "https://localhost:8080/",
          "height": 206
        },
        "id": "finpq9J_2die",
        "outputId": "526cd069-efaa-4d70-e779-84e80d86946e"
      },
      "outputs": [
        {
          "output_type": "execute_result",
          "data": {
            "text/plain": [
              "                    CourseId  \\\n",
              "23705  data-scientists-tools   \n",
              "23706  data-scientists-tools   \n",
              "23765  data-scientists-tools   \n",
              "23769  data-scientists-tools   \n",
              "23855  data-scientists-tools   \n",
              "\n",
              "                                                  Review  Label  \\\n",
              "23705                                           annoying      1   \n",
              "23706  Very, very, very basic intro. The entire 4 wee...      2   \n",
              "23765  i feel that the course need more explanation ....      2   \n",
              "23769  Very basic course, I was able to complete the ...      2   \n",
              "23855  A very big difficulty for me, French people wh...      2   \n",
              "\n",
              "                                          Review_cleaned  \\\n",
              "23705                                           annoying   \n",
              "23706  Very very very basic intro The entire  weeks c...   \n",
              "23765  i feel that the course need more explanation  ...   \n",
              "23769  Very basic course I was able to complete the  ...   \n",
              "23855  A very big difficulty for me French people who...   \n",
              "\n",
              "                        Review_cleaned_without_stopwords  sentiment  \n",
              "23705                                           annoying         -1  \n",
              "23706  Very basic intro The entire weeks could conden...         -1  \n",
              "23765  feel course need explanation got really lost b...         -1  \n",
              "23769  Very basic course I able complete weeks conten...         -1  \n",
              "23855  A big difficulty French people uses speak engl...         -1  "
            ],
            "text/html": [
              "\n",
              "  <div id=\"df-5467d762-6822-48fe-9870-724b1adf2837\">\n",
              "    <div class=\"colab-df-container\">\n",
              "      <div>\n",
              "<style scoped>\n",
              "    .dataframe tbody tr th:only-of-type {\n",
              "        vertical-align: middle;\n",
              "    }\n",
              "\n",
              "    .dataframe tbody tr th {\n",
              "        vertical-align: top;\n",
              "    }\n",
              "\n",
              "    .dataframe thead th {\n",
              "        text-align: right;\n",
              "    }\n",
              "</style>\n",
              "<table border=\"1\" class=\"dataframe\">\n",
              "  <thead>\n",
              "    <tr style=\"text-align: right;\">\n",
              "      <th></th>\n",
              "      <th>CourseId</th>\n",
              "      <th>Review</th>\n",
              "      <th>Label</th>\n",
              "      <th>Review_cleaned</th>\n",
              "      <th>Review_cleaned_without_stopwords</th>\n",
              "      <th>sentiment</th>\n",
              "    </tr>\n",
              "  </thead>\n",
              "  <tbody>\n",
              "    <tr>\n",
              "      <th>23705</th>\n",
              "      <td>data-scientists-tools</td>\n",
              "      <td>annoying</td>\n",
              "      <td>1</td>\n",
              "      <td>annoying</td>\n",
              "      <td>annoying</td>\n",
              "      <td>-1</td>\n",
              "    </tr>\n",
              "    <tr>\n",
              "      <th>23706</th>\n",
              "      <td>data-scientists-tools</td>\n",
              "      <td>Very, very, very basic intro. The entire 4 wee...</td>\n",
              "      <td>2</td>\n",
              "      <td>Very very very basic intro The entire  weeks c...</td>\n",
              "      <td>Very basic intro The entire weeks could conden...</td>\n",
              "      <td>-1</td>\n",
              "    </tr>\n",
              "    <tr>\n",
              "      <th>23765</th>\n",
              "      <td>data-scientists-tools</td>\n",
              "      <td>i feel that the course need more explanation ....</td>\n",
              "      <td>2</td>\n",
              "      <td>i feel that the course need more explanation  ...</td>\n",
              "      <td>feel course need explanation got really lost b...</td>\n",
              "      <td>-1</td>\n",
              "    </tr>\n",
              "    <tr>\n",
              "      <th>23769</th>\n",
              "      <td>data-scientists-tools</td>\n",
              "      <td>Very basic course, I was able to complete the ...</td>\n",
              "      <td>2</td>\n",
              "      <td>Very basic course I was able to complete the  ...</td>\n",
              "      <td>Very basic course I able complete weeks conten...</td>\n",
              "      <td>-1</td>\n",
              "    </tr>\n",
              "    <tr>\n",
              "      <th>23855</th>\n",
              "      <td>data-scientists-tools</td>\n",
              "      <td>A very big difficulty for me, French people wh...</td>\n",
              "      <td>2</td>\n",
              "      <td>A very big difficulty for me French people who...</td>\n",
              "      <td>A big difficulty French people uses speak engl...</td>\n",
              "      <td>-1</td>\n",
              "    </tr>\n",
              "  </tbody>\n",
              "</table>\n",
              "</div>\n",
              "      <button class=\"colab-df-convert\" onclick=\"convertToInteractive('df-5467d762-6822-48fe-9870-724b1adf2837')\"\n",
              "              title=\"Convert this dataframe to an interactive table.\"\n",
              "              style=\"display:none;\">\n",
              "        \n",
              "  <svg xmlns=\"http://www.w3.org/2000/svg\" height=\"24px\"viewBox=\"0 0 24 24\"\n",
              "       width=\"24px\">\n",
              "    <path d=\"M0 0h24v24H0V0z\" fill=\"none\"/>\n",
              "    <path d=\"M18.56 5.44l.94 2.06.94-2.06 2.06-.94-2.06-.94-.94-2.06-.94 2.06-2.06.94zm-11 1L8.5 8.5l.94-2.06 2.06-.94-2.06-.94L8.5 2.5l-.94 2.06-2.06.94zm10 10l.94 2.06.94-2.06 2.06-.94-2.06-.94-.94-2.06-.94 2.06-2.06.94z\"/><path d=\"M17.41 7.96l-1.37-1.37c-.4-.4-.92-.59-1.43-.59-.52 0-1.04.2-1.43.59L10.3 9.45l-7.72 7.72c-.78.78-.78 2.05 0 2.83L4 21.41c.39.39.9.59 1.41.59.51 0 1.02-.2 1.41-.59l7.78-7.78 2.81-2.81c.8-.78.8-2.07 0-2.86zM5.41 20L4 18.59l7.72-7.72 1.47 1.35L5.41 20z\"/>\n",
              "  </svg>\n",
              "      </button>\n",
              "      \n",
              "  <style>\n",
              "    .colab-df-container {\n",
              "      display:flex;\n",
              "      flex-wrap:wrap;\n",
              "      gap: 12px;\n",
              "    }\n",
              "\n",
              "    .colab-df-convert {\n",
              "      background-color: #E8F0FE;\n",
              "      border: none;\n",
              "      border-radius: 50%;\n",
              "      cursor: pointer;\n",
              "      display: none;\n",
              "      fill: #1967D2;\n",
              "      height: 32px;\n",
              "      padding: 0 0 0 0;\n",
              "      width: 32px;\n",
              "    }\n",
              "\n",
              "    .colab-df-convert:hover {\n",
              "      background-color: #E2EBFA;\n",
              "      box-shadow: 0px 1px 2px rgba(60, 64, 67, 0.3), 0px 1px 3px 1px rgba(60, 64, 67, 0.15);\n",
              "      fill: #174EA6;\n",
              "    }\n",
              "\n",
              "    [theme=dark] .colab-df-convert {\n",
              "      background-color: #3B4455;\n",
              "      fill: #D2E3FC;\n",
              "    }\n",
              "\n",
              "    [theme=dark] .colab-df-convert:hover {\n",
              "      background-color: #434B5C;\n",
              "      box-shadow: 0px 1px 3px 1px rgba(0, 0, 0, 0.15);\n",
              "      filter: drop-shadow(0px 1px 2px rgba(0, 0, 0, 0.3));\n",
              "      fill: #FFFFFF;\n",
              "    }\n",
              "  </style>\n",
              "\n",
              "      <script>\n",
              "        const buttonEl =\n",
              "          document.querySelector('#df-5467d762-6822-48fe-9870-724b1adf2837 button.colab-df-convert');\n",
              "        buttonEl.style.display =\n",
              "          google.colab.kernel.accessAllowed ? 'block' : 'none';\n",
              "\n",
              "        async function convertToInteractive(key) {\n",
              "          const element = document.querySelector('#df-5467d762-6822-48fe-9870-724b1adf2837');\n",
              "          const dataTable =\n",
              "            await google.colab.kernel.invokeFunction('convertToInteractive',\n",
              "                                                     [key], {});\n",
              "          if (!dataTable) return;\n",
              "\n",
              "          const docLinkHtml = 'Like what you see? Visit the ' +\n",
              "            '<a target=\"_blank\" href=https://colab.research.google.com/notebooks/data_table.ipynb>data table notebook</a>'\n",
              "            + ' to learn more about interactive tables.';\n",
              "          element.innerHTML = '';\n",
              "          dataTable['output_type'] = 'display_data';\n",
              "          await google.colab.output.renderOutput(dataTable, element);\n",
              "          const docLink = document.createElement('div');\n",
              "          docLink.innerHTML = docLinkHtml;\n",
              "          element.appendChild(docLink);\n",
              "        }\n",
              "      </script>\n",
              "    </div>\n",
              "  </div>\n",
              "  "
            ]
          },
          "metadata": {},
          "execution_count": 46
        }
      ],
      "source": [
        "subset_courses2=negative[negative[\"CourseId\"]=='data-scientists-tools']\n",
        "subset_courses2.shape\n",
        "subset_courses2.head(5)"
      ]
    },
    {
      "cell_type": "markdown",
      "metadata": {
        "id": "wzvVIrM3BgR-"
      },
      "source": [
        "Let's make the raw review column into list of reviews"
      ]
    },
    {
      "cell_type": "code",
      "execution_count": 49,
      "metadata": {
        "id": "UtKEMqgf6rwC"
      },
      "outputs": [],
      "source": [
        "negative_list=negative.Review.tolist()"
      ]
    },
    {
      "cell_type": "code",
      "execution_count": 51,
      "metadata": {
        "colab": {
          "base_uri": "https://localhost:8080/"
        },
        "id": "TMMKEi_z7WaY",
        "outputId": "bd23aee6-168b-4e06-9955-42095f9ad8de"
      },
      "outputs": [
        {
          "output_type": "execute_result",
          "data": {
            "text/plain": [
              "['BOring',\n",
              " 'This course does not say anything about digitization which is the core subject of the digital wave.',\n",
              " '一开始无法上传自己的作业，后来无法审核同学的作业，到现在课程超期无法学习下一门课程，对课程作业审查的灵活性有非常大的意见。',\n",
              " \"This course doesn't contain any new information. It does not teach you but just excitedly shows commonly known facts.There are better ways to invest your time.\",\n",
              " \"While there is some interesting content, particuarly in the last week on design thinking, some of the course topics don't seem to hold together well, and the videos include a lot of monotonous talking heads. While this conveys the benefit of being able to listen to some of the videos without consistently watching, the interview questions asked of speakers are sometimes printed on the screen and not asked verbally. If you're not watching, you miss the questions. I would like to see this course refocused on design thinking for 3D printing, with other applications interspersed as examples rather than constituting the lion's share of the course. I believe that format would both be more engaging and do a better job of delivering skills with more opportunity for practice.\"]"
            ]
          },
          "metadata": {},
          "execution_count": 51
        }
      ],
      "source": [
        "negative_list[:5]"
      ]
    },
    {
      "cell_type": "markdown",
      "metadata": {
        "id": "mfDOP47HCXOK"
      },
      "source": [
        "Let's see how our model predicts"
      ]
    },
    {
      "cell_type": "code",
      "execution_count": 56,
      "metadata": {
        "colab": {
          "base_uri": "https://localhost:8080/"
        },
        "id": "kswUzx29Ahzq",
        "outputId": "344f821a-81a0-4681-907e-5fccf5cbaca3"
      },
      "outputs": [
        {
          "output_type": "stream",
          "name": "stdout",
          "text": [
            "label: NEGATIVE, with score: 0.9998\n",
            "label: NEGATIVE, with score: 0.9995\n",
            "label: POSITIVE, with score: 0.6628\n",
            "label: NEGATIVE, with score: 0.998\n",
            "label: NEGATIVE, with score: 0.9993\n"
          ]
        }
      ],
      "source": [
        "results = sentiment_analysis([negative_list[0],negative_list[1], negative_list[3], negative_list[4], negative_list[5]])\n",
        "for result in results:\n",
        "    print(f\"label: {result['label']}, with score: {round(result['score'], 4)}\")"
      ]
    },
    {
      "cell_type": "markdown",
      "metadata": {
        "id": "LKYFnAV0z9AF"
      },
      "source": [
        ">**Stop for Zoom Poll:** Once you have completed this step please answer the task completion poll (1 min)."
      ]
    },
    {
      "cell_type": "markdown",
      "metadata": {
        "id": "81Up8cMlhA6z"
      },
      "source": [
        "## Let's play with another sentiment analyzer"
      ]
    },
    {
      "cell_type": "markdown",
      "metadata": {
        "id": "hV0mQkhnYg9-"
      },
      "source": [
        "Let's install vader from NLTK package\n",
        "Reference: https://www.nltk.org/howto/sentiment.html \n",
        "\n",
        "Resource: https://towardsdatascience.com/sentimental-analysis-using-vader-a3415fef7664\n",
        "\n",
        "Resource: https://medium.com/ro-codes/nlp-how-does-nltk-vader-calculate-sentiment-6c32d0f5046b\n",
        "\n",
        "\n",
        "NLTK package has a VADER ( Valence Aware Dictionary for Sentiment Reasoning), a model used for text sentiment analysis that is sensitive to both polarity (positive/negative) and intensity (strength) of emotion. "
      ]
    },
    {
      "cell_type": "code",
      "execution_count": 57,
      "metadata": {
        "colab": {
          "base_uri": "https://localhost:8080/"
        },
        "id": "ALNC_tpFsRyM",
        "outputId": "79b9607d-f9b9-45b0-b969-6ed212b2dced"
      },
      "outputs": [
        {
          "output_type": "stream",
          "name": "stderr",
          "text": [
            "[nltk_data] Downloading package vader_lexicon to /root/nltk_data...\n"
          ]
        }
      ],
      "source": [
        "import nltk\n",
        "from nltk.sentiment.vader import SentimentIntensityAnalyzer\n",
        "nltk.download('vader_lexicon')\n",
        "sia = SentimentIntensityAnalyzer()\n"
      ]
    },
    {
      "cell_type": "markdown",
      "metadata": {
        "id": "STnxpwj5cn2r"
      },
      "source": [
        "VADER sentimental analysis relies on a dictionary that maps lexical features to emotion intensities as sentiment scores. The sentiment score of a text is available by summing up the intensity of each word in the text. Vader’s has 7,500 sentiment features in their lexicon dictionary and if word is not available in the dictionary will be scored as “0: Neutral”.\n",
        "\n",
        "Lexical features were rated for the polarity and intensity on a scale from “-4: Extremely Negative” to “+4 Extremely Positive” by 10 independent human raters. Then, the average score is used as the sentiment indicator for each lexical feature in the dictionary. \n",
        "\n",
        "Publication: https://www.aaai.org/ocs/index.php/ICWSM/ICWSM14/paper/viewPaper/8109\n",
        "\n",
        "Source code: https://www.nltk.org/_modules/nltk/sentiment/vader.html \n"
      ]
    },
    {
      "cell_type": "markdown",
      "metadata": {
        "id": "OyGapFaa0oOk"
      },
      "source": [
        "Let's use our sample data"
      ]
    },
    {
      "cell_type": "code",
      "execution_count": 66,
      "metadata": {
        "colab": {
          "base_uri": "https://localhost:8080/",
          "height": 206
        },
        "id": "oQfpCT9msLw-",
        "outputId": "9e209154-1fd6-4b58-9ad7-04edc36d9322"
      },
      "outputs": [
        {
          "output_type": "execute_result",
          "data": {
            "text/plain": [
              "     CourseId                                             Review  Label  \\\n",
              "0  2-speed-it                                             BOring      1   \n",
              "1  2-speed-it                                            Bravo !      5   \n",
              "2  2-speed-it                                           Very goo      5   \n",
              "3  2-speed-it  Great course - I recommend it for all, especia...      5   \n",
              "4  2-speed-it    One of the most useful course on IT Management!      5   \n",
              "\n",
              "                                      Review_cleaned  \\\n",
              "0                                             BOring   \n",
              "1                                             Bravo    \n",
              "2                                           Very goo   \n",
              "3  Great course  I recommend it for all especiall...   \n",
              "4     One of the most useful course on IT Management   \n",
              "\n",
              "                    Review_cleaned_without_stopwords sentiment  \n",
              "0                                             BOring  negative  \n",
              "1                                              Bravo  positive  \n",
              "2                                           Very goo  positive  \n",
              "3  Great course I recommend especially IT Busines...  positive  \n",
              "4                    One useful course IT Management  positive  "
            ],
            "text/html": [
              "\n",
              "  <div id=\"df-014193d1-d53c-4334-a762-4b146ca308df\">\n",
              "    <div class=\"colab-df-container\">\n",
              "      <div>\n",
              "<style scoped>\n",
              "    .dataframe tbody tr th:only-of-type {\n",
              "        vertical-align: middle;\n",
              "    }\n",
              "\n",
              "    .dataframe tbody tr th {\n",
              "        vertical-align: top;\n",
              "    }\n",
              "\n",
              "    .dataframe thead th {\n",
              "        text-align: right;\n",
              "    }\n",
              "</style>\n",
              "<table border=\"1\" class=\"dataframe\">\n",
              "  <thead>\n",
              "    <tr style=\"text-align: right;\">\n",
              "      <th></th>\n",
              "      <th>CourseId</th>\n",
              "      <th>Review</th>\n",
              "      <th>Label</th>\n",
              "      <th>Review_cleaned</th>\n",
              "      <th>Review_cleaned_without_stopwords</th>\n",
              "      <th>sentiment</th>\n",
              "    </tr>\n",
              "  </thead>\n",
              "  <tbody>\n",
              "    <tr>\n",
              "      <th>0</th>\n",
              "      <td>2-speed-it</td>\n",
              "      <td>BOring</td>\n",
              "      <td>1</td>\n",
              "      <td>BOring</td>\n",
              "      <td>BOring</td>\n",
              "      <td>negative</td>\n",
              "    </tr>\n",
              "    <tr>\n",
              "      <th>1</th>\n",
              "      <td>2-speed-it</td>\n",
              "      <td>Bravo !</td>\n",
              "      <td>5</td>\n",
              "      <td>Bravo</td>\n",
              "      <td>Bravo</td>\n",
              "      <td>positive</td>\n",
              "    </tr>\n",
              "    <tr>\n",
              "      <th>2</th>\n",
              "      <td>2-speed-it</td>\n",
              "      <td>Very goo</td>\n",
              "      <td>5</td>\n",
              "      <td>Very goo</td>\n",
              "      <td>Very goo</td>\n",
              "      <td>positive</td>\n",
              "    </tr>\n",
              "    <tr>\n",
              "      <th>3</th>\n",
              "      <td>2-speed-it</td>\n",
              "      <td>Great course - I recommend it for all, especia...</td>\n",
              "      <td>5</td>\n",
              "      <td>Great course  I recommend it for all especiall...</td>\n",
              "      <td>Great course I recommend especially IT Busines...</td>\n",
              "      <td>positive</td>\n",
              "    </tr>\n",
              "    <tr>\n",
              "      <th>4</th>\n",
              "      <td>2-speed-it</td>\n",
              "      <td>One of the most useful course on IT Management!</td>\n",
              "      <td>5</td>\n",
              "      <td>One of the most useful course on IT Management</td>\n",
              "      <td>One useful course IT Management</td>\n",
              "      <td>positive</td>\n",
              "    </tr>\n",
              "  </tbody>\n",
              "</table>\n",
              "</div>\n",
              "      <button class=\"colab-df-convert\" onclick=\"convertToInteractive('df-014193d1-d53c-4334-a762-4b146ca308df')\"\n",
              "              title=\"Convert this dataframe to an interactive table.\"\n",
              "              style=\"display:none;\">\n",
              "        \n",
              "  <svg xmlns=\"http://www.w3.org/2000/svg\" height=\"24px\"viewBox=\"0 0 24 24\"\n",
              "       width=\"24px\">\n",
              "    <path d=\"M0 0h24v24H0V0z\" fill=\"none\"/>\n",
              "    <path d=\"M18.56 5.44l.94 2.06.94-2.06 2.06-.94-2.06-.94-.94-2.06-.94 2.06-2.06.94zm-11 1L8.5 8.5l.94-2.06 2.06-.94-2.06-.94L8.5 2.5l-.94 2.06-2.06.94zm10 10l.94 2.06.94-2.06 2.06-.94-2.06-.94-.94-2.06-.94 2.06-2.06.94z\"/><path d=\"M17.41 7.96l-1.37-1.37c-.4-.4-.92-.59-1.43-.59-.52 0-1.04.2-1.43.59L10.3 9.45l-7.72 7.72c-.78.78-.78 2.05 0 2.83L4 21.41c.39.39.9.59 1.41.59.51 0 1.02-.2 1.41-.59l7.78-7.78 2.81-2.81c.8-.78.8-2.07 0-2.86zM5.41 20L4 18.59l7.72-7.72 1.47 1.35L5.41 20z\"/>\n",
              "  </svg>\n",
              "      </button>\n",
              "      \n",
              "  <style>\n",
              "    .colab-df-container {\n",
              "      display:flex;\n",
              "      flex-wrap:wrap;\n",
              "      gap: 12px;\n",
              "    }\n",
              "\n",
              "    .colab-df-convert {\n",
              "      background-color: #E8F0FE;\n",
              "      border: none;\n",
              "      border-radius: 50%;\n",
              "      cursor: pointer;\n",
              "      display: none;\n",
              "      fill: #1967D2;\n",
              "      height: 32px;\n",
              "      padding: 0 0 0 0;\n",
              "      width: 32px;\n",
              "    }\n",
              "\n",
              "    .colab-df-convert:hover {\n",
              "      background-color: #E2EBFA;\n",
              "      box-shadow: 0px 1px 2px rgba(60, 64, 67, 0.3), 0px 1px 3px 1px rgba(60, 64, 67, 0.15);\n",
              "      fill: #174EA6;\n",
              "    }\n",
              "\n",
              "    [theme=dark] .colab-df-convert {\n",
              "      background-color: #3B4455;\n",
              "      fill: #D2E3FC;\n",
              "    }\n",
              "\n",
              "    [theme=dark] .colab-df-convert:hover {\n",
              "      background-color: #434B5C;\n",
              "      box-shadow: 0px 1px 3px 1px rgba(0, 0, 0, 0.15);\n",
              "      filter: drop-shadow(0px 1px 2px rgba(0, 0, 0, 0.3));\n",
              "      fill: #FFFFFF;\n",
              "    }\n",
              "  </style>\n",
              "\n",
              "      <script>\n",
              "        const buttonEl =\n",
              "          document.querySelector('#df-014193d1-d53c-4334-a762-4b146ca308df button.colab-df-convert');\n",
              "        buttonEl.style.display =\n",
              "          google.colab.kernel.accessAllowed ? 'block' : 'none';\n",
              "\n",
              "        async function convertToInteractive(key) {\n",
              "          const element = document.querySelector('#df-014193d1-d53c-4334-a762-4b146ca308df');\n",
              "          const dataTable =\n",
              "            await google.colab.kernel.invokeFunction('convertToInteractive',\n",
              "                                                     [key], {});\n",
              "          if (!dataTable) return;\n",
              "\n",
              "          const docLinkHtml = 'Like what you see? Visit the ' +\n",
              "            '<a target=\"_blank\" href=https://colab.research.google.com/notebooks/data_table.ipynb>data table notebook</a>'\n",
              "            + ' to learn more about interactive tables.';\n",
              "          element.innerHTML = '';\n",
              "          dataTable['output_type'] = 'display_data';\n",
              "          await google.colab.output.renderOutput(dataTable, element);\n",
              "          const docLink = document.createElement('div');\n",
              "          docLink.innerHTML = docLinkHtml;\n",
              "          element.appendChild(docLink);\n",
              "        }\n",
              "      </script>\n",
              "    </div>\n",
              "  </div>\n",
              "  "
            ]
          },
          "metadata": {},
          "execution_count": 66
        }
      ],
      "source": [
        "reviews_by_course.head()"
      ]
    },
    {
      "cell_type": "markdown",
      "metadata": {
        "id": "ft8XZY9Rhmqh"
      },
      "source": [
        "Let's take a look at the first and fourth row of review dataset using vader sentiment analyzer.\n",
        "\n",
        "\n",
        "Asking SentimentIntensityAnalyzer for the polarity_score gave us four values in a dictionary:\n",
        "\n",
        "\n",
        "negative: the negative sentiment in a sentence\n",
        "\n",
        "neutral: the neutral sentiment in a sentence\n",
        "\n",
        "positive: the positive sentiment in the sentence\n",
        "\n",
        "compound: the aggregated sentiment.\n",
        "\n",
        "Resource: https://investigate.ai/investigating-sentiment-analysis/comparing-sentiment-analysis-tools/"
      ]
    },
    {
      "cell_type": "code",
      "execution_count": 67,
      "metadata": {
        "colab": {
          "base_uri": "https://localhost:8080/"
        },
        "id": "cmix7rDThe3W",
        "outputId": "973da986-ff37-4c34-a26d-0452513694a1"
      },
      "outputs": [
        {
          "output_type": "stream",
          "name": "stdout",
          "text": [
            "BOring : {'neg': 1.0, 'neu': 0.0, 'pos': 0.0, 'compound': -0.3182}\n"
          ]
        }
      ],
      "source": [
        "sample = reviews_by_course[\"Review\"][0]\n",
        "sample_score = sia.polarity_scores(reviews_by_course[\"Review\"][0])\n",
        "print('{} : {}'.format(sample, sample_score))"
      ]
    },
    {
      "cell_type": "code",
      "execution_count": 68,
      "metadata": {
        "colab": {
          "base_uri": "https://localhost:8080/"
        },
        "id": "v9a1CMUWcXj9",
        "outputId": "972f4716-fea4-4447-af89-3efaab27bf28"
      },
      "outputs": [
        {
          "output_type": "stream",
          "name": "stdout",
          "text": [
            "Great course - I recommend it for all, especially IT and Business Managers! : {'neg': 0.0, 'neu': 0.566, 'pos': 0.434, 'compound': 0.784}\n"
          ]
        }
      ],
      "source": [
        "sample = reviews_by_course[\"Review\"][3]\n",
        "sample_score = sia.polarity_scores(reviews_by_course[\"Review\"][3])\n",
        "print('{} : {}'.format(sample, sample_score))"
      ]
    },
    {
      "cell_type": "markdown",
      "metadata": {
        "id": "7-A-u0fihjHz"
      },
      "source": [
        "Vader scans through the text for known sentimental features, modified the intensity and polarity according to the rules, summed up the scores of features found within the text and normalized the final score to (-1, 1) using function then calculate the sentimental score of the entire text.\n",
        "\n",
        "![image.png](data:image/png;base64,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)\n"
      ]
    },
    {
      "cell_type": "markdown",
      "metadata": {
        "id": "BMZSQbTifxJX"
      },
      "source": [
        "Let's get a compound score of sentiment from the cleaned review"
      ]
    },
    {
      "cell_type": "code",
      "execution_count": 69,
      "metadata": {
        "id": "UyjvCuaxuZZo"
      },
      "outputs": [],
      "source": [
        "reviews_by_course['sentiment_score'] = [sia.polarity_scores(x)['compound'] for x in reviews_by_course[\"Review_cleaned_without_stopwords\"]]"
      ]
    },
    {
      "cell_type": "markdown",
      "metadata": {
        "id": "URfJE8_Bh2cT"
      },
      "source": [
        "Find out the governing sentiment polarity from the max score among the three polarities of sentiments"
      ]
    },
    {
      "cell_type": "markdown",
      "metadata": {
        "id": "8SvrWLryiU08"
      },
      "source": [
        "First create a list of dictionary for mapping each polarity per review"
      ]
    },
    {
      "cell_type": "code",
      "execution_count": 70,
      "metadata": {
        "id": "3ENnAaPffw6d"
      },
      "outputs": [],
      "source": [
        "sentiments = [{'Negative':sia.polarity_scores(x)['neg'], 'Neutral':sia.polarity_scores(x)['neu'], 'Positive':sia.polarity_scores(x)['pos'] } for x in reviews_by_course[\"Review_cleaned_without_stopwords\"]]"
      ]
    },
    {
      "cell_type": "markdown",
      "metadata": {
        "id": "QTrQkjlzicXj"
      },
      "source": [
        "Obtain the corresponding polarity of the maximum score and add as a column in the dataset"
      ]
    },
    {
      "cell_type": "code",
      "execution_count": 71,
      "metadata": {
        "id": "2UpQ-lr3goS_"
      },
      "outputs": [],
      "source": [
        "reviews_by_course['sentiment_major'] = [max(x, key = x.get) for x in sentiments]"
      ]
    },
    {
      "cell_type": "markdown",
      "metadata": {
        "id": "iNYwkSf5z6xP"
      },
      "source": [
        "As we could see, 'sentiment' using Label is different than 'sentiment_major' sentiment categories using Vader model."
      ]
    },
    {
      "cell_type": "code",
      "execution_count": 72,
      "metadata": {
        "colab": {
          "base_uri": "https://localhost:8080/",
          "height": 407
        },
        "id": "Ecx9sQfrhLHJ",
        "outputId": "b46b1d59-eb8e-48ad-ec67-5fdc3d596975"
      },
      "outputs": [
        {
          "output_type": "execute_result",
          "data": {
            "text/plain": [
              "      CourseId                                             Review  Label  \\\n",
              "0   2-speed-it                                             BOring      1   \n",
              "1   2-speed-it                                            Bravo !      5   \n",
              "2   2-speed-it                                           Very goo      5   \n",
              "3   2-speed-it  Great course - I recommend it for all, especia...      5   \n",
              "4   2-speed-it    One of the most useful course on IT Management!      5   \n",
              "6   2-speed-it    Super content. I'll definitely re-do the course      5   \n",
              "7   2-speed-it  Etant contrôleur de gestion pour le départemen...      5   \n",
              "8   2-speed-it  One of the excellent courses at Coursera for i...      5   \n",
              "9   2-speed-it  Is there any reason why you should not apply t...      5   \n",
              "10  2-speed-it   Excellent course and teachers. Congratulations!!      5   \n",
              "\n",
              "                                       Review_cleaned  \\\n",
              "0                                              BOring   \n",
              "1                                              Bravo    \n",
              "2                                            Very goo   \n",
              "3   Great course  I recommend it for all especiall...   \n",
              "4      One of the most useful course on IT Management   \n",
              "6        Super content Ill definitely redo the course   \n",
              "7   Etant contrôleur de gestion pour le départemen...   \n",
              "8   One of the excellent courses at Coursera for i...   \n",
              "9   Is there any reason why you should not apply t...   \n",
              "10      Excellent course and teachers Congratulations   \n",
              "\n",
              "                     Review_cleaned_without_stopwords sentiment  \\\n",
              "0                                              BOring  negative   \n",
              "1                                               Bravo  positive   \n",
              "2                                            Very goo  positive   \n",
              "3   Great course I recommend especially IT Busines...  positive   \n",
              "4                     One useful course IT Management  positive   \n",
              "6            Super content Ill definitely redo course  positive   \n",
              "7   Etant contrôleur de gestion pour le départemen...  positive   \n",
              "8   One excellent courses Coursera information tec...  positive   \n",
              "9   Is reason apply course BCGIts content pretty u...  positive   \n",
              "10          Excellent course teachers Congratulations  positive   \n",
              "\n",
              "    sentiment_score sentiment_major  \n",
              "0           -0.3182        Negative  \n",
              "1            0.0000         Neutral  \n",
              "2            0.0000         Neutral  \n",
              "3            0.7650        Positive  \n",
              "4            0.4404         Neutral  \n",
              "6            0.5859        Positive  \n",
              "7            0.6908         Neutral  \n",
              "8            0.5719         Neutral  \n",
              "9            0.4939         Neutral  \n",
              "10           0.8225        Positive  "
            ],
            "text/html": [
              "\n",
              "  <div id=\"df-f5bfc3dc-15f5-4715-9193-6bddaf992e54\">\n",
              "    <div class=\"colab-df-container\">\n",
              "      <div>\n",
              "<style scoped>\n",
              "    .dataframe tbody tr th:only-of-type {\n",
              "        vertical-align: middle;\n",
              "    }\n",
              "\n",
              "    .dataframe tbody tr th {\n",
              "        vertical-align: top;\n",
              "    }\n",
              "\n",
              "    .dataframe thead th {\n",
              "        text-align: right;\n",
              "    }\n",
              "</style>\n",
              "<table border=\"1\" class=\"dataframe\">\n",
              "  <thead>\n",
              "    <tr style=\"text-align: right;\">\n",
              "      <th></th>\n",
              "      <th>CourseId</th>\n",
              "      <th>Review</th>\n",
              "      <th>Label</th>\n",
              "      <th>Review_cleaned</th>\n",
              "      <th>Review_cleaned_without_stopwords</th>\n",
              "      <th>sentiment</th>\n",
              "      <th>sentiment_score</th>\n",
              "      <th>sentiment_major</th>\n",
              "    </tr>\n",
              "  </thead>\n",
              "  <tbody>\n",
              "    <tr>\n",
              "      <th>0</th>\n",
              "      <td>2-speed-it</td>\n",
              "      <td>BOring</td>\n",
              "      <td>1</td>\n",
              "      <td>BOring</td>\n",
              "      <td>BOring</td>\n",
              "      <td>negative</td>\n",
              "      <td>-0.3182</td>\n",
              "      <td>Negative</td>\n",
              "    </tr>\n",
              "    <tr>\n",
              "      <th>1</th>\n",
              "      <td>2-speed-it</td>\n",
              "      <td>Bravo !</td>\n",
              "      <td>5</td>\n",
              "      <td>Bravo</td>\n",
              "      <td>Bravo</td>\n",
              "      <td>positive</td>\n",
              "      <td>0.0000</td>\n",
              "      <td>Neutral</td>\n",
              "    </tr>\n",
              "    <tr>\n",
              "      <th>2</th>\n",
              "      <td>2-speed-it</td>\n",
              "      <td>Very goo</td>\n",
              "      <td>5</td>\n",
              "      <td>Very goo</td>\n",
              "      <td>Very goo</td>\n",
              "      <td>positive</td>\n",
              "      <td>0.0000</td>\n",
              "      <td>Neutral</td>\n",
              "    </tr>\n",
              "    <tr>\n",
              "      <th>3</th>\n",
              "      <td>2-speed-it</td>\n",
              "      <td>Great course - I recommend it for all, especia...</td>\n",
              "      <td>5</td>\n",
              "      <td>Great course  I recommend it for all especiall...</td>\n",
              "      <td>Great course I recommend especially IT Busines...</td>\n",
              "      <td>positive</td>\n",
              "      <td>0.7650</td>\n",
              "      <td>Positive</td>\n",
              "    </tr>\n",
              "    <tr>\n",
              "      <th>4</th>\n",
              "      <td>2-speed-it</td>\n",
              "      <td>One of the most useful course on IT Management!</td>\n",
              "      <td>5</td>\n",
              "      <td>One of the most useful course on IT Management</td>\n",
              "      <td>One useful course IT Management</td>\n",
              "      <td>positive</td>\n",
              "      <td>0.4404</td>\n",
              "      <td>Neutral</td>\n",
              "    </tr>\n",
              "    <tr>\n",
              "      <th>6</th>\n",
              "      <td>2-speed-it</td>\n",
              "      <td>Super content. I'll definitely re-do the course</td>\n",
              "      <td>5</td>\n",
              "      <td>Super content Ill definitely redo the course</td>\n",
              "      <td>Super content Ill definitely redo course</td>\n",
              "      <td>positive</td>\n",
              "      <td>0.5859</td>\n",
              "      <td>Positive</td>\n",
              "    </tr>\n",
              "    <tr>\n",
              "      <th>7</th>\n",
              "      <td>2-speed-it</td>\n",
              "      <td>Etant contrôleur de gestion pour le départemen...</td>\n",
              "      <td>5</td>\n",
              "      <td>Etant contrôleur de gestion pour le départemen...</td>\n",
              "      <td>Etant contrôleur de gestion pour le départemen...</td>\n",
              "      <td>positive</td>\n",
              "      <td>0.6908</td>\n",
              "      <td>Neutral</td>\n",
              "    </tr>\n",
              "    <tr>\n",
              "      <th>8</th>\n",
              "      <td>2-speed-it</td>\n",
              "      <td>One of the excellent courses at Coursera for i...</td>\n",
              "      <td>5</td>\n",
              "      <td>One of the excellent courses at Coursera for i...</td>\n",
              "      <td>One excellent courses Coursera information tec...</td>\n",
              "      <td>positive</td>\n",
              "      <td>0.5719</td>\n",
              "      <td>Neutral</td>\n",
              "    </tr>\n",
              "    <tr>\n",
              "      <th>9</th>\n",
              "      <td>2-speed-it</td>\n",
              "      <td>Is there any reason why you should not apply t...</td>\n",
              "      <td>5</td>\n",
              "      <td>Is there any reason why you should not apply t...</td>\n",
              "      <td>Is reason apply course BCGIts content pretty u...</td>\n",
              "      <td>positive</td>\n",
              "      <td>0.4939</td>\n",
              "      <td>Neutral</td>\n",
              "    </tr>\n",
              "    <tr>\n",
              "      <th>10</th>\n",
              "      <td>2-speed-it</td>\n",
              "      <td>Excellent course and teachers. Congratulations!!</td>\n",
              "      <td>5</td>\n",
              "      <td>Excellent course and teachers Congratulations</td>\n",
              "      <td>Excellent course teachers Congratulations</td>\n",
              "      <td>positive</td>\n",
              "      <td>0.8225</td>\n",
              "      <td>Positive</td>\n",
              "    </tr>\n",
              "  </tbody>\n",
              "</table>\n",
              "</div>\n",
              "      <button class=\"colab-df-convert\" onclick=\"convertToInteractive('df-f5bfc3dc-15f5-4715-9193-6bddaf992e54')\"\n",
              "              title=\"Convert this dataframe to an interactive table.\"\n",
              "              style=\"display:none;\">\n",
              "        \n",
              "  <svg xmlns=\"http://www.w3.org/2000/svg\" height=\"24px\"viewBox=\"0 0 24 24\"\n",
              "       width=\"24px\">\n",
              "    <path d=\"M0 0h24v24H0V0z\" fill=\"none\"/>\n",
              "    <path d=\"M18.56 5.44l.94 2.06.94-2.06 2.06-.94-2.06-.94-.94-2.06-.94 2.06-2.06.94zm-11 1L8.5 8.5l.94-2.06 2.06-.94-2.06-.94L8.5 2.5l-.94 2.06-2.06.94zm10 10l.94 2.06.94-2.06 2.06-.94-2.06-.94-.94-2.06-.94 2.06-2.06.94z\"/><path d=\"M17.41 7.96l-1.37-1.37c-.4-.4-.92-.59-1.43-.59-.52 0-1.04.2-1.43.59L10.3 9.45l-7.72 7.72c-.78.78-.78 2.05 0 2.83L4 21.41c.39.39.9.59 1.41.59.51 0 1.02-.2 1.41-.59l7.78-7.78 2.81-2.81c.8-.78.8-2.07 0-2.86zM5.41 20L4 18.59l7.72-7.72 1.47 1.35L5.41 20z\"/>\n",
              "  </svg>\n",
              "      </button>\n",
              "      \n",
              "  <style>\n",
              "    .colab-df-container {\n",
              "      display:flex;\n",
              "      flex-wrap:wrap;\n",
              "      gap: 12px;\n",
              "    }\n",
              "\n",
              "    .colab-df-convert {\n",
              "      background-color: #E8F0FE;\n",
              "      border: none;\n",
              "      border-radius: 50%;\n",
              "      cursor: pointer;\n",
              "      display: none;\n",
              "      fill: #1967D2;\n",
              "      height: 32px;\n",
              "      padding: 0 0 0 0;\n",
              "      width: 32px;\n",
              "    }\n",
              "\n",
              "    .colab-df-convert:hover {\n",
              "      background-color: #E2EBFA;\n",
              "      box-shadow: 0px 1px 2px rgba(60, 64, 67, 0.3), 0px 1px 3px 1px rgba(60, 64, 67, 0.15);\n",
              "      fill: #174EA6;\n",
              "    }\n",
              "\n",
              "    [theme=dark] .colab-df-convert {\n",
              "      background-color: #3B4455;\n",
              "      fill: #D2E3FC;\n",
              "    }\n",
              "\n",
              "    [theme=dark] .colab-df-convert:hover {\n",
              "      background-color: #434B5C;\n",
              "      box-shadow: 0px 1px 3px 1px rgba(0, 0, 0, 0.15);\n",
              "      filter: drop-shadow(0px 1px 2px rgba(0, 0, 0, 0.3));\n",
              "      fill: #FFFFFF;\n",
              "    }\n",
              "  </style>\n",
              "\n",
              "      <script>\n",
              "        const buttonEl =\n",
              "          document.querySelector('#df-f5bfc3dc-15f5-4715-9193-6bddaf992e54 button.colab-df-convert');\n",
              "        buttonEl.style.display =\n",
              "          google.colab.kernel.accessAllowed ? 'block' : 'none';\n",
              "\n",
              "        async function convertToInteractive(key) {\n",
              "          const element = document.querySelector('#df-f5bfc3dc-15f5-4715-9193-6bddaf992e54');\n",
              "          const dataTable =\n",
              "            await google.colab.kernel.invokeFunction('convertToInteractive',\n",
              "                                                     [key], {});\n",
              "          if (!dataTable) return;\n",
              "\n",
              "          const docLinkHtml = 'Like what you see? Visit the ' +\n",
              "            '<a target=\"_blank\" href=https://colab.research.google.com/notebooks/data_table.ipynb>data table notebook</a>'\n",
              "            + ' to learn more about interactive tables.';\n",
              "          element.innerHTML = '';\n",
              "          dataTable['output_type'] = 'display_data';\n",
              "          await google.colab.output.renderOutput(dataTable, element);\n",
              "          const docLink = document.createElement('div');\n",
              "          docLink.innerHTML = docLinkHtml;\n",
              "          element.appendChild(docLink);\n",
              "        }\n",
              "      </script>\n",
              "    </div>\n",
              "  </div>\n",
              "  "
            ]
          },
          "metadata": {},
          "execution_count": 72
        }
      ],
      "source": [
        "reviews_by_course.head(10)"
      ]
    },
    {
      "cell_type": "markdown",
      "metadata": {
        "id": "sxNZ-pa-z-p4"
      },
      "source": [
        ">**Stop for Zoom Poll:** Once you have completed this step please answer the task completion poll (1 min)."
      ]
    },
    {
      "cell_type": "markdown",
      "metadata": {
        "id": "bqZQKKUD1q3D"
      },
      "source": [
        "---"
      ]
    },
    {
      "cell_type": "markdown",
      "metadata": {
        "id": "3Vx6PK5F5aAs"
      },
      "source": [
        "# G. Exercise 2"
      ]
    },
    {
      "cell_type": "markdown",
      "metadata": {
        "id": "Q42WlMBg53kU"
      },
      "source": [
        "##Create recommendation model for your own\n",
        "\n",
        "Select popular courses that has more than 1500 number of reviews, and build recommendation to return top 5 similar courses, test with class title, 'java'"
      ]
    },
    {
      "cell_type": "code",
      "execution_count": 73,
      "metadata": {
        "colab": {
          "base_uri": "https://localhost:8080/",
          "height": 337
        },
        "id": "D02qa9UV149g",
        "outputId": "53afa3be-a7a6-4e05-915d-c0635b2e6809"
      },
      "outputs": [
        {
          "output_type": "execute_result",
          "data": {
            "text/plain": [
              "                  CourseId                                             Review  \\\n",
              "50808  html-css-javascript                       The course was comprehensive   \n",
              "50809  html-css-javascript                                        Nice course   \n",
              "50810  html-css-javascript                                          VERY GOOD   \n",
              "50811  html-css-javascript              El curso es muy completo y didactico.   \n",
              "50812  html-css-javascript  Very Interesting Course;The pedagogic approach...   \n",
              "\n",
              "       Label                                     Review_cleaned  \\\n",
              "50808      5                       The course was comprehensive   \n",
              "50809      5                                        Nice course   \n",
              "50810      5                                          VERY GOOD   \n",
              "50811      5               El curso es muy completo y didactico   \n",
              "50812      5  Very Interesting CourseThe pedagogic approach ...   \n",
              "\n",
              "                        Review_cleaned_without_stopwords sentiment  \\\n",
              "50808                           The course comprehensive  positive   \n",
              "50809                                        Nice course  positive   \n",
              "50810                                          VERY GOOD  positive   \n",
              "50811                 El curso es muy completo didactico  positive   \n",
              "50812  Very Interesting CourseThe pedagogic approach ...  positive   \n",
              "\n",
              "       sentiment_score sentiment_major  \n",
              "50808           0.2500         Neutral  \n",
              "50809           0.4215        Positive  \n",
              "50810           0.4927        Positive  \n",
              "50811           0.0000         Neutral  \n",
              "50812           0.7089        Positive  "
            ],
            "text/html": [
              "\n",
              "  <div id=\"df-27b60f77-8b08-4f92-9840-c14690cb3b68\">\n",
              "    <div class=\"colab-df-container\">\n",
              "      <div>\n",
              "<style scoped>\n",
              "    .dataframe tbody tr th:only-of-type {\n",
              "        vertical-align: middle;\n",
              "    }\n",
              "\n",
              "    .dataframe tbody tr th {\n",
              "        vertical-align: top;\n",
              "    }\n",
              "\n",
              "    .dataframe thead th {\n",
              "        text-align: right;\n",
              "    }\n",
              "</style>\n",
              "<table border=\"1\" class=\"dataframe\">\n",
              "  <thead>\n",
              "    <tr style=\"text-align: right;\">\n",
              "      <th></th>\n",
              "      <th>CourseId</th>\n",
              "      <th>Review</th>\n",
              "      <th>Label</th>\n",
              "      <th>Review_cleaned</th>\n",
              "      <th>Review_cleaned_without_stopwords</th>\n",
              "      <th>sentiment</th>\n",
              "      <th>sentiment_score</th>\n",
              "      <th>sentiment_major</th>\n",
              "    </tr>\n",
              "  </thead>\n",
              "  <tbody>\n",
              "    <tr>\n",
              "      <th>50808</th>\n",
              "      <td>html-css-javascript</td>\n",
              "      <td>The course was comprehensive</td>\n",
              "      <td>5</td>\n",
              "      <td>The course was comprehensive</td>\n",
              "      <td>The course comprehensive</td>\n",
              "      <td>positive</td>\n",
              "      <td>0.2500</td>\n",
              "      <td>Neutral</td>\n",
              "    </tr>\n",
              "    <tr>\n",
              "      <th>50809</th>\n",
              "      <td>html-css-javascript</td>\n",
              "      <td>Nice course</td>\n",
              "      <td>5</td>\n",
              "      <td>Nice course</td>\n",
              "      <td>Nice course</td>\n",
              "      <td>positive</td>\n",
              "      <td>0.4215</td>\n",
              "      <td>Positive</td>\n",
              "    </tr>\n",
              "    <tr>\n",
              "      <th>50810</th>\n",
              "      <td>html-css-javascript</td>\n",
              "      <td>VERY GOOD</td>\n",
              "      <td>5</td>\n",
              "      <td>VERY GOOD</td>\n",
              "      <td>VERY GOOD</td>\n",
              "      <td>positive</td>\n",
              "      <td>0.4927</td>\n",
              "      <td>Positive</td>\n",
              "    </tr>\n",
              "    <tr>\n",
              "      <th>50811</th>\n",
              "      <td>html-css-javascript</td>\n",
              "      <td>El curso es muy completo y didactico.</td>\n",
              "      <td>5</td>\n",
              "      <td>El curso es muy completo y didactico</td>\n",
              "      <td>El curso es muy completo didactico</td>\n",
              "      <td>positive</td>\n",
              "      <td>0.0000</td>\n",
              "      <td>Neutral</td>\n",
              "    </tr>\n",
              "    <tr>\n",
              "      <th>50812</th>\n",
              "      <td>html-css-javascript</td>\n",
              "      <td>Very Interesting Course;The pedagogic approach...</td>\n",
              "      <td>5</td>\n",
              "      <td>Very Interesting CourseThe pedagogic approach ...</td>\n",
              "      <td>Very Interesting CourseThe pedagogic approach ...</td>\n",
              "      <td>positive</td>\n",
              "      <td>0.7089</td>\n",
              "      <td>Positive</td>\n",
              "    </tr>\n",
              "  </tbody>\n",
              "</table>\n",
              "</div>\n",
              "      <button class=\"colab-df-convert\" onclick=\"convertToInteractive('df-27b60f77-8b08-4f92-9840-c14690cb3b68')\"\n",
              "              title=\"Convert this dataframe to an interactive table.\"\n",
              "              style=\"display:none;\">\n",
              "        \n",
              "  <svg xmlns=\"http://www.w3.org/2000/svg\" height=\"24px\"viewBox=\"0 0 24 24\"\n",
              "       width=\"24px\">\n",
              "    <path d=\"M0 0h24v24H0V0z\" fill=\"none\"/>\n",
              "    <path d=\"M18.56 5.44l.94 2.06.94-2.06 2.06-.94-2.06-.94-.94-2.06-.94 2.06-2.06.94zm-11 1L8.5 8.5l.94-2.06 2.06-.94-2.06-.94L8.5 2.5l-.94 2.06-2.06.94zm10 10l.94 2.06.94-2.06 2.06-.94-2.06-.94-.94-2.06-.94 2.06-2.06.94z\"/><path d=\"M17.41 7.96l-1.37-1.37c-.4-.4-.92-.59-1.43-.59-.52 0-1.04.2-1.43.59L10.3 9.45l-7.72 7.72c-.78.78-.78 2.05 0 2.83L4 21.41c.39.39.9.59 1.41.59.51 0 1.02-.2 1.41-.59l7.78-7.78 2.81-2.81c.8-.78.8-2.07 0-2.86zM5.41 20L4 18.59l7.72-7.72 1.47 1.35L5.41 20z\"/>\n",
              "  </svg>\n",
              "      </button>\n",
              "      \n",
              "  <style>\n",
              "    .colab-df-container {\n",
              "      display:flex;\n",
              "      flex-wrap:wrap;\n",
              "      gap: 12px;\n",
              "    }\n",
              "\n",
              "    .colab-df-convert {\n",
              "      background-color: #E8F0FE;\n",
              "      border: none;\n",
              "      border-radius: 50%;\n",
              "      cursor: pointer;\n",
              "      display: none;\n",
              "      fill: #1967D2;\n",
              "      height: 32px;\n",
              "      padding: 0 0 0 0;\n",
              "      width: 32px;\n",
              "    }\n",
              "\n",
              "    .colab-df-convert:hover {\n",
              "      background-color: #E2EBFA;\n",
              "      box-shadow: 0px 1px 2px rgba(60, 64, 67, 0.3), 0px 1px 3px 1px rgba(60, 64, 67, 0.15);\n",
              "      fill: #174EA6;\n",
              "    }\n",
              "\n",
              "    [theme=dark] .colab-df-convert {\n",
              "      background-color: #3B4455;\n",
              "      fill: #D2E3FC;\n",
              "    }\n",
              "\n",
              "    [theme=dark] .colab-df-convert:hover {\n",
              "      background-color: #434B5C;\n",
              "      box-shadow: 0px 1px 3px 1px rgba(0, 0, 0, 0.15);\n",
              "      filter: drop-shadow(0px 1px 2px rgba(0, 0, 0, 0.3));\n",
              "      fill: #FFFFFF;\n",
              "    }\n",
              "  </style>\n",
              "\n",
              "      <script>\n",
              "        const buttonEl =\n",
              "          document.querySelector('#df-27b60f77-8b08-4f92-9840-c14690cb3b68 button.colab-df-convert');\n",
              "        buttonEl.style.display =\n",
              "          google.colab.kernel.accessAllowed ? 'block' : 'none';\n",
              "\n",
              "        async function convertToInteractive(key) {\n",
              "          const element = document.querySelector('#df-27b60f77-8b08-4f92-9840-c14690cb3b68');\n",
              "          const dataTable =\n",
              "            await google.colab.kernel.invokeFunction('convertToInteractive',\n",
              "                                                     [key], {});\n",
              "          if (!dataTable) return;\n",
              "\n",
              "          const docLinkHtml = 'Like what you see? Visit the ' +\n",
              "            '<a target=\"_blank\" href=https://colab.research.google.com/notebooks/data_table.ipynb>data table notebook</a>'\n",
              "            + ' to learn more about interactive tables.';\n",
              "          element.innerHTML = '';\n",
              "          dataTable['output_type'] = 'display_data';\n",
              "          await google.colab.output.renderOutput(dataTable, element);\n",
              "          const docLink = document.createElement('div');\n",
              "          docLink.innerHTML = docLinkHtml;\n",
              "          element.appendChild(docLink);\n",
              "        }\n",
              "      </script>\n",
              "    </div>\n",
              "  </div>\n",
              "  "
            ]
          },
          "metadata": {},
          "execution_count": 73
        }
      ],
      "source": [
        "Popular_courses_subset=reviews_by_course[reviews_by_course[\"CourseId\"].map(reviews_by_course[\"CourseId\"].value_counts())>1500]\n",
        "Popular_courses_subset.head()"
      ]
    },
    {
      "cell_type": "code",
      "execution_count": 74,
      "metadata": {
        "colab": {
          "base_uri": "https://localhost:8080/"
        },
        "id": "fTGpmVPUw63-",
        "outputId": "180799c8-cf87-4b62-bd78-49dcdcfa7d96"
      },
      "outputs": [
        {
          "output_type": "execute_result",
          "data": {
            "text/plain": [
              "(26938, 8)"
            ]
          },
          "metadata": {},
          "execution_count": 74
        }
      ],
      "source": [
        "Popular_courses_subset.shape"
      ]
    },
    {
      "cell_type": "code",
      "execution_count": 75,
      "metadata": {
        "colab": {
          "base_uri": "https://localhost:8080/"
        },
        "id": "nrjUkbxuw--Q",
        "outputId": "cf9bece4-1365-4ad3-cdd6-8608e51582d2"
      },
      "outputs": [
        {
          "output_type": "execute_result",
          "data": {
            "text/plain": [
              "array(['html-css-javascript', 'learning-how-to-learn', 'machine-learning',\n",
              "       'python', 'python-data', 'python-network-data'], dtype=object)"
            ]
          },
          "metadata": {},
          "execution_count": 75
        }
      ],
      "source": [
        "Popular_courses_subset.CourseId.unique()"
      ]
    },
    {
      "cell_type": "code",
      "execution_count": 76,
      "metadata": {
        "id": "pOTVRiCRwfD5"
      },
      "outputs": [],
      "source": [
        "from fuzzywuzzy import fuzz\n",
        "from fuzzywuzzy import process\n",
        "\n",
        "def course_recommend(desired_course):\n",
        "    \n",
        "    try:\n",
        "        if desired_course is '' :\n",
        "            print(\"Show the list of courses available:\")\n",
        "            print(list(Popular_courses.CourseId.unique()))\n",
        "        \n",
        "        else:\n",
        "            query = desired_course\n",
        "            options = list(Popular_courses.CourseId.unique())\n",
        "            result = process.extractBests(query, options, limit=5)\n",
        "            df=pd.DataFrame(result, columns=[\"recommended courses\", \"Similarity score\"])\n",
        "            print(df)\n",
        "\n",
        "  \n",
        "\n",
        "    except TypeError:\n",
        "        print(\"Please type again\")"
      ]
    },
    {
      "cell_type": "code",
      "execution_count": 77,
      "metadata": {
        "colab": {
          "base_uri": "https://localhost:8080/"
        },
        "id": "Ik59uwmgwouj",
        "outputId": "1844821e-0c08-491c-f39d-5ff6c3dbe1fc"
      },
      "outputs": [
        {
          "output_type": "stream",
          "name": "stdout",
          "text": [
            "Show the list of courses available:\n",
            "['childnutrition', 'data-scientists-tools', 'grammar-punctuation', 'html', 'html-css-javascript', 'html-css-javascript-for-web-developers', 'learning-how-to-learn', 'machine-learning', 'ml-foundations', 'python', 'python-data', 'python-network-data', 'r-programming']\n"
          ]
        }
      ],
      "source": [
        "course_recommend('')"
      ]
    },
    {
      "cell_type": "code",
      "execution_count": 78,
      "metadata": {
        "colab": {
          "base_uri": "https://localhost:8080/"
        },
        "id": "AzLbNkbwxDyK",
        "outputId": "f33856c0-d425-41e1-9dcc-52cd1db0772b"
      },
      "outputs": [
        {
          "output_type": "stream",
          "name": "stdout",
          "text": [
            "                      recommended courses  Similarity score\n",
            "0                     html-css-javascript                90\n",
            "1  html-css-javascript-for-web-developers                60\n",
            "2                   data-scientists-tools                45\n",
            "3                     grammar-punctuation                45\n",
            "4                             python-data                45\n"
          ]
        }
      ],
      "source": [
        "course_recommend('java')"
      ]
    }
  ],
  "metadata": {
    "colab": {
      "collapsed_sections": [],
      "name": "Copy of DSW 2021 - Intro to Natural Language Processing (NLP)",
      "toc_visible": true,
      "provenance": []
    },
    "kernelspec": {
      "display_name": "Python 3",
      "name": "python3"
    },
    "language_info": {
      "name": "python"
    },
    "widgets": {
      "application/vnd.jupyter.widget-state+json": {
        "56c252c798844366aa2b06aa98723f19": {
          "model_module": "@jupyter-widgets/controls",
          "model_name": "HBoxModel",
          "model_module_version": "1.5.0",
          "state": {
            "_dom_classes": [],
            "_model_module": "@jupyter-widgets/controls",
            "_model_module_version": "1.5.0",
            "_model_name": "HBoxModel",
            "_view_count": null,
            "_view_module": "@jupyter-widgets/controls",
            "_view_module_version": "1.5.0",
            "_view_name": "HBoxView",
            "box_style": "",
            "children": [
              "IPY_MODEL_3344b153c64a4a8dabb29569cfcf0927",
              "IPY_MODEL_180ac65b6c3143e5a1db2c4feb355695",
              "IPY_MODEL_da48655b37994fc4a38d11123f3ffe87"
            ],
            "layout": "IPY_MODEL_0f45c47cbafb40df8070f564a6cff76b"
          }
        },
        "3344b153c64a4a8dabb29569cfcf0927": {
          "model_module": "@jupyter-widgets/controls",
          "model_name": "HTMLModel",
          "model_module_version": "1.5.0",
          "state": {
            "_dom_classes": [],
            "_model_module": "@jupyter-widgets/controls",
            "_model_module_version": "1.5.0",
            "_model_name": "HTMLModel",
            "_view_count": null,
            "_view_module": "@jupyter-widgets/controls",
            "_view_module_version": "1.5.0",
            "_view_name": "HTMLView",
            "description": "",
            "description_tooltip": null,
            "layout": "IPY_MODEL_7c3464ad8af8455d8af40478d0d61800",
            "placeholder": "​",
            "style": "IPY_MODEL_2070e4cec3b141e290e1f219650551bc",
            "value": "Downloading config.json: 100%"
          }
        },
        "180ac65b6c3143e5a1db2c4feb355695": {
          "model_module": "@jupyter-widgets/controls",
          "model_name": "FloatProgressModel",
          "model_module_version": "1.5.0",
          "state": {
            "_dom_classes": [],
            "_model_module": "@jupyter-widgets/controls",
            "_model_module_version": "1.5.0",
            "_model_name": "FloatProgressModel",
            "_view_count": null,
            "_view_module": "@jupyter-widgets/controls",
            "_view_module_version": "1.5.0",
            "_view_name": "ProgressView",
            "bar_style": "success",
            "description": "",
            "description_tooltip": null,
            "layout": "IPY_MODEL_99b5b3107c1548dc9b9ecb374d4202c8",
            "max": 629,
            "min": 0,
            "orientation": "horizontal",
            "style": "IPY_MODEL_f3fc009a0d4c4da59f8c8c37d055cd89",
            "value": 629
          }
        },
        "da48655b37994fc4a38d11123f3ffe87": {
          "model_module": "@jupyter-widgets/controls",
          "model_name": "HTMLModel",
          "model_module_version": "1.5.0",
          "state": {
            "_dom_classes": [],
            "_model_module": "@jupyter-widgets/controls",
            "_model_module_version": "1.5.0",
            "_model_name": "HTMLModel",
            "_view_count": null,
            "_view_module": "@jupyter-widgets/controls",
            "_view_module_version": "1.5.0",
            "_view_name": "HTMLView",
            "description": "",
            "description_tooltip": null,
            "layout": "IPY_MODEL_b7e4fa36033e47c2902b10b285009da3",
            "placeholder": "​",
            "style": "IPY_MODEL_6debc7125b3d4298b02c0da30dfc5ac8",
            "value": " 629/629 [00:00&lt;00:00, 9.58kB/s]"
          }
        },
        "0f45c47cbafb40df8070f564a6cff76b": {
          "model_module": "@jupyter-widgets/base",
          "model_name": "LayoutModel",
          "model_module_version": "1.2.0",
          "state": {
            "_model_module": "@jupyter-widgets/base",
            "_model_module_version": "1.2.0",
            "_model_name": "LayoutModel",
            "_view_count": null,
            "_view_module": "@jupyter-widgets/base",
            "_view_module_version": "1.2.0",
            "_view_name": "LayoutView",
            "align_content": null,
            "align_items": null,
            "align_self": null,
            "border": null,
            "bottom": null,
            "display": null,
            "flex": null,
            "flex_flow": null,
            "grid_area": null,
            "grid_auto_columns": null,
            "grid_auto_flow": null,
            "grid_auto_rows": null,
            "grid_column": null,
            "grid_gap": null,
            "grid_row": null,
            "grid_template_areas": null,
            "grid_template_columns": null,
            "grid_template_rows": null,
            "height": null,
            "justify_content": null,
            "justify_items": null,
            "left": null,
            "margin": null,
            "max_height": null,
            "max_width": null,
            "min_height": null,
            "min_width": null,
            "object_fit": null,
            "object_position": null,
            "order": null,
            "overflow": null,
            "overflow_x": null,
            "overflow_y": null,
            "padding": null,
            "right": null,
            "top": null,
            "visibility": null,
            "width": null
          }
        },
        "7c3464ad8af8455d8af40478d0d61800": {
          "model_module": "@jupyter-widgets/base",
          "model_name": "LayoutModel",
          "model_module_version": "1.2.0",
          "state": {
            "_model_module": "@jupyter-widgets/base",
            "_model_module_version": "1.2.0",
            "_model_name": "LayoutModel",
            "_view_count": null,
            "_view_module": "@jupyter-widgets/base",
            "_view_module_version": "1.2.0",
            "_view_name": "LayoutView",
            "align_content": null,
            "align_items": null,
            "align_self": null,
            "border": null,
            "bottom": null,
            "display": null,
            "flex": null,
            "flex_flow": null,
            "grid_area": null,
            "grid_auto_columns": null,
            "grid_auto_flow": null,
            "grid_auto_rows": null,
            "grid_column": null,
            "grid_gap": null,
            "grid_row": null,
            "grid_template_areas": null,
            "grid_template_columns": null,
            "grid_template_rows": null,
            "height": null,
            "justify_content": null,
            "justify_items": null,
            "left": null,
            "margin": null,
            "max_height": null,
            "max_width": null,
            "min_height": null,
            "min_width": null,
            "object_fit": null,
            "object_position": null,
            "order": null,
            "overflow": null,
            "overflow_x": null,
            "overflow_y": null,
            "padding": null,
            "right": null,
            "top": null,
            "visibility": null,
            "width": null
          }
        },
        "2070e4cec3b141e290e1f219650551bc": {
          "model_module": "@jupyter-widgets/controls",
          "model_name": "DescriptionStyleModel",
          "model_module_version": "1.5.0",
          "state": {
            "_model_module": "@jupyter-widgets/controls",
            "_model_module_version": "1.5.0",
            "_model_name": "DescriptionStyleModel",
            "_view_count": null,
            "_view_module": "@jupyter-widgets/base",
            "_view_module_version": "1.2.0",
            "_view_name": "StyleView",
            "description_width": ""
          }
        },
        "99b5b3107c1548dc9b9ecb374d4202c8": {
          "model_module": "@jupyter-widgets/base",
          "model_name": "LayoutModel",
          "model_module_version": "1.2.0",
          "state": {
            "_model_module": "@jupyter-widgets/base",
            "_model_module_version": "1.2.0",
            "_model_name": "LayoutModel",
            "_view_count": null,
            "_view_module": "@jupyter-widgets/base",
            "_view_module_version": "1.2.0",
            "_view_name": "LayoutView",
            "align_content": null,
            "align_items": null,
            "align_self": null,
            "border": null,
            "bottom": null,
            "display": null,
            "flex": null,
            "flex_flow": null,
            "grid_area": null,
            "grid_auto_columns": null,
            "grid_auto_flow": null,
            "grid_auto_rows": null,
            "grid_column": null,
            "grid_gap": null,
            "grid_row": null,
            "grid_template_areas": null,
            "grid_template_columns": null,
            "grid_template_rows": null,
            "height": null,
            "justify_content": null,
            "justify_items": null,
            "left": null,
            "margin": null,
            "max_height": null,
            "max_width": null,
            "min_height": null,
            "min_width": null,
            "object_fit": null,
            "object_position": null,
            "order": null,
            "overflow": null,
            "overflow_x": null,
            "overflow_y": null,
            "padding": null,
            "right": null,
            "top": null,
            "visibility": null,
            "width": null
          }
        },
        "f3fc009a0d4c4da59f8c8c37d055cd89": {
          "model_module": "@jupyter-widgets/controls",
          "model_name": "ProgressStyleModel",
          "model_module_version": "1.5.0",
          "state": {
            "_model_module": "@jupyter-widgets/controls",
            "_model_module_version": "1.5.0",
            "_model_name": "ProgressStyleModel",
            "_view_count": null,
            "_view_module": "@jupyter-widgets/base",
            "_view_module_version": "1.2.0",
            "_view_name": "StyleView",
            "bar_color": null,
            "description_width": ""
          }
        },
        "b7e4fa36033e47c2902b10b285009da3": {
          "model_module": "@jupyter-widgets/base",
          "model_name": "LayoutModel",
          "model_module_version": "1.2.0",
          "state": {
            "_model_module": "@jupyter-widgets/base",
            "_model_module_version": "1.2.0",
            "_model_name": "LayoutModel",
            "_view_count": null,
            "_view_module": "@jupyter-widgets/base",
            "_view_module_version": "1.2.0",
            "_view_name": "LayoutView",
            "align_content": null,
            "align_items": null,
            "align_self": null,
            "border": null,
            "bottom": null,
            "display": null,
            "flex": null,
            "flex_flow": null,
            "grid_area": null,
            "grid_auto_columns": null,
            "grid_auto_flow": null,
            "grid_auto_rows": null,
            "grid_column": null,
            "grid_gap": null,
            "grid_row": null,
            "grid_template_areas": null,
            "grid_template_columns": null,
            "grid_template_rows": null,
            "height": null,
            "justify_content": null,
            "justify_items": null,
            "left": null,
            "margin": null,
            "max_height": null,
            "max_width": null,
            "min_height": null,
            "min_width": null,
            "object_fit": null,
            "object_position": null,
            "order": null,
            "overflow": null,
            "overflow_x": null,
            "overflow_y": null,
            "padding": null,
            "right": null,
            "top": null,
            "visibility": null,
            "width": null
          }
        },
        "6debc7125b3d4298b02c0da30dfc5ac8": {
          "model_module": "@jupyter-widgets/controls",
          "model_name": "DescriptionStyleModel",
          "model_module_version": "1.5.0",
          "state": {
            "_model_module": "@jupyter-widgets/controls",
            "_model_module_version": "1.5.0",
            "_model_name": "DescriptionStyleModel",
            "_view_count": null,
            "_view_module": "@jupyter-widgets/base",
            "_view_module_version": "1.2.0",
            "_view_name": "StyleView",
            "description_width": ""
          }
        },
        "db28b3c084a147c7a650a3d56387e2ed": {
          "model_module": "@jupyter-widgets/controls",
          "model_name": "HBoxModel",
          "model_module_version": "1.5.0",
          "state": {
            "_dom_classes": [],
            "_model_module": "@jupyter-widgets/controls",
            "_model_module_version": "1.5.0",
            "_model_name": "HBoxModel",
            "_view_count": null,
            "_view_module": "@jupyter-widgets/controls",
            "_view_module_version": "1.5.0",
            "_view_name": "HBoxView",
            "box_style": "",
            "children": [
              "IPY_MODEL_3f7c8a42474d4a598970470578865f61",
              "IPY_MODEL_4ffac036b980441e8fe63c8efc7e3716",
              "IPY_MODEL_b47f1328f4cb45c3b9e60f968810e8ba"
            ],
            "layout": "IPY_MODEL_c14099f48921408c925deecc96a27cae"
          }
        },
        "3f7c8a42474d4a598970470578865f61": {
          "model_module": "@jupyter-widgets/controls",
          "model_name": "HTMLModel",
          "model_module_version": "1.5.0",
          "state": {
            "_dom_classes": [],
            "_model_module": "@jupyter-widgets/controls",
            "_model_module_version": "1.5.0",
            "_model_name": "HTMLModel",
            "_view_count": null,
            "_view_module": "@jupyter-widgets/controls",
            "_view_module_version": "1.5.0",
            "_view_name": "HTMLView",
            "description": "",
            "description_tooltip": null,
            "layout": "IPY_MODEL_5d7c991363f4410e8cde193aac4ba3c1",
            "placeholder": "​",
            "style": "IPY_MODEL_cd469453c5da4f01b55e38650a5b1609",
            "value": "Downloading pytorch_model.bin: 100%"
          }
        },
        "4ffac036b980441e8fe63c8efc7e3716": {
          "model_module": "@jupyter-widgets/controls",
          "model_name": "FloatProgressModel",
          "model_module_version": "1.5.0",
          "state": {
            "_dom_classes": [],
            "_model_module": "@jupyter-widgets/controls",
            "_model_module_version": "1.5.0",
            "_model_name": "FloatProgressModel",
            "_view_count": null,
            "_view_module": "@jupyter-widgets/controls",
            "_view_module_version": "1.5.0",
            "_view_name": "ProgressView",
            "bar_style": "success",
            "description": "",
            "description_tooltip": null,
            "layout": "IPY_MODEL_ddfe455d5e594b9a88ceb6f9aa4cc82f",
            "max": 267844284,
            "min": 0,
            "orientation": "horizontal",
            "style": "IPY_MODEL_1768fa707cd74c8796b97f7273d86ab2",
            "value": 267844284
          }
        },
        "b47f1328f4cb45c3b9e60f968810e8ba": {
          "model_module": "@jupyter-widgets/controls",
          "model_name": "HTMLModel",
          "model_module_version": "1.5.0",
          "state": {
            "_dom_classes": [],
            "_model_module": "@jupyter-widgets/controls",
            "_model_module_version": "1.5.0",
            "_model_name": "HTMLModel",
            "_view_count": null,
            "_view_module": "@jupyter-widgets/controls",
            "_view_module_version": "1.5.0",
            "_view_name": "HTMLView",
            "description": "",
            "description_tooltip": null,
            "layout": "IPY_MODEL_45f40875395b452897a2f7e19aff7214",
            "placeholder": "​",
            "style": "IPY_MODEL_c7be6e964d1f4513a4665d26b7eb30cb",
            "value": " 255M/255M [00:09&lt;00:00, 22.8MB/s]"
          }
        },
        "c14099f48921408c925deecc96a27cae": {
          "model_module": "@jupyter-widgets/base",
          "model_name": "LayoutModel",
          "model_module_version": "1.2.0",
          "state": {
            "_model_module": "@jupyter-widgets/base",
            "_model_module_version": "1.2.0",
            "_model_name": "LayoutModel",
            "_view_count": null,
            "_view_module": "@jupyter-widgets/base",
            "_view_module_version": "1.2.0",
            "_view_name": "LayoutView",
            "align_content": null,
            "align_items": null,
            "align_self": null,
            "border": null,
            "bottom": null,
            "display": null,
            "flex": null,
            "flex_flow": null,
            "grid_area": null,
            "grid_auto_columns": null,
            "grid_auto_flow": null,
            "grid_auto_rows": null,
            "grid_column": null,
            "grid_gap": null,
            "grid_row": null,
            "grid_template_areas": null,
            "grid_template_columns": null,
            "grid_template_rows": null,
            "height": null,
            "justify_content": null,
            "justify_items": null,
            "left": null,
            "margin": null,
            "max_height": null,
            "max_width": null,
            "min_height": null,
            "min_width": null,
            "object_fit": null,
            "object_position": null,
            "order": null,
            "overflow": null,
            "overflow_x": null,
            "overflow_y": null,
            "padding": null,
            "right": null,
            "top": null,
            "visibility": null,
            "width": null
          }
        },
        "5d7c991363f4410e8cde193aac4ba3c1": {
          "model_module": "@jupyter-widgets/base",
          "model_name": "LayoutModel",
          "model_module_version": "1.2.0",
          "state": {
            "_model_module": "@jupyter-widgets/base",
            "_model_module_version": "1.2.0",
            "_model_name": "LayoutModel",
            "_view_count": null,
            "_view_module": "@jupyter-widgets/base",
            "_view_module_version": "1.2.0",
            "_view_name": "LayoutView",
            "align_content": null,
            "align_items": null,
            "align_self": null,
            "border": null,
            "bottom": null,
            "display": null,
            "flex": null,
            "flex_flow": null,
            "grid_area": null,
            "grid_auto_columns": null,
            "grid_auto_flow": null,
            "grid_auto_rows": null,
            "grid_column": null,
            "grid_gap": null,
            "grid_row": null,
            "grid_template_areas": null,
            "grid_template_columns": null,
            "grid_template_rows": null,
            "height": null,
            "justify_content": null,
            "justify_items": null,
            "left": null,
            "margin": null,
            "max_height": null,
            "max_width": null,
            "min_height": null,
            "min_width": null,
            "object_fit": null,
            "object_position": null,
            "order": null,
            "overflow": null,
            "overflow_x": null,
            "overflow_y": null,
            "padding": null,
            "right": null,
            "top": null,
            "visibility": null,
            "width": null
          }
        },
        "cd469453c5da4f01b55e38650a5b1609": {
          "model_module": "@jupyter-widgets/controls",
          "model_name": "DescriptionStyleModel",
          "model_module_version": "1.5.0",
          "state": {
            "_model_module": "@jupyter-widgets/controls",
            "_model_module_version": "1.5.0",
            "_model_name": "DescriptionStyleModel",
            "_view_count": null,
            "_view_module": "@jupyter-widgets/base",
            "_view_module_version": "1.2.0",
            "_view_name": "StyleView",
            "description_width": ""
          }
        },
        "ddfe455d5e594b9a88ceb6f9aa4cc82f": {
          "model_module": "@jupyter-widgets/base",
          "model_name": "LayoutModel",
          "model_module_version": "1.2.0",
          "state": {
            "_model_module": "@jupyter-widgets/base",
            "_model_module_version": "1.2.0",
            "_model_name": "LayoutModel",
            "_view_count": null,
            "_view_module": "@jupyter-widgets/base",
            "_view_module_version": "1.2.0",
            "_view_name": "LayoutView",
            "align_content": null,
            "align_items": null,
            "align_self": null,
            "border": null,
            "bottom": null,
            "display": null,
            "flex": null,
            "flex_flow": null,
            "grid_area": null,
            "grid_auto_columns": null,
            "grid_auto_flow": null,
            "grid_auto_rows": null,
            "grid_column": null,
            "grid_gap": null,
            "grid_row": null,
            "grid_template_areas": null,
            "grid_template_columns": null,
            "grid_template_rows": null,
            "height": null,
            "justify_content": null,
            "justify_items": null,
            "left": null,
            "margin": null,
            "max_height": null,
            "max_width": null,
            "min_height": null,
            "min_width": null,
            "object_fit": null,
            "object_position": null,
            "order": null,
            "overflow": null,
            "overflow_x": null,
            "overflow_y": null,
            "padding": null,
            "right": null,
            "top": null,
            "visibility": null,
            "width": null
          }
        },
        "1768fa707cd74c8796b97f7273d86ab2": {
          "model_module": "@jupyter-widgets/controls",
          "model_name": "ProgressStyleModel",
          "model_module_version": "1.5.0",
          "state": {
            "_model_module": "@jupyter-widgets/controls",
            "_model_module_version": "1.5.0",
            "_model_name": "ProgressStyleModel",
            "_view_count": null,
            "_view_module": "@jupyter-widgets/base",
            "_view_module_version": "1.2.0",
            "_view_name": "StyleView",
            "bar_color": null,
            "description_width": ""
          }
        },
        "45f40875395b452897a2f7e19aff7214": {
          "model_module": "@jupyter-widgets/base",
          "model_name": "LayoutModel",
          "model_module_version": "1.2.0",
          "state": {
            "_model_module": "@jupyter-widgets/base",
            "_model_module_version": "1.2.0",
            "_model_name": "LayoutModel",
            "_view_count": null,
            "_view_module": "@jupyter-widgets/base",
            "_view_module_version": "1.2.0",
            "_view_name": "LayoutView",
            "align_content": null,
            "align_items": null,
            "align_self": null,
            "border": null,
            "bottom": null,
            "display": null,
            "flex": null,
            "flex_flow": null,
            "grid_area": null,
            "grid_auto_columns": null,
            "grid_auto_flow": null,
            "grid_auto_rows": null,
            "grid_column": null,
            "grid_gap": null,
            "grid_row": null,
            "grid_template_areas": null,
            "grid_template_columns": null,
            "grid_template_rows": null,
            "height": null,
            "justify_content": null,
            "justify_items": null,
            "left": null,
            "margin": null,
            "max_height": null,
            "max_width": null,
            "min_height": null,
            "min_width": null,
            "object_fit": null,
            "object_position": null,
            "order": null,
            "overflow": null,
            "overflow_x": null,
            "overflow_y": null,
            "padding": null,
            "right": null,
            "top": null,
            "visibility": null,
            "width": null
          }
        },
        "c7be6e964d1f4513a4665d26b7eb30cb": {
          "model_module": "@jupyter-widgets/controls",
          "model_name": "DescriptionStyleModel",
          "model_module_version": "1.5.0",
          "state": {
            "_model_module": "@jupyter-widgets/controls",
            "_model_module_version": "1.5.0",
            "_model_name": "DescriptionStyleModel",
            "_view_count": null,
            "_view_module": "@jupyter-widgets/base",
            "_view_module_version": "1.2.0",
            "_view_name": "StyleView",
            "description_width": ""
          }
        },
        "0ff2ff1628894771a5c6f4433a3a9266": {
          "model_module": "@jupyter-widgets/controls",
          "model_name": "HBoxModel",
          "model_module_version": "1.5.0",
          "state": {
            "_dom_classes": [],
            "_model_module": "@jupyter-widgets/controls",
            "_model_module_version": "1.5.0",
            "_model_name": "HBoxModel",
            "_view_count": null,
            "_view_module": "@jupyter-widgets/controls",
            "_view_module_version": "1.5.0",
            "_view_name": "HBoxView",
            "box_style": "",
            "children": [
              "IPY_MODEL_642a6d0c714a488c8952ee9c5d9015c8",
              "IPY_MODEL_fe4c30485d7b41e49bd11c3793692056",
              "IPY_MODEL_fcb4ab85f4eb44359532588d93b72d05"
            ],
            "layout": "IPY_MODEL_7ad8a41e3c264dff8d9af7e96ed7617a"
          }
        },
        "642a6d0c714a488c8952ee9c5d9015c8": {
          "model_module": "@jupyter-widgets/controls",
          "model_name": "HTMLModel",
          "model_module_version": "1.5.0",
          "state": {
            "_dom_classes": [],
            "_model_module": "@jupyter-widgets/controls",
            "_model_module_version": "1.5.0",
            "_model_name": "HTMLModel",
            "_view_count": null,
            "_view_module": "@jupyter-widgets/controls",
            "_view_module_version": "1.5.0",
            "_view_name": "HTMLView",
            "description": "",
            "description_tooltip": null,
            "layout": "IPY_MODEL_b7fda38a4cdb46a99be0329ff5b3f2e0",
            "placeholder": "​",
            "style": "IPY_MODEL_f534c8027e65493d867071667a9f00ad",
            "value": "Downloading tokenizer_config.json: 100%"
          }
        },
        "fe4c30485d7b41e49bd11c3793692056": {
          "model_module": "@jupyter-widgets/controls",
          "model_name": "FloatProgressModel",
          "model_module_version": "1.5.0",
          "state": {
            "_dom_classes": [],
            "_model_module": "@jupyter-widgets/controls",
            "_model_module_version": "1.5.0",
            "_model_name": "FloatProgressModel",
            "_view_count": null,
            "_view_module": "@jupyter-widgets/controls",
            "_view_module_version": "1.5.0",
            "_view_name": "ProgressView",
            "bar_style": "success",
            "description": "",
            "description_tooltip": null,
            "layout": "IPY_MODEL_3322e09f31f645aeb5ef0e06bd8079ad",
            "max": 48,
            "min": 0,
            "orientation": "horizontal",
            "style": "IPY_MODEL_9be22fbc878f4a78a22a140572a93983",
            "value": 48
          }
        },
        "fcb4ab85f4eb44359532588d93b72d05": {
          "model_module": "@jupyter-widgets/controls",
          "model_name": "HTMLModel",
          "model_module_version": "1.5.0",
          "state": {
            "_dom_classes": [],
            "_model_module": "@jupyter-widgets/controls",
            "_model_module_version": "1.5.0",
            "_model_name": "HTMLModel",
            "_view_count": null,
            "_view_module": "@jupyter-widgets/controls",
            "_view_module_version": "1.5.0",
            "_view_name": "HTMLView",
            "description": "",
            "description_tooltip": null,
            "layout": "IPY_MODEL_14e2206ce3b34a95b2af520160191e3f",
            "placeholder": "​",
            "style": "IPY_MODEL_bbabf00a39c740bcb9e5a910d0c2d454",
            "value": " 48.0/48.0 [00:00&lt;00:00, 385B/s]"
          }
        },
        "7ad8a41e3c264dff8d9af7e96ed7617a": {
          "model_module": "@jupyter-widgets/base",
          "model_name": "LayoutModel",
          "model_module_version": "1.2.0",
          "state": {
            "_model_module": "@jupyter-widgets/base",
            "_model_module_version": "1.2.0",
            "_model_name": "LayoutModel",
            "_view_count": null,
            "_view_module": "@jupyter-widgets/base",
            "_view_module_version": "1.2.0",
            "_view_name": "LayoutView",
            "align_content": null,
            "align_items": null,
            "align_self": null,
            "border": null,
            "bottom": null,
            "display": null,
            "flex": null,
            "flex_flow": null,
            "grid_area": null,
            "grid_auto_columns": null,
            "grid_auto_flow": null,
            "grid_auto_rows": null,
            "grid_column": null,
            "grid_gap": null,
            "grid_row": null,
            "grid_template_areas": null,
            "grid_template_columns": null,
            "grid_template_rows": null,
            "height": null,
            "justify_content": null,
            "justify_items": null,
            "left": null,
            "margin": null,
            "max_height": null,
            "max_width": null,
            "min_height": null,
            "min_width": null,
            "object_fit": null,
            "object_position": null,
            "order": null,
            "overflow": null,
            "overflow_x": null,
            "overflow_y": null,
            "padding": null,
            "right": null,
            "top": null,
            "visibility": null,
            "width": null
          }
        },
        "b7fda38a4cdb46a99be0329ff5b3f2e0": {
          "model_module": "@jupyter-widgets/base",
          "model_name": "LayoutModel",
          "model_module_version": "1.2.0",
          "state": {
            "_model_module": "@jupyter-widgets/base",
            "_model_module_version": "1.2.0",
            "_model_name": "LayoutModel",
            "_view_count": null,
            "_view_module": "@jupyter-widgets/base",
            "_view_module_version": "1.2.0",
            "_view_name": "LayoutView",
            "align_content": null,
            "align_items": null,
            "align_self": null,
            "border": null,
            "bottom": null,
            "display": null,
            "flex": null,
            "flex_flow": null,
            "grid_area": null,
            "grid_auto_columns": null,
            "grid_auto_flow": null,
            "grid_auto_rows": null,
            "grid_column": null,
            "grid_gap": null,
            "grid_row": null,
            "grid_template_areas": null,
            "grid_template_columns": null,
            "grid_template_rows": null,
            "height": null,
            "justify_content": null,
            "justify_items": null,
            "left": null,
            "margin": null,
            "max_height": null,
            "max_width": null,
            "min_height": null,
            "min_width": null,
            "object_fit": null,
            "object_position": null,
            "order": null,
            "overflow": null,
            "overflow_x": null,
            "overflow_y": null,
            "padding": null,
            "right": null,
            "top": null,
            "visibility": null,
            "width": null
          }
        },
        "f534c8027e65493d867071667a9f00ad": {
          "model_module": "@jupyter-widgets/controls",
          "model_name": "DescriptionStyleModel",
          "model_module_version": "1.5.0",
          "state": {
            "_model_module": "@jupyter-widgets/controls",
            "_model_module_version": "1.5.0",
            "_model_name": "DescriptionStyleModel",
            "_view_count": null,
            "_view_module": "@jupyter-widgets/base",
            "_view_module_version": "1.2.0",
            "_view_name": "StyleView",
            "description_width": ""
          }
        },
        "3322e09f31f645aeb5ef0e06bd8079ad": {
          "model_module": "@jupyter-widgets/base",
          "model_name": "LayoutModel",
          "model_module_version": "1.2.0",
          "state": {
            "_model_module": "@jupyter-widgets/base",
            "_model_module_version": "1.2.0",
            "_model_name": "LayoutModel",
            "_view_count": null,
            "_view_module": "@jupyter-widgets/base",
            "_view_module_version": "1.2.0",
            "_view_name": "LayoutView",
            "align_content": null,
            "align_items": null,
            "align_self": null,
            "border": null,
            "bottom": null,
            "display": null,
            "flex": null,
            "flex_flow": null,
            "grid_area": null,
            "grid_auto_columns": null,
            "grid_auto_flow": null,
            "grid_auto_rows": null,
            "grid_column": null,
            "grid_gap": null,
            "grid_row": null,
            "grid_template_areas": null,
            "grid_template_columns": null,
            "grid_template_rows": null,
            "height": null,
            "justify_content": null,
            "justify_items": null,
            "left": null,
            "margin": null,
            "max_height": null,
            "max_width": null,
            "min_height": null,
            "min_width": null,
            "object_fit": null,
            "object_position": null,
            "order": null,
            "overflow": null,
            "overflow_x": null,
            "overflow_y": null,
            "padding": null,
            "right": null,
            "top": null,
            "visibility": null,
            "width": null
          }
        },
        "9be22fbc878f4a78a22a140572a93983": {
          "model_module": "@jupyter-widgets/controls",
          "model_name": "ProgressStyleModel",
          "model_module_version": "1.5.0",
          "state": {
            "_model_module": "@jupyter-widgets/controls",
            "_model_module_version": "1.5.0",
            "_model_name": "ProgressStyleModel",
            "_view_count": null,
            "_view_module": "@jupyter-widgets/base",
            "_view_module_version": "1.2.0",
            "_view_name": "StyleView",
            "bar_color": null,
            "description_width": ""
          }
        },
        "14e2206ce3b34a95b2af520160191e3f": {
          "model_module": "@jupyter-widgets/base",
          "model_name": "LayoutModel",
          "model_module_version": "1.2.0",
          "state": {
            "_model_module": "@jupyter-widgets/base",
            "_model_module_version": "1.2.0",
            "_model_name": "LayoutModel",
            "_view_count": null,
            "_view_module": "@jupyter-widgets/base",
            "_view_module_version": "1.2.0",
            "_view_name": "LayoutView",
            "align_content": null,
            "align_items": null,
            "align_self": null,
            "border": null,
            "bottom": null,
            "display": null,
            "flex": null,
            "flex_flow": null,
            "grid_area": null,
            "grid_auto_columns": null,
            "grid_auto_flow": null,
            "grid_auto_rows": null,
            "grid_column": null,
            "grid_gap": null,
            "grid_row": null,
            "grid_template_areas": null,
            "grid_template_columns": null,
            "grid_template_rows": null,
            "height": null,
            "justify_content": null,
            "justify_items": null,
            "left": null,
            "margin": null,
            "max_height": null,
            "max_width": null,
            "min_height": null,
            "min_width": null,
            "object_fit": null,
            "object_position": null,
            "order": null,
            "overflow": null,
            "overflow_x": null,
            "overflow_y": null,
            "padding": null,
            "right": null,
            "top": null,
            "visibility": null,
            "width": null
          }
        },
        "bbabf00a39c740bcb9e5a910d0c2d454": {
          "model_module": "@jupyter-widgets/controls",
          "model_name": "DescriptionStyleModel",
          "model_module_version": "1.5.0",
          "state": {
            "_model_module": "@jupyter-widgets/controls",
            "_model_module_version": "1.5.0",
            "_model_name": "DescriptionStyleModel",
            "_view_count": null,
            "_view_module": "@jupyter-widgets/base",
            "_view_module_version": "1.2.0",
            "_view_name": "StyleView",
            "description_width": ""
          }
        },
        "bff470bd775f481e93813825f6e397ed": {
          "model_module": "@jupyter-widgets/controls",
          "model_name": "HBoxModel",
          "model_module_version": "1.5.0",
          "state": {
            "_dom_classes": [],
            "_model_module": "@jupyter-widgets/controls",
            "_model_module_version": "1.5.0",
            "_model_name": "HBoxModel",
            "_view_count": null,
            "_view_module": "@jupyter-widgets/controls",
            "_view_module_version": "1.5.0",
            "_view_name": "HBoxView",
            "box_style": "",
            "children": [
              "IPY_MODEL_5eb383554da8466c9d6543577d384463",
              "IPY_MODEL_d8ed0f774ce34749905e121ec0501f7c",
              "IPY_MODEL_ac66f873c3e64208ac487a810605116a"
            ],
            "layout": "IPY_MODEL_4fd9045072fe4ea9935fb81e0efd9fb5"
          }
        },
        "5eb383554da8466c9d6543577d384463": {
          "model_module": "@jupyter-widgets/controls",
          "model_name": "HTMLModel",
          "model_module_version": "1.5.0",
          "state": {
            "_dom_classes": [],
            "_model_module": "@jupyter-widgets/controls",
            "_model_module_version": "1.5.0",
            "_model_name": "HTMLModel",
            "_view_count": null,
            "_view_module": "@jupyter-widgets/controls",
            "_view_module_version": "1.5.0",
            "_view_name": "HTMLView",
            "description": "",
            "description_tooltip": null,
            "layout": "IPY_MODEL_c89c405a9621419993d41031e437ff1d",
            "placeholder": "​",
            "style": "IPY_MODEL_eb8c6dea30b0491093aa3f4618992251",
            "value": "Downloading vocab.txt: 100%"
          }
        },
        "d8ed0f774ce34749905e121ec0501f7c": {
          "model_module": "@jupyter-widgets/controls",
          "model_name": "FloatProgressModel",
          "model_module_version": "1.5.0",
          "state": {
            "_dom_classes": [],
            "_model_module": "@jupyter-widgets/controls",
            "_model_module_version": "1.5.0",
            "_model_name": "FloatProgressModel",
            "_view_count": null,
            "_view_module": "@jupyter-widgets/controls",
            "_view_module_version": "1.5.0",
            "_view_name": "ProgressView",
            "bar_style": "success",
            "description": "",
            "description_tooltip": null,
            "layout": "IPY_MODEL_b7d6db1dc17a4d9ebf13b18d6e2f3f61",
            "max": 231508,
            "min": 0,
            "orientation": "horizontal",
            "style": "IPY_MODEL_560dec191a0c4758b0bf8356aa677787",
            "value": 231508
          }
        },
        "ac66f873c3e64208ac487a810605116a": {
          "model_module": "@jupyter-widgets/controls",
          "model_name": "HTMLModel",
          "model_module_version": "1.5.0",
          "state": {
            "_dom_classes": [],
            "_model_module": "@jupyter-widgets/controls",
            "_model_module_version": "1.5.0",
            "_model_name": "HTMLModel",
            "_view_count": null,
            "_view_module": "@jupyter-widgets/controls",
            "_view_module_version": "1.5.0",
            "_view_name": "HTMLView",
            "description": "",
            "description_tooltip": null,
            "layout": "IPY_MODEL_cd012fb0b26949ef8b43dbcfc23590bd",
            "placeholder": "​",
            "style": "IPY_MODEL_a3a08c72a6464f8fbd7e7aad72b604c4",
            "value": " 226k/226k [00:00&lt;00:00, 348kB/s]"
          }
        },
        "4fd9045072fe4ea9935fb81e0efd9fb5": {
          "model_module": "@jupyter-widgets/base",
          "model_name": "LayoutModel",
          "model_module_version": "1.2.0",
          "state": {
            "_model_module": "@jupyter-widgets/base",
            "_model_module_version": "1.2.0",
            "_model_name": "LayoutModel",
            "_view_count": null,
            "_view_module": "@jupyter-widgets/base",
            "_view_module_version": "1.2.0",
            "_view_name": "LayoutView",
            "align_content": null,
            "align_items": null,
            "align_self": null,
            "border": null,
            "bottom": null,
            "display": null,
            "flex": null,
            "flex_flow": null,
            "grid_area": null,
            "grid_auto_columns": null,
            "grid_auto_flow": null,
            "grid_auto_rows": null,
            "grid_column": null,
            "grid_gap": null,
            "grid_row": null,
            "grid_template_areas": null,
            "grid_template_columns": null,
            "grid_template_rows": null,
            "height": null,
            "justify_content": null,
            "justify_items": null,
            "left": null,
            "margin": null,
            "max_height": null,
            "max_width": null,
            "min_height": null,
            "min_width": null,
            "object_fit": null,
            "object_position": null,
            "order": null,
            "overflow": null,
            "overflow_x": null,
            "overflow_y": null,
            "padding": null,
            "right": null,
            "top": null,
            "visibility": null,
            "width": null
          }
        },
        "c89c405a9621419993d41031e437ff1d": {
          "model_module": "@jupyter-widgets/base",
          "model_name": "LayoutModel",
          "model_module_version": "1.2.0",
          "state": {
            "_model_module": "@jupyter-widgets/base",
            "_model_module_version": "1.2.0",
            "_model_name": "LayoutModel",
            "_view_count": null,
            "_view_module": "@jupyter-widgets/base",
            "_view_module_version": "1.2.0",
            "_view_name": "LayoutView",
            "align_content": null,
            "align_items": null,
            "align_self": null,
            "border": null,
            "bottom": null,
            "display": null,
            "flex": null,
            "flex_flow": null,
            "grid_area": null,
            "grid_auto_columns": null,
            "grid_auto_flow": null,
            "grid_auto_rows": null,
            "grid_column": null,
            "grid_gap": null,
            "grid_row": null,
            "grid_template_areas": null,
            "grid_template_columns": null,
            "grid_template_rows": null,
            "height": null,
            "justify_content": null,
            "justify_items": null,
            "left": null,
            "margin": null,
            "max_height": null,
            "max_width": null,
            "min_height": null,
            "min_width": null,
            "object_fit": null,
            "object_position": null,
            "order": null,
            "overflow": null,
            "overflow_x": null,
            "overflow_y": null,
            "padding": null,
            "right": null,
            "top": null,
            "visibility": null,
            "width": null
          }
        },
        "eb8c6dea30b0491093aa3f4618992251": {
          "model_module": "@jupyter-widgets/controls",
          "model_name": "DescriptionStyleModel",
          "model_module_version": "1.5.0",
          "state": {
            "_model_module": "@jupyter-widgets/controls",
            "_model_module_version": "1.5.0",
            "_model_name": "DescriptionStyleModel",
            "_view_count": null,
            "_view_module": "@jupyter-widgets/base",
            "_view_module_version": "1.2.0",
            "_view_name": "StyleView",
            "description_width": ""
          }
        },
        "b7d6db1dc17a4d9ebf13b18d6e2f3f61": {
          "model_module": "@jupyter-widgets/base",
          "model_name": "LayoutModel",
          "model_module_version": "1.2.0",
          "state": {
            "_model_module": "@jupyter-widgets/base",
            "_model_module_version": "1.2.0",
            "_model_name": "LayoutModel",
            "_view_count": null,
            "_view_module": "@jupyter-widgets/base",
            "_view_module_version": "1.2.0",
            "_view_name": "LayoutView",
            "align_content": null,
            "align_items": null,
            "align_self": null,
            "border": null,
            "bottom": null,
            "display": null,
            "flex": null,
            "flex_flow": null,
            "grid_area": null,
            "grid_auto_columns": null,
            "grid_auto_flow": null,
            "grid_auto_rows": null,
            "grid_column": null,
            "grid_gap": null,
            "grid_row": null,
            "grid_template_areas": null,
            "grid_template_columns": null,
            "grid_template_rows": null,
            "height": null,
            "justify_content": null,
            "justify_items": null,
            "left": null,
            "margin": null,
            "max_height": null,
            "max_width": null,
            "min_height": null,
            "min_width": null,
            "object_fit": null,
            "object_position": null,
            "order": null,
            "overflow": null,
            "overflow_x": null,
            "overflow_y": null,
            "padding": null,
            "right": null,
            "top": null,
            "visibility": null,
            "width": null
          }
        },
        "560dec191a0c4758b0bf8356aa677787": {
          "model_module": "@jupyter-widgets/controls",
          "model_name": "ProgressStyleModel",
          "model_module_version": "1.5.0",
          "state": {
            "_model_module": "@jupyter-widgets/controls",
            "_model_module_version": "1.5.0",
            "_model_name": "ProgressStyleModel",
            "_view_count": null,
            "_view_module": "@jupyter-widgets/base",
            "_view_module_version": "1.2.0",
            "_view_name": "StyleView",
            "bar_color": null,
            "description_width": ""
          }
        },
        "cd012fb0b26949ef8b43dbcfc23590bd": {
          "model_module": "@jupyter-widgets/base",
          "model_name": "LayoutModel",
          "model_module_version": "1.2.0",
          "state": {
            "_model_module": "@jupyter-widgets/base",
            "_model_module_version": "1.2.0",
            "_model_name": "LayoutModel",
            "_view_count": null,
            "_view_module": "@jupyter-widgets/base",
            "_view_module_version": "1.2.0",
            "_view_name": "LayoutView",
            "align_content": null,
            "align_items": null,
            "align_self": null,
            "border": null,
            "bottom": null,
            "display": null,
            "flex": null,
            "flex_flow": null,
            "grid_area": null,
            "grid_auto_columns": null,
            "grid_auto_flow": null,
            "grid_auto_rows": null,
            "grid_column": null,
            "grid_gap": null,
            "grid_row": null,
            "grid_template_areas": null,
            "grid_template_columns": null,
            "grid_template_rows": null,
            "height": null,
            "justify_content": null,
            "justify_items": null,
            "left": null,
            "margin": null,
            "max_height": null,
            "max_width": null,
            "min_height": null,
            "min_width": null,
            "object_fit": null,
            "object_position": null,
            "order": null,
            "overflow": null,
            "overflow_x": null,
            "overflow_y": null,
            "padding": null,
            "right": null,
            "top": null,
            "visibility": null,
            "width": null
          }
        },
        "a3a08c72a6464f8fbd7e7aad72b604c4": {
          "model_module": "@jupyter-widgets/controls",
          "model_name": "DescriptionStyleModel",
          "model_module_version": "1.5.0",
          "state": {
            "_model_module": "@jupyter-widgets/controls",
            "_model_module_version": "1.5.0",
            "_model_name": "DescriptionStyleModel",
            "_view_count": null,
            "_view_module": "@jupyter-widgets/base",
            "_view_module_version": "1.2.0",
            "_view_name": "StyleView",
            "description_width": ""
          }
        }
      }
    }
  },
  "nbformat": 4,
  "nbformat_minor": 0
}